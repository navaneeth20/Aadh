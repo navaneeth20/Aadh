{
  "nbformat": 4,
  "nbformat_minor": 0,
  "metadata": {
    "colab": {
      "name": "tf2beta.ipynb",
      "provenance": [],
      "collapsed_sections": [
        "oDJ1rKWIzzKo",
        "2fMa1komCEG5",
        "Xv7NSrI9CrCY",
        "lWTsWt8wbPn1"
      ],
      "include_colab_link": true
    },
    "kernelspec": {
      "name": "python3",
      "display_name": "Python 3"
    }
  },
  "cells": [
    {
      "cell_type": "markdown",
      "metadata": {
        "id": "view-in-github",
        "colab_type": "text"
      },
      "source": [
        "<a href=\"https://colab.research.google.com/github/navaneeth20/Aadh/blob/master/tf2beta.ipynb\" target=\"_parent\"><img src=\"https://colab.research.google.com/assets/colab-badge.svg\" alt=\"Open In Colab\"/></a>"
      ]
    },
    {
      "cell_type": "markdown",
      "metadata": {
        "id": "VHDIkZBPLPNI"
      },
      "source": [
        "#Perceptron Alias Sigmoid Neuron:\n"
      ]
    },
    {
      "cell_type": "markdown",
      "metadata": {
        "id": "iYLaUVSdLeGN"
      },
      "source": [
        "\\begin{eqnarray}\n",
        "  \\mbox{output} & = & \\left\\{ \\begin{array}{ll}\n",
        "      0 & \\mbox{if } \\sum_j w_j x_j \\leq \\mbox{ threshold} \\\\\n",
        "      1 & \\mbox{if } \\sum_j w_j x_j > \\mbox{ threshold}\n",
        "      \\end{array} \\right.\n",
        "\\end{eqnarray}"
      ]
    },
    {
      "cell_type": "markdown",
      "metadata": {
        "id": "n_qPfcbrLpUe"
      },
      "source": [
        " If  $ \\large YOU $ are the  $ \\huge NLP $ Guy then this is the first basic perceptron where the Queries and the Logic Behind it will be taken into consideration."
      ]
    },
    {
      "cell_type": "markdown",
      "metadata": {
        "id": "NBHsNy2eMjwB"
      },
      "source": [
        "\\begin{eqnarray}\n",
        "  \\mbox{output} = \\left\\{ \n",
        "    \\begin{array}{ll} \n",
        "      0 & \\mbox{if } w\\cdot x + b \\leq 0 \\\\\n",
        "      1 & \\mbox{if } w\\cdot x + b > 0\n",
        "    \\end{array}\n",
        "  \\right.\n",
        "\\end{eqnarray}"
      ]
    },
    {
      "cell_type": "markdown",
      "metadata": {
        "id": "vtPxtK8TLlie"
      },
      "source": [
        "![array](http://neuralnetworksanddeeplearning.com/images/tikz2.png)"
      ]
    },
    {
      "cell_type": "markdown",
      "metadata": {
        "id": "nXvIRbbINfWv"
      },
      "source": [
        "**********************\n",
        "#All YOUR outputs will be the LOGISTIC function\n",
        "***************************\n",
        "here in the above we described what but now we will say how by programing"
      ]
    },
    {
      "cell_type": "code",
      "metadata": {
        "id": "IT8cpsP2TL0f",
        "colab": {
          "base_uri": "https://localhost:8080/",
          "height": 1000
        },
        "outputId": "0584f00a-2783-4a83-c62a-648c5be189e6"
      },
      "source": [
        "!pip install --upgrade tensorflow"
      ],
      "execution_count": null,
      "outputs": [
        {
          "output_type": "stream",
          "text": [
            "Collecting tensorflow\n",
            "\u001b[?25l  Downloading https://files.pythonhosted.org/packages/85/d4/c0cd1057b331bc38b65478302114194bd8e1b9c2bbc06e300935c0e93d90/tensorflow-2.1.0-cp36-cp36m-manylinux2010_x86_64.whl (421.8MB)\n",
            "\u001b[K     |████████████████████████████████| 421.8MB 35kB/s \n",
            "\u001b[?25hRequirement already satisfied, skipping upgrade: astor>=0.6.0 in /usr/local/lib/python3.6/dist-packages (from tensorflow) (0.8.1)\n",
            "Requirement already satisfied, skipping upgrade: keras-preprocessing>=1.1.0 in /usr/local/lib/python3.6/dist-packages (from tensorflow) (1.1.0)\n",
            "Requirement already satisfied, skipping upgrade: protobuf>=3.8.0 in /usr/local/lib/python3.6/dist-packages (from tensorflow) (3.10.0)\n",
            "Collecting tensorflow-estimator<2.2.0,>=2.1.0rc0\n",
            "\u001b[?25l  Downloading https://files.pythonhosted.org/packages/18/90/b77c328a1304437ab1310b463e533fa7689f4bfc41549593056d812fab8e/tensorflow_estimator-2.1.0-py2.py3-none-any.whl (448kB)\n",
            "\u001b[K     |████████████████████████████████| 450kB 48.1MB/s \n",
            "\u001b[?25hRequirement already satisfied, skipping upgrade: grpcio>=1.8.6 in /usr/local/lib/python3.6/dist-packages (from tensorflow) (1.15.0)\n",
            "Requirement already satisfied, skipping upgrade: numpy<2.0,>=1.16.0 in /usr/local/lib/python3.6/dist-packages (from tensorflow) (1.17.5)\n",
            "Collecting tensorboard<2.2.0,>=2.1.0\n",
            "\u001b[?25l  Downloading https://files.pythonhosted.org/packages/40/23/53ffe290341cd0855d595b0a2e7485932f473798af173bbe3a584b99bb06/tensorboard-2.1.0-py3-none-any.whl (3.8MB)\n",
            "\u001b[K     |████████████████████████████████| 3.8MB 38.0MB/s \n",
            "\u001b[?25hRequirement already satisfied, skipping upgrade: termcolor>=1.1.0 in /usr/local/lib/python3.6/dist-packages (from tensorflow) (1.1.0)\n",
            "Requirement already satisfied, skipping upgrade: wrapt>=1.11.1 in /usr/local/lib/python3.6/dist-packages (from tensorflow) (1.11.2)\n",
            "Requirement already satisfied, skipping upgrade: wheel>=0.26; python_version >= \"3\" in /usr/local/lib/python3.6/dist-packages (from tensorflow) (0.34.2)\n",
            "Requirement already satisfied, skipping upgrade: opt-einsum>=2.3.2 in /usr/local/lib/python3.6/dist-packages (from tensorflow) (3.1.0)\n",
            "Requirement already satisfied, skipping upgrade: scipy==1.4.1; python_version >= \"3\" in /usr/local/lib/python3.6/dist-packages (from tensorflow) (1.4.1)\n",
            "Requirement already satisfied, skipping upgrade: google-pasta>=0.1.6 in /usr/local/lib/python3.6/dist-packages (from tensorflow) (0.1.8)\n",
            "Requirement already satisfied, skipping upgrade: keras-applications>=1.0.8 in /usr/local/lib/python3.6/dist-packages (from tensorflow) (1.0.8)\n",
            "Requirement already satisfied, skipping upgrade: absl-py>=0.7.0 in /usr/local/lib/python3.6/dist-packages (from tensorflow) (0.9.0)\n",
            "Requirement already satisfied, skipping upgrade: six>=1.12.0 in /usr/local/lib/python3.6/dist-packages (from tensorflow) (1.12.0)\n",
            "Requirement already satisfied, skipping upgrade: gast==0.2.2 in /usr/local/lib/python3.6/dist-packages (from tensorflow) (0.2.2)\n",
            "Requirement already satisfied, skipping upgrade: setuptools in /usr/local/lib/python3.6/dist-packages (from protobuf>=3.8.0->tensorflow) (45.1.0)\n",
            "Requirement already satisfied, skipping upgrade: markdown>=2.6.8 in /usr/local/lib/python3.6/dist-packages (from tensorboard<2.2.0,>=2.1.0->tensorflow) (3.1.1)\n",
            "Collecting google-auth<2,>=1.6.3\n",
            "\u001b[?25l  Downloading https://files.pythonhosted.org/packages/1c/6d/7aae38a9022f982cf8167775c7fc299f203417b698c27080ce09060bba07/google_auth-1.11.0-py2.py3-none-any.whl (76kB)\n",
            "\u001b[K     |████████████████████████████████| 81kB 9.1MB/s \n",
            "\u001b[?25hRequirement already satisfied, skipping upgrade: requests<3,>=2.21.0 in /usr/local/lib/python3.6/dist-packages (from tensorboard<2.2.0,>=2.1.0->tensorflow) (2.21.0)\n",
            "Requirement already satisfied, skipping upgrade: werkzeug>=0.11.15 in /usr/local/lib/python3.6/dist-packages (from tensorboard<2.2.0,>=2.1.0->tensorflow) (0.16.1)\n",
            "Requirement already satisfied, skipping upgrade: google-auth-oauthlib<0.5,>=0.4.1 in /usr/local/lib/python3.6/dist-packages (from tensorboard<2.2.0,>=2.1.0->tensorflow) (0.4.1)\n",
            "Requirement already satisfied, skipping upgrade: h5py in /usr/local/lib/python3.6/dist-packages (from keras-applications>=1.0.8->tensorflow) (2.8.0)\n",
            "Requirement already satisfied, skipping upgrade: cachetools<5.0,>=2.0.0 in /usr/local/lib/python3.6/dist-packages (from google-auth<2,>=1.6.3->tensorboard<2.2.0,>=2.1.0->tensorflow) (4.0.0)\n",
            "Requirement already satisfied, skipping upgrade: pyasn1-modules>=0.2.1 in /usr/local/lib/python3.6/dist-packages (from google-auth<2,>=1.6.3->tensorboard<2.2.0,>=2.1.0->tensorflow) (0.2.8)\n",
            "Requirement already satisfied, skipping upgrade: rsa<4.1,>=3.1.4 in /usr/local/lib/python3.6/dist-packages (from google-auth<2,>=1.6.3->tensorboard<2.2.0,>=2.1.0->tensorflow) (4.0)\n",
            "Requirement already satisfied, skipping upgrade: urllib3<1.25,>=1.21.1 in /usr/local/lib/python3.6/dist-packages (from requests<3,>=2.21.0->tensorboard<2.2.0,>=2.1.0->tensorflow) (1.24.3)\n",
            "Requirement already satisfied, skipping upgrade: idna<2.9,>=2.5 in /usr/local/lib/python3.6/dist-packages (from requests<3,>=2.21.0->tensorboard<2.2.0,>=2.1.0->tensorflow) (2.8)\n",
            "Requirement already satisfied, skipping upgrade: certifi>=2017.4.17 in /usr/local/lib/python3.6/dist-packages (from requests<3,>=2.21.0->tensorboard<2.2.0,>=2.1.0->tensorflow) (2019.11.28)\n",
            "Requirement already satisfied, skipping upgrade: chardet<3.1.0,>=3.0.2 in /usr/local/lib/python3.6/dist-packages (from requests<3,>=2.21.0->tensorboard<2.2.0,>=2.1.0->tensorflow) (3.0.4)\n",
            "Requirement already satisfied, skipping upgrade: requests-oauthlib>=0.7.0 in /usr/local/lib/python3.6/dist-packages (from google-auth-oauthlib<0.5,>=0.4.1->tensorboard<2.2.0,>=2.1.0->tensorflow) (1.3.0)\n",
            "Requirement already satisfied, skipping upgrade: pyasn1<0.5.0,>=0.4.6 in /usr/local/lib/python3.6/dist-packages (from pyasn1-modules>=0.2.1->google-auth<2,>=1.6.3->tensorboard<2.2.0,>=2.1.0->tensorflow) (0.4.8)\n",
            "Requirement already satisfied, skipping upgrade: oauthlib>=3.0.0 in /usr/local/lib/python3.6/dist-packages (from requests-oauthlib>=0.7.0->google-auth-oauthlib<0.5,>=0.4.1->tensorboard<2.2.0,>=2.1.0->tensorflow) (3.1.0)\n",
            "\u001b[31mERROR: tensorboard 2.1.0 has requirement grpcio>=1.24.3, but you'll have grpcio 1.15.0 which is incompatible.\u001b[0m\n",
            "\u001b[31mERROR: google-colab 1.0.0 has requirement google-auth~=1.4.0, but you'll have google-auth 1.11.0 which is incompatible.\u001b[0m\n",
            "Installing collected packages: tensorflow-estimator, google-auth, tensorboard, tensorflow\n",
            "  Found existing installation: tensorflow-estimator 1.15.1\n",
            "    Uninstalling tensorflow-estimator-1.15.1:\n",
            "      Successfully uninstalled tensorflow-estimator-1.15.1\n",
            "  Found existing installation: google-auth 1.4.2\n",
            "    Uninstalling google-auth-1.4.2:\n",
            "      Successfully uninstalled google-auth-1.4.2\n",
            "  Found existing installation: tensorboard 1.15.0\n",
            "    Uninstalling tensorboard-1.15.0:\n",
            "      Successfully uninstalled tensorboard-1.15.0\n",
            "  Found existing installation: tensorflow 1.15.0\n",
            "    Uninstalling tensorflow-1.15.0:\n",
            "      Successfully uninstalled tensorflow-1.15.0\n",
            "Successfully installed google-auth-1.11.0 tensorboard-2.1.0 tensorflow-2.1.0 tensorflow-estimator-2.1.0\n"
          ],
          "name": "stdout"
        },
        {
          "output_type": "display_data",
          "data": {
            "application/vnd.colab-display-data+json": {
              "pip_warning": {
                "packages": [
                  "google"
                ]
              }
            }
          },
          "metadata": {
            "tags": []
          }
        }
      ]
    },
    {
      "cell_type": "code",
      "metadata": {
        "id": "HCZzGMBYTOwb",
        "colab": {
          "base_uri": "https://localhost:8080/",
          "height": 34
        },
        "outputId": "fe8ac2cd-4c8b-4dc2-8633-f27b3779fa45"
      },
      "source": [
        "import tensorflow as tf\n",
        "tf.__version__"
      ],
      "execution_count": null,
      "outputs": [
        {
          "output_type": "execute_result",
          "data": {
            "text/plain": [
              "'2.1.0'"
            ]
          },
          "metadata": {
            "tags": []
          },
          "execution_count": 2
        }
      ]
    },
    {
      "cell_type": "code",
      "metadata": {
        "id": "HWpOkIXgTaiK",
        "colab": {
          "base_uri": "https://localhost:8080/",
          "height": 649
        },
        "outputId": "d3a6e0e2-6df2-4d71-abce-2905f618a457"
      },
      "source": [
        "! pip install tensorflow==2.0.0-beta1 "
      ],
      "execution_count": null,
      "outputs": [
        {
          "output_type": "stream",
          "text": [
            "Collecting tensorflow==2.0.0-beta1\n",
            "\u001b[?25l  Downloading https://files.pythonhosted.org/packages/29/6c/2c9a5c4d095c63c2fb37d20def0e4f92685f7aee9243d6aae25862694fd1/tensorflow-2.0.0b1-cp36-cp36m-manylinux1_x86_64.whl (87.9MB)\n",
            "\u001b[K     |████████████████████████████████| 87.9MB 110kB/s \n",
            "\u001b[?25hRequirement already satisfied: keras-applications>=1.0.6 in /usr/local/lib/python3.6/dist-packages (from tensorflow==2.0.0-beta1) (1.0.8)\n",
            "Requirement already satisfied: absl-py>=0.7.0 in /usr/local/lib/python3.6/dist-packages (from tensorflow==2.0.0-beta1) (0.9.0)\n",
            "Requirement already satisfied: google-pasta>=0.1.6 in /usr/local/lib/python3.6/dist-packages (from tensorflow==2.0.0-beta1) (0.1.8)\n",
            "Requirement already satisfied: six>=1.10.0 in /usr/local/lib/python3.6/dist-packages (from tensorflow==2.0.0-beta1) (1.12.0)\n",
            "Requirement already satisfied: astor>=0.6.0 in /usr/local/lib/python3.6/dist-packages (from tensorflow==2.0.0-beta1) (0.8.1)\n",
            "Requirement already satisfied: numpy<2.0,>=1.14.5 in /usr/local/lib/python3.6/dist-packages (from tensorflow==2.0.0-beta1) (1.17.5)\n",
            "Requirement already satisfied: termcolor>=1.1.0 in /usr/local/lib/python3.6/dist-packages (from tensorflow==2.0.0-beta1) (1.1.0)\n",
            "Collecting tb-nightly<1.14.0a20190604,>=1.14.0a20190603\n",
            "\u001b[?25l  Downloading https://files.pythonhosted.org/packages/a4/96/571b875cd81dda9d5dfa1422a4f9d749e67c0a8d4f4f0b33a4e5f5f35e27/tb_nightly-1.14.0a20190603-py3-none-any.whl (3.1MB)\n",
            "\u001b[K     |████████████████████████████████| 3.1MB 45.3MB/s \n",
            "\u001b[?25hRequirement already satisfied: gast>=0.2.0 in /usr/local/lib/python3.6/dist-packages (from tensorflow==2.0.0-beta1) (0.2.2)\n",
            "Requirement already satisfied: wrapt>=1.11.1 in /usr/local/lib/python3.6/dist-packages (from tensorflow==2.0.0-beta1) (1.11.2)\n",
            "Collecting tf-estimator-nightly<1.14.0.dev2019060502,>=1.14.0.dev2019060501\n",
            "\u001b[?25l  Downloading https://files.pythonhosted.org/packages/32/dd/99c47dd007dcf10d63fd895611b063732646f23059c618a373e85019eb0e/tf_estimator_nightly-1.14.0.dev2019060501-py2.py3-none-any.whl (496kB)\n",
            "\u001b[K     |████████████████████████████████| 501kB 11.4MB/s \n",
            "\u001b[?25hRequirement already satisfied: grpcio>=1.8.6 in /usr/local/lib/python3.6/dist-packages (from tensorflow==2.0.0-beta1) (1.15.0)\n",
            "Requirement already satisfied: protobuf>=3.6.1 in /usr/local/lib/python3.6/dist-packages (from tensorflow==2.0.0-beta1) (3.10.0)\n",
            "Requirement already satisfied: keras-preprocessing>=1.0.5 in /usr/local/lib/python3.6/dist-packages (from tensorflow==2.0.0-beta1) (1.1.0)\n",
            "Requirement already satisfied: wheel>=0.26 in /usr/local/lib/python3.6/dist-packages (from tensorflow==2.0.0-beta1) (0.34.2)\n",
            "Requirement already satisfied: h5py in /usr/local/lib/python3.6/dist-packages (from keras-applications>=1.0.6->tensorflow==2.0.0-beta1) (2.8.0)\n",
            "Requirement already satisfied: markdown>=2.6.8 in /usr/local/lib/python3.6/dist-packages (from tb-nightly<1.14.0a20190604,>=1.14.0a20190603->tensorflow==2.0.0-beta1) (3.1.1)\n",
            "Requirement already satisfied: werkzeug>=0.11.15 in /usr/local/lib/python3.6/dist-packages (from tb-nightly<1.14.0a20190604,>=1.14.0a20190603->tensorflow==2.0.0-beta1) (0.16.1)\n",
            "Requirement already satisfied: setuptools>=41.0.0 in /usr/local/lib/python3.6/dist-packages (from tb-nightly<1.14.0a20190604,>=1.14.0a20190603->tensorflow==2.0.0-beta1) (45.1.0)\n",
            "Installing collected packages: tb-nightly, tf-estimator-nightly, tensorflow\n",
            "  Found existing installation: tensorflow 2.1.0\n",
            "    Uninstalling tensorflow-2.1.0:\n",
            "      Successfully uninstalled tensorflow-2.1.0\n",
            "Successfully installed tb-nightly-1.14.0a20190603 tensorflow-2.0.0b1 tf-estimator-nightly-1.14.0.dev2019060501\n"
          ],
          "name": "stdout"
        },
        {
          "output_type": "display_data",
          "data": {
            "application/vnd.colab-display-data+json": {
              "pip_warning": {
                "packages": [
                  "tensorboard",
                  "tensorflow",
                  "tensorflow_estimator"
                ]
              }
            }
          },
          "metadata": {
            "tags": []
          }
        }
      ]
    },
    {
      "cell_type": "code",
      "metadata": {
        "id": "M6Uyr6x5TkIj",
        "colab": {
          "base_uri": "https://localhost:8080/",
          "height": 34
        },
        "outputId": "17c58029-f4a7-4e2f-9454-37fa1885fc8d"
      },
      "source": [
        "import tensorflow as tf\n",
        "tf.__version__"
      ],
      "execution_count": null,
      "outputs": [
        {
          "output_type": "execute_result",
          "data": {
            "text/plain": [
              "'2.1.0'"
            ]
          },
          "metadata": {
            "tags": []
          },
          "execution_count": 6
        }
      ]
    },
    {
      "cell_type": "code",
      "metadata": {
        "id": "hx_5Z-HdT183",
        "colab": {
          "base_uri": "https://localhost:8080/",
          "height": 826
        },
        "outputId": "dd469f7a-7135-4357-88d7-dbf4d55e0ef4"
      },
      "source": [
        "tf.VERSION"
      ],
      "execution_count": null,
      "outputs": [
        {
          "output_type": "stream",
          "text": [
            "ERROR:root:Internal Python error in the inspect module.\n",
            "Below is the traceback from this internal error.\n",
            "\n"
          ],
          "name": "stderr"
        },
        {
          "output_type": "stream",
          "text": [
            "Traceback (most recent call last):\n",
            "  File \"/usr/local/lib/python3.6/dist-packages/IPython/core/interactiveshell.py\", line 2882, in run_code\n",
            "    exec(code_obj, self.user_global_ns, self.user_ns)\n",
            "  File \"<ipython-input-5-2e1b684706ab>\", line 1, in <module>\n",
            "    tf.VERSION\n",
            "AttributeError: module 'tensorflow' has no attribute 'VERSION'\n",
            "\n",
            "During handling of the above exception, another exception occurred:\n",
            "\n",
            "Traceback (most recent call last):\n",
            "  File \"/usr/local/lib/python3.6/dist-packages/IPython/core/interactiveshell.py\", line 1823, in showtraceback\n",
            "    stb = value._render_traceback_()\n",
            "AttributeError: 'AttributeError' object has no attribute '_render_traceback_'\n",
            "\n",
            "During handling of the above exception, another exception occurred:\n",
            "\n",
            "Traceback (most recent call last):\n",
            "  File \"/usr/local/lib/python3.6/dist-packages/IPython/core/ultratb.py\", line 1132, in get_records\n",
            "    return _fixed_getinnerframes(etb, number_of_lines_of_context, tb_offset)\n",
            "  File \"/usr/local/lib/python3.6/dist-packages/IPython/core/ultratb.py\", line 313, in wrapped\n",
            "    return f(*args, **kwargs)\n",
            "  File \"/usr/local/lib/python3.6/dist-packages/IPython/core/ultratb.py\", line 358, in _fixed_getinnerframes\n",
            "    records = fix_frame_records_filenames(inspect.getinnerframes(etb, context))\n",
            "  File \"/usr/lib/python3.6/inspect.py\", line 1490, in getinnerframes\n",
            "    frameinfo = (tb.tb_frame,) + getframeinfo(tb, context)\n",
            "  File \"/usr/lib/python3.6/inspect.py\", line 1448, in getframeinfo\n",
            "    filename = getsourcefile(frame) or getfile(frame)\n",
            "  File \"/usr/lib/python3.6/inspect.py\", line 696, in getsourcefile\n",
            "    if getattr(getmodule(object, filename), '__loader__', None) is not None:\n",
            "  File \"/usr/lib/python3.6/inspect.py\", line 733, in getmodule\n",
            "    if ismodule(module) and hasattr(module, '__file__'):\n",
            "  File \"/usr/local/lib/python3.6/dist-packages/tensorflow/__init__.py\", line 50, in __getattr__\n",
            "    from tensorflow._api.v2 import dtypes\n",
            "  File \"/usr/local/lib/python3.6/dist-packages/tensorflow/__init__.py\", line 44, in _load\n",
            "    from tensorflow._api.v2 import bitwise\n",
            "  File \"/usr/lib/python3.6/importlib/__init__.py\", line 126, in import_module\n",
            "    return _bootstrap._gcd_import(name[level:], package, level)\n",
            "  File \"<frozen importlib._bootstrap>\", line 994, in _gcd_import\n",
            "  File \"<frozen importlib._bootstrap>\", line 971, in _find_and_load\n",
            "  File \"<frozen importlib._bootstrap>\", line 953, in _find_and_load_unlocked\n",
            "ModuleNotFoundError: No module named 'tensorflow_core.keras'\n"
          ],
          "name": "stdout"
        },
        {
          "output_type": "error",
          "ename": "AttributeError",
          "evalue": "ignored",
          "traceback": [
            "\u001b[0;31m---------------------------------------------------------------------------\u001b[0m"
          ]
        }
      ]
    },
    {
      "cell_type": "markdown",
      "metadata": {
        "id": "z7gru8VFVjza"
      },
      "source": [
        "#the Machiene learning are only these\n",
        "* Supervised\n",
        "*Unsupervised\n",
        "*Reinforcement learning"
      ]
    },
    {
      "cell_type": "code",
      "metadata": {
        "id": "Z1OJmL4zT_zY"
      },
      "source": [
        "%%latex"
      ],
      "execution_count": null,
      "outputs": []
    },
    {
      "cell_type": "markdown",
      "metadata": {
        "id": "s9WMJiZ2uubh"
      },
      "source": [
        "#[Gradient Descent](https://en.wikipedia.org/wiki/Gradient_descent)"
      ]
    },
    {
      "cell_type": "markdown",
      "metadata": {
        "id": "a7b7_8tEuVeJ"
      },
      "source": [
        "$ f(x)  =  xw+b $\n",
        "* b : biases\n",
        "* x : input\n",
        "* w : weights\n",
        "* f(x) : Function Varaible\n",
        "\n"
      ]
    },
    {
      "cell_type": "markdown",
      "metadata": {
        "id": "vzcS6G9ivIUd"
      },
      "source": [
        "![title](https://cdn-images-1.medium.com/max/1600/1*f9a162GhpMbiTVTAua_lLQ.png)"
      ]
    },
    {
      "cell_type": "markdown",
      "metadata": {
        "id": "l2oXrYVZkvwh"
      },
      "source": [
        "The curse of dimensionality refers to various phenomena that arise when analyzing and organizing data in high-dimensional spaces (often with hundreds or thousands of dimensions) that do not occur in low-dimensional settings such as the three-dimensional physical space of everyday experience\n",
        "[the curse of dimensionality](https://www.kdnuggets.com/2017/04/must-know-curse-dimensionality.html)\n",
        "![curse of dimensionality](https://www.kdnuggets.com/wp-content/uploads/curse-dimensionality-2.png)"
      ]
    },
    {
      "cell_type": "markdown",
      "metadata": {
        "id": "5KKCgMCflx6l"
      },
      "source": [
        "![](https://cdn.vox-cdn.com/thumbor/aI40tRKFEVXiDHXoWHQA1qHF5jE=/112x0:565x302/1200x800/filters:focal(112x0:565x302)/cdn.vox-cdn.com/uploads/chorus_image/image/49897723/sunway-taihulight.0.0.png)"
      ]
    },
    {
      "cell_type": "markdown",
      "metadata": {
        "id": "zPquBTIsl28p"
      },
      "source": [
        "[the computer of the world](https://www.theverge.com/2016/6/20/11975356/chinese-supercomputer-worlds-fastes-taihulight)\n",
        "\n",
        "\n",
        "$93*10 ^ {15}$"
      ]
    },
    {
      "cell_type": "markdown",
      "metadata": {
        "id": "aiREHNUUuLuK"
      },
      "source": [
        "$ f(x) = x - \\eta  \\delta (y^2 - t^2)$                                               "
      ]
    },
    {
      "cell_type": "code",
      "metadata": {
        "id": "olwAKF1TtkQI",
        "colab": {
          "base_uri": "https://localhost:8080/",
          "height": 374
        },
        "outputId": "b1b5cbde-521f-43da-9573-a8f60cc12fa1"
      },
      "source": [
        "import this"
      ],
      "execution_count": null,
      "outputs": [
        {
          "output_type": "stream",
          "text": [
            "The Zen of Python, by Tim Peters\n",
            "\n",
            "Beautiful is better than ugly.\n",
            "Explicit is better than implicit.\n",
            "Simple is better than complex.\n",
            "Complex is better than complicated.\n",
            "Flat is better than nested.\n",
            "Sparse is better than dense.\n",
            "Readability counts.\n",
            "Special cases aren't special enough to break the rules.\n",
            "Although practicality beats purity.\n",
            "Errors should never pass silently.\n",
            "Unless explicitly silenced.\n",
            "In the face of ambiguity, refuse the temptation to guess.\n",
            "There should be one-- and preferably only one --obvious way to do it.\n",
            "Although that way may not be obvious at first unless you're Dutch.\n",
            "Now is better than never.\n",
            "Although never is often better than *right* now.\n",
            "If the implementation is hard to explain, it's a bad idea.\n",
            "If the implementation is easy to explain, it may be a good idea.\n",
            "Namespaces are one honking great idea -- let's do more of those!\n"
          ],
          "name": "stdout"
        }
      ]
    },
    {
      "cell_type": "code",
      "metadata": {
        "id": "F2-9Ag6StxZ5"
      },
      "source": [
        "import numpy as np"
      ],
      "execution_count": null,
      "outputs": []
    },
    {
      "cell_type": "markdown",
      "metadata": {
        "id": "qf9muV58vrrS"
      },
      "source": [
        "![numpy](https://encrypted-tbn0.gstatic.com/images?q=tbn:ANd9GcTDFAtVupKxQ8dxKoWssXhXLbq8vBlN9mNEsWNXYojo2x_kJdfp)"
      ]
    },
    {
      "cell_type": "code",
      "metadata": {
        "id": "dALhdDSfnEFP"
      },
      "source": [
        "import numpy as np"
      ],
      "execution_count": null,
      "outputs": []
    },
    {
      "cell_type": "code",
      "metadata": {
        "id": "qd0oEt9fnECT"
      },
      "source": [
        "x = np.float32(1.0)"
      ],
      "execution_count": null,
      "outputs": []
    },
    {
      "cell_type": "code",
      "metadata": {
        "id": "VaIYukannD_-",
        "colab": {
          "base_uri": "https://localhost:8080/",
          "height": 34
        },
        "outputId": "77c0dbb7-6114-42af-d88a-aa0b6760e709"
      },
      "source": [
        "x"
      ],
      "execution_count": null,
      "outputs": [
        {
          "output_type": "execute_result",
          "data": {
            "text/plain": [
              "1.0"
            ]
          },
          "metadata": {
            "tags": []
          },
          "execution_count": 7
        }
      ]
    },
    {
      "cell_type": "code",
      "metadata": {
        "id": "p82yE-GjnD9Z"
      },
      "source": [
        "y = np.int_([[1,2,4],[1,2,3]])"
      ],
      "execution_count": null,
      "outputs": []
    },
    {
      "cell_type": "code",
      "metadata": {
        "id": "uJ-0gWKunD7D",
        "colab": {
          "base_uri": "https://localhost:8080/",
          "height": 51
        },
        "outputId": "8fb57de6-914c-4d19-f522-66ba51fe31ac"
      },
      "source": [
        "y"
      ],
      "execution_count": null,
      "outputs": [
        {
          "output_type": "execute_result",
          "data": {
            "text/plain": [
              "array([[1, 2, 4],\n",
              "       [1, 2, 3]])"
            ]
          },
          "metadata": {
            "tags": []
          },
          "execution_count": 12
        }
      ]
    },
    {
      "cell_type": "code",
      "metadata": {
        "id": "qfuY26smnD4P"
      },
      "source": [
        "z = np.arange(3,dtype = np.uint8)"
      ],
      "execution_count": null,
      "outputs": []
    },
    {
      "cell_type": "code",
      "metadata": {
        "id": "Cy0meJ73nD18",
        "colab": {
          "base_uri": "https://localhost:8080/",
          "height": 34
        },
        "outputId": "a420dc14-566b-4bfe-a2a3-70ccb0253213"
      },
      "source": [
        "z"
      ],
      "execution_count": null,
      "outputs": [
        {
          "output_type": "execute_result",
          "data": {
            "text/plain": [
              "array([0, 1, 2], dtype=uint8)"
            ]
          },
          "metadata": {
            "tags": []
          },
          "execution_count": 14
        }
      ]
    },
    {
      "cell_type": "code",
      "metadata": {
        "id": "ndRJDoPAJgew",
        "colab": {
          "base_uri": "https://localhost:8080/",
          "height": 34
        },
        "outputId": "30dc0d1b-963c-4013-be09-5a45b99e22da"
      },
      "source": [
        "type(z)"
      ],
      "execution_count": null,
      "outputs": [
        {
          "output_type": "execute_result",
          "data": {
            "text/plain": [
              "numpy.ndarray"
            ]
          },
          "metadata": {
            "tags": []
          },
          "execution_count": 15
        }
      ]
    },
    {
      "cell_type": "code",
      "metadata": {
        "id": "pwsd5gM7JuGD"
      },
      "source": [
        "np.array?"
      ],
      "execution_count": null,
      "outputs": []
    },
    {
      "cell_type": "code",
      "metadata": {
        "id": "4s0VuvUxnDzd",
        "colab": {
          "base_uri": "https://localhost:8080/",
          "height": 34
        },
        "outputId": "2f2bedfe-dd30-4428-bfe1-f1838e2f9726"
      },
      "source": [
        "np.array([1,2,3],dtype = \"f\")"
      ],
      "execution_count": null,
      "outputs": [
        {
          "output_type": "execute_result",
          "data": {
            "text/plain": [
              "array([1., 2., 3.], dtype=float32)"
            ]
          },
          "metadata": {
            "tags": []
          },
          "execution_count": 16
        }
      ]
    },
    {
      "cell_type": "code",
      "metadata": {
        "id": "Y27H3fKMnDxD",
        "colab": {
          "base_uri": "https://localhost:8080/",
          "height": 34
        },
        "outputId": "89a71245-a78f-4116-9a01-223b85898c92"
      },
      "source": [
        "z.astype(float)"
      ],
      "execution_count": null,
      "outputs": [
        {
          "output_type": "execute_result",
          "data": {
            "text/plain": [
              "array([0., 1., 2.])"
            ]
          },
          "metadata": {
            "tags": []
          },
          "execution_count": 10
        }
      ]
    },
    {
      "cell_type": "code",
      "metadata": {
        "id": "CV_CzzhPnDu5",
        "colab": {
          "base_uri": "https://localhost:8080/",
          "height": 34
        },
        "outputId": "79d94e23-40b6-4fa9-8bb8-79223333840e"
      },
      "source": [
        "z.dtype"
      ],
      "execution_count": null,
      "outputs": [
        {
          "output_type": "execute_result",
          "data": {
            "text/plain": [
              "dtype('uint8')"
            ]
          },
          "metadata": {
            "tags": []
          },
          "execution_count": 11
        }
      ]
    },
    {
      "cell_type": "code",
      "metadata": {
        "id": "QCZsR3zenDsk"
      },
      "source": [
        "d = np.dtype(int)"
      ],
      "execution_count": null,
      "outputs": []
    },
    {
      "cell_type": "code",
      "metadata": {
        "id": "Xv29Qx4gnDpq",
        "colab": {
          "base_uri": "https://localhost:8080/",
          "height": 34
        },
        "outputId": "e688df9c-0fe5-47f7-a305-4634fbfd3e91"
      },
      "source": [
        "d"
      ],
      "execution_count": null,
      "outputs": [
        {
          "output_type": "execute_result",
          "data": {
            "text/plain": [
              "dtype('int64')"
            ]
          },
          "metadata": {
            "tags": []
          },
          "execution_count": 13
        }
      ]
    },
    {
      "cell_type": "code",
      "metadata": {
        "id": "VXGm0KnInDnR",
        "colab": {
          "base_uri": "https://localhost:8080/",
          "height": 34
        },
        "outputId": "cdee6ed6-b919-4c89-ebdb-5d5a2cc7d0b8"
      },
      "source": [
        "np.issubdtype(d,np.integer)"
      ],
      "execution_count": null,
      "outputs": [
        {
          "output_type": "execute_result",
          "data": {
            "text/plain": [
              "True"
            ]
          },
          "metadata": {
            "tags": []
          },
          "execution_count": 14
        }
      ]
    },
    {
      "cell_type": "code",
      "metadata": {
        "id": "sdTOXMB3nDlL",
        "colab": {
          "base_uri": "https://localhost:8080/",
          "height": 34
        },
        "outputId": "b457b066-794c-408a-b2c4-18adb8b33da0"
      },
      "source": [
        "np.issubdtype(d,np.floating)"
      ],
      "execution_count": null,
      "outputs": [
        {
          "output_type": "execute_result",
          "data": {
            "text/plain": [
              "False"
            ]
          },
          "metadata": {
            "tags": []
          },
          "execution_count": 15
        }
      ]
    },
    {
      "cell_type": "code",
      "metadata": {
        "id": "fAn28354nDiN"
      },
      "source": [
        "x = np.array([2,3,1,0])"
      ],
      "execution_count": null,
      "outputs": []
    },
    {
      "cell_type": "code",
      "metadata": {
        "id": "8CDHkJKwnDf2"
      },
      "source": [
        "x = np.array([2, 3, 1, 0])"
      ],
      "execution_count": null,
      "outputs": []
    },
    {
      "cell_type": "code",
      "metadata": {
        "id": "gQ_vxc_tnDdo",
        "colab": {
          "base_uri": "https://localhost:8080/",
          "height": 34
        },
        "outputId": "0247bd55-c9ef-43a0-bd0e-00d475024698"
      },
      "source": [
        "print(x)"
      ],
      "execution_count": null,
      "outputs": [
        {
          "output_type": "stream",
          "text": [
            "[2 3 1 0]\n"
          ],
          "name": "stdout"
        }
      ]
    },
    {
      "cell_type": "code",
      "metadata": {
        "id": "ZqJO_-GonDZ8"
      },
      "source": [
        "x = np.array([[1,2,3],[0,0,0],[1+1j,3.0]])"
      ],
      "execution_count": null,
      "outputs": []
    },
    {
      "cell_type": "code",
      "metadata": {
        "id": "0k8H3GuEox2Y"
      },
      "source": [
        "x = np.array([[1.0+0.0j,2.0+0.0j],[1.+1.j,0+0.3j]])"
      ],
      "execution_count": null,
      "outputs": []
    },
    {
      "cell_type": "code",
      "metadata": {
        "id": "lKMLDmcxoxv9",
        "colab": {
          "base_uri": "https://localhost:8080/",
          "height": 51
        },
        "outputId": "38d79f99-e592-49ca-c6f0-41129adb4dcb"
      },
      "source": [
        "np.zeros((2,3))"
      ],
      "execution_count": null,
      "outputs": [
        {
          "output_type": "execute_result",
          "data": {
            "text/plain": [
              "array([[0., 0., 0.],\n",
              "       [0., 0., 0.]])"
            ]
          },
          "metadata": {
            "tags": []
          },
          "execution_count": 21
        }
      ]
    },
    {
      "cell_type": "code",
      "metadata": {
        "id": "un5d3DtWoxoq",
        "colab": {
          "base_uri": "https://localhost:8080/",
          "height": 34
        },
        "outputId": "a49fb35e-7cbe-4071-83e5-fe59b38598c4"
      },
      "source": [
        "np.arange(10)"
      ],
      "execution_count": null,
      "outputs": [
        {
          "output_type": "execute_result",
          "data": {
            "text/plain": [
              "array([0, 1, 2, 3, 4, 5, 6, 7, 8, 9])"
            ]
          },
          "metadata": {
            "tags": []
          },
          "execution_count": 24
        }
      ]
    },
    {
      "cell_type": "code",
      "metadata": {
        "id": "YrEEWLIEoxfl",
        "colab": {
          "base_uri": "https://localhost:8080/",
          "height": 34
        },
        "outputId": "e5fd654f-9762-4fb0-9701-cf45e19838f9"
      },
      "source": [
        "np.arange(0,10,dtype = float)"
      ],
      "execution_count": null,
      "outputs": [
        {
          "output_type": "execute_result",
          "data": {
            "text/plain": [
              "array([0., 1., 2., 3., 4., 5., 6., 7., 8., 9.])"
            ]
          },
          "metadata": {
            "tags": []
          },
          "execution_count": 30
        }
      ]
    },
    {
      "cell_type": "code",
      "metadata": {
        "id": "c2abjTjMoxW_",
        "colab": {
          "base_uri": "https://localhost:8080/",
          "height": 34
        },
        "outputId": "f5a4df8b-71ed-42f2-b3b9-fd75d3f813c6"
      },
      "source": [
        "np.arange(1,10,dtype = float)"
      ],
      "execution_count": null,
      "outputs": [
        {
          "output_type": "execute_result",
          "data": {
            "text/plain": [
              "array([1., 2., 3., 4., 5., 6., 7., 8., 9.])"
            ]
          },
          "metadata": {
            "tags": []
          },
          "execution_count": 31
        }
      ]
    },
    {
      "cell_type": "code",
      "metadata": {
        "id": "i-WmKgy7oxNx",
        "colab": {
          "base_uri": "https://localhost:8080/",
          "height": 34
        },
        "outputId": "e4afda2a-aa55-4e7a-ee9d-7ba3367f14de"
      },
      "source": [
        "np.linspace(1.,3.,6)"
      ],
      "execution_count": null,
      "outputs": [
        {
          "output_type": "execute_result",
          "data": {
            "text/plain": [
              "array([1. , 1.4, 1.8, 2.2, 2.6, 3. ])"
            ]
          },
          "metadata": {
            "tags": []
          },
          "execution_count": 32
        }
      ]
    },
    {
      "cell_type": "code",
      "metadata": {
        "id": "xqAMdX_OoxDx",
        "colab": {
          "base_uri": "https://localhost:8080/",
          "height": 136
        },
        "outputId": "64113df7-e082-4d96-9542-9d3a481f5f2a"
      },
      "source": [
        "np.indices((3,3))"
      ],
      "execution_count": null,
      "outputs": [
        {
          "output_type": "execute_result",
          "data": {
            "text/plain": [
              "array([[[0, 0, 0],\n",
              "        [1, 1, 1],\n",
              "        [2, 2, 2]],\n",
              "\n",
              "       [[0, 1, 2],\n",
              "        [0, 1, 2],\n",
              "        [0, 1, 2]]])"
            ]
          },
          "metadata": {
            "tags": []
          },
          "execution_count": 18
        }
      ]
    },
    {
      "cell_type": "markdown",
      "metadata": {
        "id": "Ifd79QOnpzrw"
      },
      "source": [
        "![HDF5: h5py\n",
        "FITS: Astropy](https://docs.astropy.org/en/stable/nddata/utils-2.svg)"
      ]
    },
    {
      "cell_type": "markdown",
      "metadata": {
        "id": "suyyx1e9qfye"
      },
      "source": [
        "#delimiter operation"
      ]
    },
    {
      "cell_type": "code",
      "metadata": {
        "id": "dAEoKMZIqy6B"
      },
      "source": [
        "from io import StringIO"
      ],
      "execution_count": null,
      "outputs": []
    },
    {
      "cell_type": "code",
      "metadata": {
        "id": "jLYZmpreowqr"
      },
      "source": [
        "data = u\"1,2,3\\n 4,5,6\""
      ],
      "execution_count": null,
      "outputs": []
    },
    {
      "cell_type": "code",
      "metadata": {
        "id": "A0A326utKDb7"
      },
      "source": [
        "a = '''sjckjsdd\n",
        "jsdhkjfhsdjk\n",
        "sdljfoksdh'''"
      ],
      "execution_count": null,
      "outputs": []
    },
    {
      "cell_type": "code",
      "metadata": {
        "id": "jsfBML9pKHMt",
        "colab": {
          "base_uri": "https://localhost:8080/",
          "height": 34
        },
        "outputId": "deff11b0-7f42-492d-ae89-182c6e35282a"
      },
      "source": [
        "a"
      ],
      "execution_count": null,
      "outputs": [
        {
          "output_type": "execute_result",
          "data": {
            "text/plain": [
              "'sjckjsdd\\njsdhkjfhsdjk\\nsdljfoksdh'"
            ]
          },
          "metadata": {
            "tags": []
          },
          "execution_count": 24
        }
      ]
    },
    {
      "cell_type": "code",
      "metadata": {
        "id": "q8cKsG6sowoU",
        "colab": {
          "base_uri": "https://localhost:8080/",
          "height": 51
        },
        "outputId": "6f859ad0-d7b0-4034-a459-1431d042d072"
      },
      "source": [
        "np.genfromtxt(StringIO(data),delimiter = \",\")"
      ],
      "execution_count": null,
      "outputs": [
        {
          "output_type": "execute_result",
          "data": {
            "text/plain": [
              "array([[1., 2., 3.],\n",
              "       [4., 5., 6.]])"
            ]
          },
          "metadata": {
            "tags": []
          },
          "execution_count": 25
        }
      ]
    },
    {
      "cell_type": "code",
      "metadata": {
        "id": "InSTtstlowl9"
      },
      "source": [
        "data = u\"123456789\\n   4  7 9\\n   4567 9\""
      ],
      "execution_count": null,
      "outputs": []
    },
    {
      "cell_type": "code",
      "metadata": {
        "id": "RdlN_5d1owjP",
        "colab": {
          "base_uri": "https://localhost:8080/",
          "height": 68
        },
        "outputId": "9cd9223a-2a5a-400a-d2d1-7fadd12b6103"
      },
      "source": [
        "np.genfromtxt(StringIO(data),delimiter = 3)"
      ],
      "execution_count": null,
      "outputs": [
        {
          "output_type": "execute_result",
          "data": {
            "text/plain": [
              "array([[123., 456., 789.],\n",
              "       [ nan,   4.,  nan],\n",
              "       [ nan, 456.,  nan]])"
            ]
          },
          "metadata": {
            "tags": []
          },
          "execution_count": 58
        }
      ]
    },
    {
      "cell_type": "code",
      "metadata": {
        "id": "B2lya5hEowgd"
      },
      "source": [
        "data = u\"123456789\\n   4  7 9\\n   4567 9\""
      ],
      "execution_count": null,
      "outputs": []
    },
    {
      "cell_type": "code",
      "metadata": {
        "id": "RcZXvF6voweS",
        "colab": {
          "base_uri": "https://localhost:8080/",
          "height": 68
        },
        "outputId": "eacb3424-67ab-43f9-d5c5-d0315c5706ba"
      },
      "source": [
        "np.genfromtxt(StringIO(data),delimiter = (4,3,2))"
      ],
      "execution_count": null,
      "outputs": [
        {
          "output_type": "execute_result",
          "data": {
            "text/plain": [
              "array([[1234.,  567.,   89.],\n",
              "       [   4.,    7.,    9.],\n",
              "       [   4.,  567.,    9.]])"
            ]
          },
          "metadata": {
            "tags": []
          },
          "execution_count": 61
        }
      ]
    },
    {
      "cell_type": "code",
      "metadata": {
        "id": "5rvJZC3wowcC"
      },
      "source": [
        "data = u\"1 2 3\\n 4 5 67\\n 890123 4\""
      ],
      "execution_count": null,
      "outputs": []
    },
    {
      "cell_type": "code",
      "metadata": {
        "id": "LsBP3ES_owaC"
      },
      "source": [
        "a = np.genfromtxt(StringIO(\"data\"),delimiter = (4,3,2))"
      ],
      "execution_count": null,
      "outputs": []
    },
    {
      "cell_type": "code",
      "metadata": {
        "id": "A0J-l0BwowXV",
        "colab": {
          "base_uri": "https://localhost:8080/",
          "height": 34
        },
        "outputId": "a275b376-e154-460c-e808-dd983e8e2af4"
      },
      "source": [
        "type(a)"
      ],
      "execution_count": null,
      "outputs": [
        {
          "output_type": "execute_result",
          "data": {
            "text/plain": [
              "numpy.ndarray"
            ]
          },
          "metadata": {
            "tags": []
          },
          "execution_count": 70
        }
      ]
    },
    {
      "cell_type": "code",
      "metadata": {
        "id": "9wRgZY6IowUI"
      },
      "source": [
        "data = u\"123456789\\n   4  7 9\\n   4567 9\""
      ],
      "execution_count": null,
      "outputs": []
    },
    {
      "cell_type": "code",
      "metadata": {
        "id": "o-bh9enEowRh",
        "colab": {
          "base_uri": "https://localhost:8080/",
          "height": 34
        },
        "outputId": "4d31f556-e937-4f82-a08a-5b982d2fe87b"
      },
      "source": [
        "np.genfromtxt(StringIO(data),delimiter = \",\",dtype = \"|U5\")"
      ],
      "execution_count": null,
      "outputs": [
        {
          "output_type": "execute_result",
          "data": {
            "text/plain": [
              "array(['12345', '4  7 ', '4567 '], dtype='<U5')"
            ]
          },
          "metadata": {
            "tags": []
          },
          "execution_count": 73
        }
      ]
    },
    {
      "cell_type": "code",
      "metadata": {
        "id": "yoIqzAa4owPA"
      },
      "source": [
        " data = u\"\"\"#\n",
        "... # Skip me !\n",
        "... # Skip me too !\n",
        "... 1, 2\n",
        "... 3, 4\n",
        "... 5, 6 #This is the third line of the data\n",
        "... 7, 8\n",
        "... # And here comes the last line\n",
        "... 9, 0\n",
        "... \"\"\""
      ],
      "execution_count": null,
      "outputs": []
    },
    {
      "cell_type": "code",
      "metadata": {
        "id": "n-SgEZCQowMt",
        "colab": {
          "base_uri": "https://localhost:8080/",
          "height": 51
        },
        "outputId": "a8eafdb5-997b-4995-9f6f-591aa90e2b36"
      },
      "source": [
        "np.genfromtxt(StringIO(data),comments = \"#\",delimiter = \",\")"
      ],
      "execution_count": null,
      "outputs": [
        {
          "output_type": "execute_result",
          "data": {
            "text/plain": [
              "array([[1., 2., 3.],\n",
              "       [4., 5., 6.]])"
            ]
          },
          "metadata": {
            "tags": []
          },
          "execution_count": 26
        }
      ]
    },
    {
      "cell_type": "code",
      "metadata": {
        "id": "uTrCa2HqowJ-"
      },
      "source": [
        "data = u\"\\n\".join(str(i) for i in range(10))"
      ],
      "execution_count": null,
      "outputs": []
    },
    {
      "cell_type": "code",
      "metadata": {
        "id": "y-M8GU-iowHT",
        "colab": {
          "base_uri": "https://localhost:8080/",
          "height": 34
        },
        "outputId": "b5f5aeab-6319-4a22-862c-7c11e059727d"
      },
      "source": [
        "np.genfromtxt(StringIO(data),)"
      ],
      "execution_count": null,
      "outputs": [
        {
          "output_type": "execute_result",
          "data": {
            "text/plain": [
              "array([0., 1., 2., 3., 4., 5., 6., 7., 8., 9.])"
            ]
          },
          "metadata": {
            "tags": []
          },
          "execution_count": 77
        }
      ]
    },
    {
      "cell_type": "code",
      "metadata": {
        "id": "A51eFVMcowEr",
        "colab": {
          "base_uri": "https://localhost:8080/",
          "height": 34
        },
        "outputId": "2ffc711a-b8d3-4613-cc3d-83607c61808d"
      },
      "source": [
        "np.genfromtxt(StringIO(data),\n",
        "                 skip_header=3, skip_footer=5)"
      ],
      "execution_count": null,
      "outputs": [
        {
          "output_type": "execute_result",
          "data": {
            "text/plain": [
              "array([3., 4.])"
            ]
          },
          "metadata": {
            "tags": []
          },
          "execution_count": 78
        }
      ]
    },
    {
      "cell_type": "code",
      "metadata": {
        "id": "TfrwNhBzowCF"
      },
      "source": [
        "data = u\"1 2 3\\n4 5 6\""
      ],
      "execution_count": null,
      "outputs": []
    },
    {
      "cell_type": "code",
      "metadata": {
        "id": "4mLnC_njov_T",
        "colab": {
          "base_uri": "https://localhost:8080/",
          "height": 51
        },
        "outputId": "82228a5f-fa17-436b-bc1c-3d00841d5c46"
      },
      "source": [
        "np.genfromtxt(StringIO(data),usecols = (0,-1))"
      ],
      "execution_count": null,
      "outputs": [
        {
          "output_type": "execute_result",
          "data": {
            "text/plain": [
              "array([[1., 3.],\n",
              "       [4., 6.]])"
            ]
          },
          "metadata": {
            "tags": []
          },
          "execution_count": 80
        }
      ]
    },
    {
      "cell_type": "code",
      "metadata": {
        "id": "Px3hwX2DuEX2"
      },
      "source": [
        ""
      ],
      "execution_count": null,
      "outputs": []
    },
    {
      "cell_type": "code",
      "metadata": {
        "id": "oOikP7JwuEPe"
      },
      "source": [
        ""
      ],
      "execution_count": null,
      "outputs": []
    },
    {
      "cell_type": "code",
      "metadata": {
        "id": "OsuE4SpbuEGr"
      },
      "source": [
        ""
      ],
      "execution_count": null,
      "outputs": []
    },
    {
      "cell_type": "code",
      "metadata": {
        "id": "ZXzFbef2uD9W"
      },
      "source": [
        ""
      ],
      "execution_count": null,
      "outputs": []
    },
    {
      "cell_type": "code",
      "metadata": {
        "id": "-A4zrcHvuDy4"
      },
      "source": [
        ""
      ],
      "execution_count": null,
      "outputs": []
    },
    {
      "cell_type": "code",
      "metadata": {
        "id": "WFoQYvVGvqhW"
      },
      "source": [
        "import matplotlib.pyplot as plt"
      ],
      "execution_count": null,
      "outputs": []
    },
    {
      "cell_type": "markdown",
      "metadata": {
        "id": "iqurrLnPwF_H"
      },
      "source": [
        "![matplot](https://matplotlib.org/2.1.1/_images/sphx_glr_logos2_thumb.png)"
      ]
    },
    {
      "cell_type": "code",
      "metadata": {
        "id": "UO8Vc5SqwB1Q"
      },
      "source": [
        "import plotly"
      ],
      "execution_count": null,
      "outputs": []
    },
    {
      "cell_type": "markdown",
      "metadata": {
        "id": "-wWq1NN8wVvL"
      },
      "source": [
        "![plotly](https://blog.f1000.com/wp-content/uploads/2017/07/logo.png)"
      ]
    },
    {
      "cell_type": "code",
      "metadata": {
        "id": "qBD_y6quwUMa"
      },
      "source": [
        "from mpl_toolkits.mplot3d import Axes3D"
      ],
      "execution_count": null,
      "outputs": []
    },
    {
      "cell_type": "code",
      "metadata": {
        "id": "cdJCaMBPw0r3"
      },
      "source": [
        "observations = 1000"
      ],
      "execution_count": null,
      "outputs": []
    },
    {
      "cell_type": "code",
      "metadata": {
        "id": "e8q1AWPqyle4"
      },
      "source": [
        "xs = np.random.uniform(low = 1,high = 1000,size = (observations,1))"
      ],
      "execution_count": null,
      "outputs": []
    },
    {
      "cell_type": "code",
      "metadata": {
        "id": "4Q__JRJsy1Nh",
        "colab": {
          "base_uri": "https://localhost:8080/",
          "height": 34
        },
        "outputId": "05e3e3fa-8eab-4a27-c351-3a69ab1bf566"
      },
      "source": [
        "print(\"type of xs\",type(xs))"
      ],
      "execution_count": null,
      "outputs": [
        {
          "output_type": "stream",
          "text": [
            "type of xs <class 'numpy.ndarray'>\n"
          ],
          "name": "stdout"
        }
      ]
    },
    {
      "cell_type": "code",
      "metadata": {
        "id": "KjHjnRsIy42W",
        "colab": {
          "base_uri": "https://localhost:8080/",
          "height": 34
        },
        "outputId": "95c87525-32af-4fef-bd41-b0c819fccf14"
      },
      "source": [
        "print(xs.shape)"
      ],
      "execution_count": null,
      "outputs": [
        {
          "output_type": "stream",
          "text": [
            "(1000, 1)\n"
          ],
          "name": "stdout"
        }
      ]
    },
    {
      "cell_type": "code",
      "metadata": {
        "id": "NUN0v6jDzGeH"
      },
      "source": [
        "zs = np.random.uniform(low = -10,high = 12,size = (observations,1))"
      ],
      "execution_count": null,
      "outputs": []
    },
    {
      "cell_type": "code",
      "metadata": {
        "id": "LdrhNcdjy61U"
      },
      "source": [
        "inputs = np.column_stack((xs,zs))"
      ],
      "execution_count": null,
      "outputs": []
    },
    {
      "cell_type": "code",
      "metadata": {
        "id": "JJq1amV-zRlV",
        "colab": {
          "base_uri": "https://localhost:8080/",
          "height": 34
        },
        "outputId": "96bec32a-56fe-4a25-e596-566c096160f4"
      },
      "source": [
        "print(\"type of input\",type(inputs))"
      ],
      "execution_count": null,
      "outputs": [
        {
          "output_type": "stream",
          "text": [
            "type of input <class 'numpy.ndarray'>\n"
          ],
          "name": "stdout"
        }
      ]
    },
    {
      "cell_type": "code",
      "metadata": {
        "id": "RNmIWmO9zThs",
        "colab": {
          "base_uri": "https://localhost:8080/",
          "height": 34
        },
        "outputId": "2cd83f10-b949-455e-8a03-c7485cfd64f2"
      },
      "source": [
        "print(\"Shape of the varialbles inputs\",inputs.shape)"
      ],
      "execution_count": null,
      "outputs": [
        {
          "output_type": "stream",
          "text": [
            "Shape of the varialbles inputs (1000, 2)\n"
          ],
          "name": "stdout"
        }
      ]
    },
    {
      "cell_type": "markdown",
      "metadata": {
        "id": "oDJ1rKWIzzKo"
      },
      "source": [
        "#linear model "
      ]
    },
    {
      "cell_type": "code",
      "metadata": {
        "id": "Aezae5lEzYEZ"
      },
      "source": [
        "noise = np.random.uniform(-1,1,(observations , 1))"
      ],
      "execution_count": null,
      "outputs": []
    },
    {
      "cell_type": "code",
      "metadata": {
        "id": "fL-kfLcSz_z6"
      },
      "source": [
        "target = (2*xs ) - (3*zs)  +noise"
      ],
      "execution_count": null,
      "outputs": []
    },
    {
      "cell_type": "code",
      "metadata": {
        "id": "WlIJh4fm0OW_",
        "colab": {
          "base_uri": "https://localhost:8080/",
          "height": 1000
        },
        "outputId": "7c9d4e2b-e938-4f10-91c2-91de31c0378d"
      },
      "source": [
        "print(target)"
      ],
      "execution_count": null,
      "outputs": [
        {
          "output_type": "stream",
          "text": [
            "[[ 1.44297940e+02]\n",
            " [ 3.76079193e+02]\n",
            " [ 1.43403653e+03]\n",
            " [ 1.07375535e+03]\n",
            " [ 1.51912142e+03]\n",
            " [ 1.72122685e+03]\n",
            " [ 7.11976216e+01]\n",
            " [ 1.63163553e+03]\n",
            " [ 5.29344716e+02]\n",
            " [ 1.40274296e+03]\n",
            " [ 7.23869134e+02]\n",
            " [ 5.64023503e+02]\n",
            " [ 1.81005831e+03]\n",
            " [ 6.26725258e+02]\n",
            " [ 1.41416908e+02]\n",
            " [ 1.59102494e+03]\n",
            " [ 4.22491287e+02]\n",
            " [ 3.80346144e+02]\n",
            " [ 9.82002739e+02]\n",
            " [ 1.00563894e+03]\n",
            " [ 8.61103824e+01]\n",
            " [ 1.65896661e+03]\n",
            " [ 1.91936292e+02]\n",
            " [ 1.55789029e+03]\n",
            " [ 3.06713034e+02]\n",
            " [ 1.04915073e+03]\n",
            " [ 1.81200131e+03]\n",
            " [ 7.98207267e+02]\n",
            " [ 7.39902734e+02]\n",
            " [ 1.70833217e+03]\n",
            " [ 2.53727052e+02]\n",
            " [ 1.05813119e+03]\n",
            " [ 1.41223870e+03]\n",
            " [ 7.75605084e+02]\n",
            " [ 1.80215461e+03]\n",
            " [ 1.87446964e+03]\n",
            " [ 4.81611777e+02]\n",
            " [ 5.83462770e+02]\n",
            " [ 7.45658250e+02]\n",
            " [ 1.77097725e+03]\n",
            " [ 6.63621971e+02]\n",
            " [ 1.81383568e+03]\n",
            " [ 1.38696525e+03]\n",
            " [ 7.52162598e+02]\n",
            " [ 1.63476144e+03]\n",
            " [ 1.49646694e+02]\n",
            " [ 1.03011397e+03]\n",
            " [ 1.56195200e+03]\n",
            " [ 1.31427859e+03]\n",
            " [ 8.08029485e+01]\n",
            " [ 1.20772461e+03]\n",
            " [ 1.16694144e+03]\n",
            " [ 1.55187064e+03]\n",
            " [ 1.57267209e+03]\n",
            " [ 5.64351495e+02]\n",
            " [ 6.66335234e+02]\n",
            " [ 1.97380744e+03]\n",
            " [ 1.63443363e+03]\n",
            " [ 1.42756688e+03]\n",
            " [ 9.22813516e+02]\n",
            " [ 1.05059989e+03]\n",
            " [ 1.85730134e+03]\n",
            " [ 1.49833288e+02]\n",
            " [ 1.96716581e+03]\n",
            " [ 1.27027283e+03]\n",
            " [ 1.63728267e+03]\n",
            " [ 1.93786610e+02]\n",
            " [ 1.65029988e+02]\n",
            " [ 1.26393678e+03]\n",
            " [ 1.85270607e+03]\n",
            " [ 1.01555247e+03]\n",
            " [ 7.17029416e+02]\n",
            " [ 4.10200126e+02]\n",
            " [ 1.64404091e+03]\n",
            " [ 1.06004689e+03]\n",
            " [ 1.17023734e+03]\n",
            " [ 7.67193196e+02]\n",
            " [ 6.95577736e+02]\n",
            " [ 1.47614833e+03]\n",
            " [ 1.02258944e+02]\n",
            " [ 1.64615213e+03]\n",
            " [ 1.67699021e+03]\n",
            " [ 1.21452063e+03]\n",
            " [ 1.55714125e+03]\n",
            " [ 1.16280129e+03]\n",
            " [ 2.86471437e+02]\n",
            " [ 1.45466318e+03]\n",
            " [ 1.95135346e+03]\n",
            " [ 8.02130104e+02]\n",
            " [ 7.27457914e+02]\n",
            " [ 8.65976834e+02]\n",
            " [ 7.05178312e+02]\n",
            " [ 8.34602695e+02]\n",
            " [ 1.63468065e+03]\n",
            " [ 1.20320602e+03]\n",
            " [ 5.37048547e+02]\n",
            " [ 5.91246396e+02]\n",
            " [ 1.19643273e+03]\n",
            " [ 1.94213072e+03]\n",
            " [ 3.79760117e+02]\n",
            " [ 5.08388256e+02]\n",
            " [ 1.89690661e+03]\n",
            " [ 1.34082114e+03]\n",
            " [ 1.22603671e+02]\n",
            " [ 1.50622663e+02]\n",
            " [ 1.07611926e+02]\n",
            " [ 7.54462517e+02]\n",
            " [ 7.86714566e+02]\n",
            " [ 9.91806383e+02]\n",
            " [ 5.02800124e+01]\n",
            " [ 4.78259767e+00]\n",
            " [ 6.29515877e+02]\n",
            " [ 6.38852186e+02]\n",
            " [ 1.98553446e+03]\n",
            " [ 1.14946662e+03]\n",
            " [ 1.20539917e+03]\n",
            " [ 1.53158130e+03]\n",
            " [ 1.00296757e+03]\n",
            " [ 9.69371060e+02]\n",
            " [ 1.25803730e+03]\n",
            " [ 1.31455939e+03]\n",
            " [ 1.13415797e+03]\n",
            " [ 5.36332747e+02]\n",
            " [ 5.85621104e+02]\n",
            " [ 1.82496222e+03]\n",
            " [ 9.34147630e+02]\n",
            " [ 8.64911446e+02]\n",
            " [ 1.09923075e+03]\n",
            " [ 4.45291290e+01]\n",
            " [ 1.27618694e+03]\n",
            " [ 1.85859973e+03]\n",
            " [ 5.08896837e+02]\n",
            " [ 1.44712322e+02]\n",
            " [ 1.32400657e+03]\n",
            " [ 1.33911341e+03]\n",
            " [ 1.43532969e+03]\n",
            " [ 1.81855817e+03]\n",
            " [ 8.27183065e+02]\n",
            " [ 2.02154034e+03]\n",
            " [ 9.11924291e+02]\n",
            " [ 2.98447703e+02]\n",
            " [ 9.42448517e+02]\n",
            " [ 1.54715050e+03]\n",
            " [ 1.53001060e+03]\n",
            " [ 1.52080670e+03]\n",
            " [ 1.86180149e+03]\n",
            " [ 6.62088334e+02]\n",
            " [ 1.71710389e+03]\n",
            " [ 1.70459902e+03]\n",
            " [ 1.07070597e+03]\n",
            " [ 4.93259113e+02]\n",
            " [ 1.93238955e+03]\n",
            " [ 1.10721626e+03]\n",
            " [ 2.00148890e+03]\n",
            " [ 7.39874427e+02]\n",
            " [ 1.50000062e+03]\n",
            " [ 1.71070761e+03]\n",
            " [ 5.94070652e+02]\n",
            " [ 8.56464018e+02]\n",
            " [ 1.39972413e+03]\n",
            " [ 6.83916171e+02]\n",
            " [ 6.60210398e+02]\n",
            " [ 1.83072741e+03]\n",
            " [ 1.84352947e+03]\n",
            " [ 7.51403701e+02]\n",
            " [ 1.62268687e+03]\n",
            " [ 1.45946475e+02]\n",
            " [ 1.42679741e+03]\n",
            " [ 1.53059065e+03]\n",
            " [ 1.41003317e+03]\n",
            " [ 1.15806548e+03]\n",
            " [ 1.82500562e+02]\n",
            " [ 1.80004838e+03]\n",
            " [ 8.18660616e+02]\n",
            " [ 9.14998152e+02]\n",
            " [ 1.65798951e+03]\n",
            " [ 5.58242145e+02]\n",
            " [ 1.70955329e+02]\n",
            " [ 1.45472628e+03]\n",
            " [ 5.36628259e+02]\n",
            " [ 1.32764551e+03]\n",
            " [ 1.36354214e+03]\n",
            " [ 6.78481400e+02]\n",
            " [ 9.18007525e+02]\n",
            " [ 6.87752173e+02]\n",
            " [ 9.57019137e+02]\n",
            " [ 5.01297731e+02]\n",
            " [ 1.00724797e+03]\n",
            " [ 7.03643474e+02]\n",
            " [ 1.98259108e+03]\n",
            " [ 6.06773596e+02]\n",
            " [ 1.30009692e+03]\n",
            " [ 8.18969326e+02]\n",
            " [ 9.14373376e+02]\n",
            " [ 1.74315530e+03]\n",
            " [ 1.38747409e+03]\n",
            " [ 1.67465684e+03]\n",
            " [ 1.40452601e+03]\n",
            " [ 1.69418683e+03]\n",
            " [ 7.51059359e+02]\n",
            " [ 1.12125605e+03]\n",
            " [ 5.41639156e+02]\n",
            " [ 9.56809117e+02]\n",
            " [ 2.51673759e+02]\n",
            " [ 4.24121805e+01]\n",
            " [ 1.33190849e+03]\n",
            " [ 6.00356757e+02]\n",
            " [ 7.38962223e+01]\n",
            " [ 7.88563256e+02]\n",
            " [ 1.34026749e+03]\n",
            " [ 9.38938692e+02]\n",
            " [ 9.40142640e+02]\n",
            " [ 2.47093152e+02]\n",
            " [ 7.15570366e+02]\n",
            " [ 7.24006775e+02]\n",
            " [ 8.67228449e+02]\n",
            " [ 1.86691643e+03]\n",
            " [ 7.07735794e+02]\n",
            " [ 4.10836652e+02]\n",
            " [ 9.54060934e+02]\n",
            " [ 1.69545335e+03]\n",
            " [ 6.43915920e+02]\n",
            " [ 8.05418788e+02]\n",
            " [ 1.28220136e+03]\n",
            " [ 1.02670051e+03]\n",
            " [ 1.80092309e+03]\n",
            " [ 1.01690278e+03]\n",
            " [ 5.44660340e+02]\n",
            " [ 1.22356885e+03]\n",
            " [ 1.53366771e+03]\n",
            " [ 2.70026681e+02]\n",
            " [ 1.05288012e+03]\n",
            " [ 2.19354717e+02]\n",
            " [ 3.06428220e+01]\n",
            " [ 4.95934676e+02]\n",
            " [ 6.30553916e+02]\n",
            " [ 1.70755184e+03]\n",
            " [ 4.14953220e+02]\n",
            " [ 4.91174505e+02]\n",
            " [ 1.24629679e+03]\n",
            " [ 1.29846091e+03]\n",
            " [ 1.94205918e+02]\n",
            " [ 1.16439073e+03]\n",
            " [ 7.07946333e+02]\n",
            " [ 2.90846421e+02]\n",
            " [ 1.97133073e+03]\n",
            " [ 1.02384973e+03]\n",
            " [ 1.14177556e+03]\n",
            " [ 1.53326738e+03]\n",
            " [ 5.95055899e+02]\n",
            " [ 1.67572799e+03]\n",
            " [ 3.63626528e+02]\n",
            " [ 6.78222367e+02]\n",
            " [ 8.47692398e+02]\n",
            " [ 2.32003227e+02]\n",
            " [ 1.00470488e+03]\n",
            " [ 1.56328183e+03]\n",
            " [ 6.05847313e+02]\n",
            " [ 4.60619666e+02]\n",
            " [ 2.00533876e+03]\n",
            " [ 1.95121534e+03]\n",
            " [ 1.94382761e+03]\n",
            " [ 5.33822501e+02]\n",
            " [ 1.11400380e+03]\n",
            " [ 4.63246275e+01]\n",
            " [ 1.45948292e+03]\n",
            " [ 7.28470658e+02]\n",
            " [ 1.84541415e+03]\n",
            " [ 1.94008478e+03]\n",
            " [ 1.63529250e+03]\n",
            " [ 1.99519703e+03]\n",
            " [ 1.34642652e+03]\n",
            " [ 6.47151069e+02]\n",
            " [ 6.66858666e+02]\n",
            " [ 1.27356301e+03]\n",
            " [ 1.91187055e+03]\n",
            " [ 1.92820862e+03]\n",
            " [ 1.76744449e+03]\n",
            " [ 1.83834423e+03]\n",
            " [ 7.52096386e+02]\n",
            " [ 9.39244820e+02]\n",
            " [ 3.91606509e+02]\n",
            " [ 6.59497194e+01]\n",
            " [ 1.73827213e+03]\n",
            " [ 1.71292686e+03]\n",
            " [ 1.74519246e+02]\n",
            " [ 9.10469718e+02]\n",
            " [ 1.48234828e+03]\n",
            " [ 1.72411903e+03]\n",
            " [ 1.24320406e+03]\n",
            " [ 2.38159207e+02]\n",
            " [ 1.48469573e+03]\n",
            " [ 5.68607423e+02]\n",
            " [ 2.32884275e+02]\n",
            " [ 7.03329701e+02]\n",
            " [ 1.46226962e+03]\n",
            " [ 1.93499118e+03]\n",
            " [ 1.44008070e+03]\n",
            " [ 2.01442760e+02]\n",
            " [ 1.40693051e+03]\n",
            " [ 1.67042037e+03]\n",
            " [ 3.56749334e+02]\n",
            " [ 3.91618201e+02]\n",
            " [ 5.43787813e+02]\n",
            " [ 1.49725595e+03]\n",
            " [ 1.86467063e+03]\n",
            " [ 6.90040694e+02]\n",
            " [ 3.13163569e+02]\n",
            " [ 1.54298801e+03]\n",
            " [ 1.01778198e+03]\n",
            " [ 1.96617151e+03]\n",
            " [ 5.41338441e+01]\n",
            " [ 1.38754012e+03]\n",
            " [ 9.96351170e+02]\n",
            " [ 1.50882778e+03]\n",
            " [ 1.89024115e+03]\n",
            " [ 1.68957767e+03]\n",
            " [ 8.49837999e+02]\n",
            " [ 4.43573556e+02]\n",
            " [ 1.71252502e+03]\n",
            " [ 5.08606826e+02]\n",
            " [ 1.86701078e+03]\n",
            " [ 5.08989721e+01]\n",
            " [ 6.37441052e+02]\n",
            " [ 1.08804258e+03]\n",
            " [ 1.16173192e+03]\n",
            " [ 9.72488920e+02]\n",
            " [ 1.96770879e+03]\n",
            " [ 3.14521536e+01]\n",
            " [ 5.95620051e+02]\n",
            " [ 1.86836793e+03]\n",
            " [ 1.21043539e+03]\n",
            " [ 1.92951859e+03]\n",
            " [ 7.76932869e+02]\n",
            " [ 5.12853613e+01]\n",
            " [ 1.93316233e+03]\n",
            " [ 3.96131677e+02]\n",
            " [ 1.00054144e+03]\n",
            " [ 1.95201250e+03]\n",
            " [ 1.61192248e+03]\n",
            " [ 2.36800962e+02]\n",
            " [ 2.76308879e+02]\n",
            " [ 4.83222206e+02]\n",
            " [ 6.68589708e+02]\n",
            " [ 1.80902494e+03]\n",
            " [ 1.53947876e+02]\n",
            " [ 1.78340378e+03]\n",
            " [ 1.64876777e+03]\n",
            " [ 1.81787217e+03]\n",
            " [ 1.23470237e+03]\n",
            " [ 3.84353520e+02]\n",
            " [ 1.19372150e+03]\n",
            " [ 8.93985557e+02]\n",
            " [ 1.89832484e+03]\n",
            " [ 1.92666989e+03]\n",
            " [ 1.85490308e+03]\n",
            " [ 1.01660314e+03]\n",
            " [ 3.99343116e+02]\n",
            " [ 1.18293060e+03]\n",
            " [ 1.40395929e+03]\n",
            " [ 8.07131131e+02]\n",
            " [ 1.48406427e+03]\n",
            " [ 4.54924499e+02]\n",
            " [ 4.11650998e+02]\n",
            " [ 1.90661355e+03]\n",
            " [ 1.24344830e+03]\n",
            " [ 4.08460880e+02]\n",
            " [ 1.69183329e+03]\n",
            " [ 4.84703170e+02]\n",
            " [ 1.25572893e+03]\n",
            " [ 1.20413706e+03]\n",
            " [ 7.06560801e+02]\n",
            " [ 3.52227732e+02]\n",
            " [ 7.57622220e+02]\n",
            " [ 8.27792812e+02]\n",
            " [ 1.21650476e+03]\n",
            " [ 1.41765366e+03]\n",
            " [ 1.29522454e+03]\n",
            " [ 4.19645238e+02]\n",
            " [ 6.65196258e+02]\n",
            " [ 1.72693469e+03]\n",
            " [ 4.09415986e+02]\n",
            " [ 1.85815404e+03]\n",
            " [ 1.19571061e+03]\n",
            " [ 1.43478513e+03]\n",
            " [ 1.07300632e+03]\n",
            " [ 1.82648039e+03]\n",
            " [ 1.13202630e+03]\n",
            " [ 1.89943231e+03]\n",
            " [ 1.17430574e+03]\n",
            " [ 1.85185289e+03]\n",
            " [ 1.11026473e+03]\n",
            " [ 1.22880391e+03]\n",
            " [ 4.79596182e+02]\n",
            " [ 1.58447914e+03]\n",
            " [ 1.88485742e+03]\n",
            " [ 4.36572341e+02]\n",
            " [ 8.51202112e+02]\n",
            " [ 1.89094233e+03]\n",
            " [ 9.73448854e+02]\n",
            " [ 5.85123222e+02]\n",
            " [ 1.18961299e+03]\n",
            " [ 1.45351680e+02]\n",
            " [ 1.63636988e+03]\n",
            " [ 2.13240525e+02]\n",
            " [ 1.61939167e+03]\n",
            " [ 3.70254159e+02]\n",
            " [ 4.12661439e+02]\n",
            " [ 1.74991918e+03]\n",
            " [ 1.44015837e+03]\n",
            " [ 1.84656604e+03]\n",
            " [-9.47162361e+00]\n",
            " [ 1.04894942e+03]\n",
            " [ 1.26074541e+03]\n",
            " [ 1.02129538e+03]\n",
            " [ 2.95966688e+01]\n",
            " [ 1.99426423e+03]\n",
            " [ 3.04355422e+01]\n",
            " [ 1.45293803e+03]\n",
            " [ 6.22239140e+02]\n",
            " [ 1.88772893e+02]\n",
            " [ 1.89934923e+03]\n",
            " [ 1.54279954e+03]\n",
            " [ 6.38116945e+02]\n",
            " [ 2.20456910e+02]\n",
            " [ 7.28511474e+02]\n",
            " [ 1.41876439e+03]\n",
            " [ 4.33138128e+02]\n",
            " [ 1.84295976e+03]\n",
            " [ 8.20219615e+02]\n",
            " [ 9.91507318e+02]\n",
            " [ 1.02524530e+03]\n",
            " [ 1.92561201e+03]\n",
            " [ 6.09443903e+01]\n",
            " [ 7.57391036e+02]\n",
            " [ 1.13409439e+03]\n",
            " [ 8.82412917e+02]\n",
            " [ 7.36826208e+02]\n",
            " [ 1.88368564e+03]\n",
            " [ 5.55048768e+02]\n",
            " [ 4.07410047e+02]\n",
            " [ 9.83475853e+02]\n",
            " [ 3.68515642e+02]\n",
            " [ 1.18821965e+03]\n",
            " [ 4.44109513e+02]\n",
            " [ 4.05269429e+01]\n",
            " [ 1.58930801e+03]\n",
            " [ 9.00633457e+02]\n",
            " [ 1.19364795e+03]\n",
            " [ 1.89620020e+03]\n",
            " [ 9.12526421e+02]\n",
            " [ 2.11117846e+02]\n",
            " [ 1.50323432e+03]\n",
            " [ 2.85215710e+02]\n",
            " [ 7.30784631e+01]\n",
            " [ 2.12403876e+02]\n",
            " [ 1.55070586e+03]\n",
            " [ 1.03569326e+02]\n",
            " [ 1.05707449e+03]\n",
            " [ 3.60705470e+02]\n",
            " [ 1.10490051e+03]\n",
            " [ 6.25438156e+02]\n",
            " [ 1.14328987e+03]\n",
            " [ 1.36412313e+03]\n",
            " [ 1.69891710e+03]\n",
            " [ 1.28580801e+03]\n",
            " [ 7.97149951e+02]\n",
            " [ 1.31898003e+03]\n",
            " [ 1.13816897e+03]\n",
            " [ 4.06396953e+01]\n",
            " [ 9.53782493e+02]\n",
            " [ 1.06293551e+02]\n",
            " [ 1.38076753e+03]\n",
            " [ 2.14720951e+02]\n",
            " [ 1.63602751e+03]\n",
            " [ 7.12903522e+02]\n",
            " [-2.90407385e+00]\n",
            " [ 1.04515122e+03]\n",
            " [ 1.73502686e+03]\n",
            " [ 1.34424029e+03]\n",
            " [ 6.27853473e+02]\n",
            " [ 6.19074190e+02]\n",
            " [ 1.35955983e+02]\n",
            " [ 1.79300841e+03]\n",
            " [ 5.75332701e+02]\n",
            " [ 1.09836040e+03]\n",
            " [ 1.49627168e+02]\n",
            " [ 8.36223880e+02]\n",
            " [ 4.69742304e+02]\n",
            " [ 1.57493578e+03]\n",
            " [ 1.55293100e+03]\n",
            " [ 1.81725857e+03]\n",
            " [ 1.16257739e+03]\n",
            " [ 1.76437964e+03]\n",
            " [ 1.20286558e+03]\n",
            " [ 3.64004036e+02]\n",
            " [ 8.60863997e+02]\n",
            " [ 1.10607793e+00]\n",
            " [ 5.13685613e+02]\n",
            " [ 1.52157866e+03]\n",
            " [ 1.59416292e+03]\n",
            " [ 1.14881382e+03]\n",
            " [ 4.81126212e+02]\n",
            " [ 7.67629560e+02]\n",
            " [ 2.49425677e+02]\n",
            " [ 1.87818690e+03]\n",
            " [ 1.89974168e+03]\n",
            " [ 9.59568712e+02]\n",
            " [ 2.46815894e+01]\n",
            " [ 1.75074230e+03]\n",
            " [ 1.72451096e+03]\n",
            " [ 9.84106618e+01]\n",
            " [ 3.13078057e+02]\n",
            " [ 4.22357396e+01]\n",
            " [ 5.83218128e+02]\n",
            " [ 5.35756402e+02]\n",
            " [ 1.91975618e+03]\n",
            " [ 1.69547231e+03]\n",
            " [ 8.86757987e+02]\n",
            " [ 1.53909378e+03]\n",
            " [ 1.94019771e+03]\n",
            " [ 8.48769167e+02]\n",
            " [ 1.58595918e+03]\n",
            " [ 1.58028163e+03]\n",
            " [ 7.62661447e+02]\n",
            " [ 1.37967713e+03]\n",
            " [ 1.03510462e+03]\n",
            " [ 1.28782373e+01]\n",
            " [ 1.82926159e+03]\n",
            " [ 1.33705032e+03]\n",
            " [ 1.07561425e+03]\n",
            " [ 7.25177995e+02]\n",
            " [ 6.41391098e+02]\n",
            " [ 1.11396810e+02]\n",
            " [ 2.96951399e+02]\n",
            " [ 1.15385636e+03]\n",
            " [ 9.75472871e+02]\n",
            " [ 1.91270694e+02]\n",
            " [ 8.79148648e+02]\n",
            " [ 1.41312650e+03]\n",
            " [ 7.52002757e+02]\n",
            " [ 5.34660121e+02]\n",
            " [ 1.49550593e+03]\n",
            " [ 1.34858323e+03]\n",
            " [ 1.71910155e+03]\n",
            " [ 1.34308207e+03]\n",
            " [ 3.51437618e+01]\n",
            " [ 6.40887919e+02]\n",
            " [ 7.79007738e+02]\n",
            " [ 1.87756624e+03]\n",
            " [ 1.94928566e+03]\n",
            " [ 1.62180180e+03]\n",
            " [ 8.49946687e+02]\n",
            " [ 1.70492922e+03]\n",
            " [ 2.47940929e+02]\n",
            " [ 6.29028676e+02]\n",
            " [ 1.98488104e+03]\n",
            " [ 2.11754627e+02]\n",
            " [ 1.02337160e+03]\n",
            " [ 1.87125113e+03]\n",
            " [ 1.95531969e+03]\n",
            " [ 1.82919763e+03]\n",
            " [ 6.56146437e+01]\n",
            " [ 6.23771455e+02]\n",
            " [ 2.24878141e+02]\n",
            " [ 1.80879427e+03]\n",
            " [ 2.17194274e+01]\n",
            " [ 1.55575290e+03]\n",
            " [ 1.82482526e+03]\n",
            " [ 3.25615014e+02]\n",
            " [ 6.82468758e+02]\n",
            " [ 5.61233252e+02]\n",
            " [ 1.44281003e+03]\n",
            " [ 8.54633700e+02]\n",
            " [-1.97976517e+00]\n",
            " [ 3.99182307e+02]\n",
            " [ 3.68157626e+02]\n",
            " [ 1.22018466e+02]\n",
            " [ 7.99940652e+01]\n",
            " [ 1.55856404e+03]\n",
            " [ 1.51025554e+03]\n",
            " [ 7.19437293e+02]\n",
            " [ 1.99250849e+02]\n",
            " [ 1.47062207e+03]\n",
            " [ 1.51288901e+03]\n",
            " [ 1.77866379e+03]\n",
            " [ 8.49159452e+02]\n",
            " [ 2.82490694e+02]\n",
            " [ 3.52274705e+02]\n",
            " [ 8.24971256e+02]\n",
            " [ 1.17402714e+03]\n",
            " [ 1.58130491e+03]\n",
            " [ 1.92876428e+03]\n",
            " [ 1.52306459e+03]\n",
            " [ 3.27040219e+02]\n",
            " [ 1.33828550e+03]\n",
            " [ 6.21656271e+02]\n",
            " [ 1.40082728e+03]\n",
            " [ 1.02727145e+03]\n",
            " [ 1.79914318e+03]\n",
            " [ 1.66048234e+03]\n",
            " [ 4.89341430e+02]\n",
            " [ 2.06004278e+02]\n",
            " [ 1.41841910e+03]\n",
            " [ 1.61954009e+03]\n",
            " [ 5.76959165e+02]\n",
            " [ 9.62393487e+02]\n",
            " [ 7.17871449e+02]\n",
            " [ 1.30407113e+03]\n",
            " [ 1.57157274e+03]\n",
            " [ 8.90972703e+02]\n",
            " [ 1.18403501e+03]\n",
            " [ 4.75579849e+02]\n",
            " [ 2.43893757e+01]\n",
            " [ 1.02379352e+03]\n",
            " [ 9.32940087e+02]\n",
            " [ 1.03460141e+03]\n",
            " [ 4.29297805e+02]\n",
            " [ 1.62859052e+03]\n",
            " [ 1.68332412e+03]\n",
            " [ 5.04704412e+02]\n",
            " [ 1.40749930e+03]\n",
            " [ 1.38248253e+02]\n",
            " [ 1.11693069e+03]\n",
            " [ 1.86551493e+03]\n",
            " [ 8.59418538e+02]\n",
            " [ 1.21639654e+03]\n",
            " [ 5.40340342e+02]\n",
            " [ 1.51779149e+03]\n",
            " [ 1.41225283e+03]\n",
            " [ 8.82828954e+02]\n",
            " [ 1.57675150e+03]\n",
            " [ 9.03902272e+02]\n",
            " [ 3.24633933e+02]\n",
            " [ 1.42495034e+03]\n",
            " [ 1.13336154e+03]\n",
            " [ 1.28712153e+03]\n",
            " [ 9.99430692e+02]\n",
            " [ 4.16315791e+02]\n",
            " [ 1.46749702e+03]\n",
            " [ 5.82914553e+01]\n",
            " [ 1.26299191e+02]\n",
            " [ 1.25123302e+03]\n",
            " [ 8.01275255e+02]\n",
            " [ 7.44472086e+02]\n",
            " [ 1.20743026e+03]\n",
            " [ 1.47667875e+02]\n",
            " [ 1.92962892e+03]\n",
            " [ 4.81335406e+02]\n",
            " [ 4.31013292e+02]\n",
            " [ 7.95944459e+02]\n",
            " [ 1.62648173e+03]\n",
            " [ 1.28289128e+03]\n",
            " [ 2.31735527e+02]\n",
            " [ 1.27114592e+03]\n",
            " [ 1.04974908e+03]\n",
            " [ 5.67657233e+02]\n",
            " [ 7.37714299e+02]\n",
            " [ 1.86776232e+03]\n",
            " [ 8.64545935e+02]\n",
            " [ 6.49524344e+02]\n",
            " [ 8.81688860e+02]\n",
            " [ 1.66195044e+03]\n",
            " [ 9.07740859e+02]\n",
            " [ 7.70028220e+02]\n",
            " [ 1.84312815e+03]\n",
            " [ 7.28227395e+02]\n",
            " [ 1.17225913e+03]\n",
            " [ 1.80172106e+02]\n",
            " [ 7.02949965e+02]\n",
            " [ 9.44909773e+02]\n",
            " [ 8.30514790e+01]\n",
            " [ 6.56355747e+02]\n",
            " [ 4.48963892e+01]\n",
            " [ 2.01192351e+02]\n",
            " [ 9.35939764e+02]\n",
            " [ 1.55964942e+03]\n",
            " [ 8.30128880e+02]\n",
            " [ 1.65854315e+03]\n",
            " [ 6.24012127e+02]\n",
            " [ 1.02377249e+03]\n",
            " [ 4.15664903e+02]\n",
            " [ 1.33427081e+03]\n",
            " [ 1.32681234e+03]\n",
            " [ 1.30901940e+03]\n",
            " [ 1.15056780e+03]\n",
            " [ 8.82828727e+02]\n",
            " [ 1.93811768e+03]\n",
            " [ 1.32779432e+03]\n",
            " [ 8.97240000e+02]\n",
            " [ 1.96694247e+03]\n",
            " [ 1.66594113e+03]\n",
            " [ 3.00493149e+02]\n",
            " [ 1.71859679e+03]\n",
            " [ 4.19029138e+02]\n",
            " [ 1.82176734e+03]\n",
            " [ 1.80485205e+02]\n",
            " [ 1.51257273e+03]\n",
            " [ 1.54577099e+03]\n",
            " [ 5.75284922e+02]\n",
            " [ 1.46938502e+02]\n",
            " [ 1.19429016e+02]\n",
            " [ 1.30068759e+03]\n",
            " [ 1.18326283e+03]\n",
            " [ 1.38497869e+03]\n",
            " [ 3.26443667e+02]\n",
            " [ 1.63161602e+03]\n",
            " [ 9.78614449e+02]\n",
            " [ 2.94199572e+02]\n",
            " [ 8.10256967e+02]\n",
            " [ 8.54557528e+02]\n",
            " [ 1.59944487e+03]\n",
            " [ 8.67124460e+02]\n",
            " [ 1.03424390e+02]\n",
            " [ 4.33845845e+01]\n",
            " [ 1.87627772e+03]\n",
            " [ 1.50450098e+03]\n",
            " [ 4.50734898e+01]\n",
            " [ 5.23136648e+02]\n",
            " [ 9.29522136e+02]\n",
            " [ 8.63348981e+02]\n",
            " [ 1.43194560e+03]\n",
            " [ 1.48002897e+03]\n",
            " [ 1.72868806e+03]\n",
            " [ 3.90678531e+02]\n",
            " [ 1.67597953e+03]\n",
            " [ 9.41037826e+02]\n",
            " [ 2.67011170e+02]\n",
            " [ 1.28709471e+03]\n",
            " [ 8.48248229e+02]\n",
            " [ 2.64300682e+02]\n",
            " [ 7.86089804e+02]\n",
            " [ 6.77988597e+02]\n",
            " [ 4.35374949e+02]\n",
            " [ 1.93432939e+03]\n",
            " [ 1.87784646e+03]\n",
            " [ 1.96552835e+03]\n",
            " [ 1.71564235e+03]\n",
            " [ 1.90078622e+03]\n",
            " [ 8.27541841e+02]\n",
            " [ 1.21963616e+03]\n",
            " [ 8.99035859e+02]\n",
            " [ 1.66457208e+03]\n",
            " [ 8.25002282e+02]\n",
            " [ 1.05241365e+03]\n",
            " [ 1.19338157e+03]\n",
            " [ 2.04822319e+02]\n",
            " [ 1.55203923e+03]\n",
            " [ 1.24260803e+03]\n",
            " [ 1.42622074e+03]\n",
            " [ 8.08788970e+02]\n",
            " [ 1.79674160e+03]\n",
            " [ 1.35784777e+03]\n",
            " [ 6.62024957e+02]\n",
            " [ 1.32712452e+03]\n",
            " [ 1.92068471e+03]\n",
            " [ 1.74175359e+02]\n",
            " [ 1.67963719e+03]\n",
            " [ 1.79093010e+03]\n",
            " [ 9.06454861e+01]\n",
            " [ 7.01979973e+02]\n",
            " [ 8.34272026e+02]\n",
            " [ 5.26862895e+02]\n",
            " [ 1.38478160e+03]\n",
            " [ 1.39471380e+03]\n",
            " [ 1.65187679e+03]\n",
            " [ 1.51478406e+03]\n",
            " [ 2.31324302e+02]\n",
            " [ 2.76528625e+02]\n",
            " [ 1.28947029e+03]\n",
            " [ 1.70859176e+03]\n",
            " [ 1.03492462e+03]\n",
            " [ 1.94697814e+03]\n",
            " [ 4.26129827e+02]\n",
            " [ 3.53859618e+02]\n",
            " [ 9.03630061e+02]\n",
            " [ 6.31994755e+02]\n",
            " [ 1.20894923e+03]\n",
            " [ 1.98211712e+03]\n",
            " [ 1.72331118e+03]\n",
            " [ 1.00522989e+03]\n",
            " [ 1.52685675e+03]\n",
            " [ 1.78332681e+03]\n",
            " [ 2.00999848e+02]\n",
            " [ 1.09281400e+03]\n",
            " [ 1.28341572e+03]\n",
            " [ 2.46789688e+02]\n",
            " [ 1.98330548e+02]\n",
            " [ 1.76087591e+03]\n",
            " [ 1.39706280e+02]\n",
            " [ 5.72847189e+01]\n",
            " [ 3.49506147e+02]\n",
            " [ 8.79894528e+02]\n",
            " [ 1.17273226e+03]\n",
            " [ 1.44064279e+03]\n",
            " [ 5.14924577e+02]\n",
            " [ 4.68792225e+02]\n",
            " [ 7.31542586e+02]\n",
            " [ 8.97331111e+01]\n",
            " [ 3.16937725e+02]\n",
            " [ 4.81955778e+02]\n",
            " [ 9.87791534e+02]\n",
            " [ 3.06769338e+02]\n",
            " [ 8.75855290e+02]\n",
            " [ 5.59562946e+01]\n",
            " [ 1.68762581e+03]\n",
            " [ 7.14302430e+01]\n",
            " [ 8.04798851e+02]\n",
            " [ 3.06526069e+01]\n",
            " [ 4.54703113e+02]\n",
            " [ 2.37306328e+02]\n",
            " [ 1.72642118e+03]\n",
            " [ 1.44132186e+03]\n",
            " [ 6.30477734e+02]\n",
            " [ 4.24640737e+02]\n",
            " [ 1.26586114e+03]\n",
            " [ 1.80150268e+03]\n",
            " [ 1.50212977e+03]\n",
            " [ 3.69420494e+02]\n",
            " [ 4.65746561e+01]\n",
            " [ 1.99749920e+03]\n",
            " [ 5.79350771e+02]\n",
            " [ 1.96246118e+03]\n",
            " [ 1.67559801e+03]\n",
            " [ 1.51308780e+03]\n",
            " [ 1.80291335e+03]\n",
            " [ 4.54576467e+02]\n",
            " [ 1.83756670e+02]\n",
            " [ 2.87425093e+02]\n",
            " [ 1.75216678e+02]\n",
            " [ 1.70030853e+03]\n",
            " [ 1.68929811e+03]\n",
            " [ 3.42792188e+02]\n",
            " [ 1.23084378e+03]\n",
            " [ 1.26280939e+03]\n",
            " [ 8.88411049e+02]\n",
            " [ 1.55343186e+01]\n",
            " [ 1.71561820e+02]\n",
            " [ 8.97949425e+02]\n",
            " [ 1.83783366e+03]\n",
            " [ 3.29703098e+02]\n",
            " [ 1.71702715e+03]\n",
            " [ 6.45305092e+02]\n",
            " [ 9.89808279e+02]\n",
            " [ 1.23750362e+03]\n",
            " [ 8.75940945e+02]\n",
            " [-5.33467864e+00]\n",
            " [ 1.89543976e+03]\n",
            " [ 2.74985548e+02]\n",
            " [ 1.78038380e+02]\n",
            " [ 7.11643919e+02]\n",
            " [ 7.66776417e+02]\n",
            " [ 1.97034870e+02]\n",
            " [ 7.69883247e+02]\n",
            " [ 7.33197028e+02]\n",
            " [ 4.88271634e+01]\n",
            " [ 1.71737466e+03]\n",
            " [ 4.06893587e+01]\n",
            " [ 1.67637913e+03]\n",
            " [ 5.32163533e+01]\n",
            " [ 1.42720993e+03]\n",
            " [ 1.76213470e+03]\n",
            " [ 1.90761459e+03]\n",
            " [ 2.69932881e+02]\n",
            " [ 1.14513625e+02]\n",
            " [ 1.47980792e+03]\n",
            " [ 7.16909316e+01]\n",
            " [ 3.01621132e+02]\n",
            " [ 1.79794293e+03]\n",
            " [ 1.71475014e+02]\n",
            " [ 4.31304157e+02]\n",
            " [ 1.72764677e+03]\n",
            " [ 7.46475795e+02]\n",
            " [ 5.24632650e+02]\n",
            " [ 2.96027143e+02]\n",
            " [ 9.15773833e+02]\n",
            " [ 1.31500519e+03]\n",
            " [ 5.01708039e+02]\n",
            " [ 1.84770254e+03]\n",
            " [ 2.32229233e+02]\n",
            " [ 1.19615230e+03]\n",
            " [ 2.23798890e+02]\n",
            " [ 1.20722378e+02]\n",
            " [ 1.63196499e+03]\n",
            " [ 4.37149506e+02]\n",
            " [ 1.88194197e+03]\n",
            " [ 1.79633806e+03]\n",
            " [ 5.47184662e+02]\n",
            " [ 8.90492765e+02]\n",
            " [ 1.27021622e+03]\n",
            " [ 1.27190648e+03]\n",
            " [ 4.22432058e+02]\n",
            " [ 1.68465765e+03]\n",
            " [ 5.99318988e+01]\n",
            " [ 8.34783512e+02]\n",
            " [ 3.55088561e+02]\n",
            " [ 4.06683290e+02]\n",
            " [ 6.66143925e+02]\n",
            " [ 7.33252559e+02]\n",
            " [ 1.09177140e+03]\n",
            " [ 1.79063212e+03]\n",
            " [ 6.84339259e+02]\n",
            " [ 1.15907993e+03]\n",
            " [ 1.03000744e+03]\n",
            " [ 4.14831320e+02]\n",
            " [ 5.91512453e+02]\n",
            " [ 1.96241616e+03]\n",
            " [ 9.25428093e+02]\n",
            " [ 1.41011946e+03]\n",
            " [ 2.72239751e+02]\n",
            " [ 2.96432079e+02]\n",
            " [ 1.27081509e+03]\n",
            " [ 7.83979467e+02]\n",
            " [ 6.61155846e+02]\n",
            " [ 2.49258840e+02]\n",
            " [ 1.84048150e+03]\n",
            " [ 4.47797754e+02]\n",
            " [ 9.22551795e+01]\n",
            " [ 1.16294872e+03]\n",
            " [ 2.83797176e+02]\n",
            " [ 1.23915065e+03]\n",
            " [ 5.33655934e+02]\n",
            " [ 1.48612764e+03]\n",
            " [ 1.65007441e+03]\n",
            " [ 1.56486733e+03]\n",
            " [ 1.54157008e+03]\n",
            " [ 1.80817625e+02]\n",
            " [ 1.27116846e+03]\n",
            " [ 9.71993929e+02]\n",
            " [ 1.68490022e+03]\n",
            " [ 7.29755815e+02]\n",
            " [ 4.86450894e+02]\n",
            " [ 9.68297576e+02]\n",
            " [ 9.59095414e+02]\n",
            " [ 7.23940231e+02]\n",
            " [ 1.44545307e+02]\n",
            " [ 1.34956548e+03]\n",
            " [ 3.60967024e+02]\n",
            " [ 2.40375245e+02]\n",
            " [ 3.58735189e+02]\n",
            " [ 1.66394421e+03]\n",
            " [ 1.42977334e+03]\n",
            " [ 3.01853835e+02]\n",
            " [ 1.11652389e+03]\n",
            " [ 8.12581761e+02]\n",
            " [ 4.06900185e+02]\n",
            " [ 4.13281881e+02]\n",
            " [ 8.86273131e+02]\n",
            " [ 9.60548219e+02]\n",
            " [ 1.31548299e+03]\n",
            " [ 1.19532135e+03]\n",
            " [ 1.67198770e+03]\n",
            " [ 1.31407665e+02]\n",
            " [ 1.53310170e+03]\n",
            " [ 1.08723529e+03]\n",
            " [ 1.34151965e+03]\n",
            " [ 1.79072428e+03]\n",
            " [ 9.93912591e+01]\n",
            " [ 4.62630296e+02]\n",
            " [ 1.34342336e+03]\n",
            " [ 4.19223235e+02]\n",
            " [ 6.99013889e+02]\n",
            " [ 1.54809576e+03]\n",
            " [ 1.65989566e+03]\n",
            " [ 1.42871859e+03]\n",
            " [ 1.25552644e+03]\n",
            " [ 1.40863324e+03]\n",
            " [ 8.72034122e+00]\n",
            " [ 7.67649844e+02]\n",
            " [ 1.49022984e+03]\n",
            " [ 1.15818019e+03]\n",
            " [ 9.50408938e+02]\n",
            " [ 2.55272696e+01]\n",
            " [ 1.62368753e+03]\n",
            " [ 1.21746842e+03]\n",
            " [ 2.13493349e+02]\n",
            " [ 6.37784607e+02]\n",
            " [ 3.30702517e+02]\n",
            " [ 4.55575788e+02]\n",
            " [ 1.57724385e+03]\n",
            " [ 9.97813224e+02]\n",
            " [ 1.16044447e+03]\n",
            " [ 1.79110927e+01]\n",
            " [ 1.19446293e+03]\n",
            " [ 1.45083421e+03]\n",
            " [ 9.14034628e+02]\n",
            " [ 1.88859785e+03]\n",
            " [ 1.65194589e+03]\n",
            " [ 1.31558470e+03]\n",
            " [ 1.97218563e+03]\n",
            " [ 1.25731419e+03]\n",
            " [ 4.90826827e+02]\n",
            " [ 7.83003706e+02]\n",
            " [ 1.48773789e+03]\n",
            " [ 3.66090883e+02]\n",
            " [ 1.57894024e+03]\n",
            " [ 1.39453848e+03]\n",
            " [ 6.69196427e+02]\n",
            " [ 1.60762247e+03]\n",
            " [ 8.09751620e+02]]\n"
          ],
          "name": "stdout"
        }
      ]
    },
    {
      "cell_type": "code",
      "metadata": {
        "id": "6_ONFZwP0TQj",
        "colab": {
          "base_uri": "https://localhost:8080/",
          "height": 34
        },
        "outputId": "ec325ab6-6ee0-4691-b4f8-57c7cd901c63"
      },
      "source": [
        "min(target)"
      ],
      "execution_count": null,
      "outputs": [
        {
          "output_type": "execute_result",
          "data": {
            "text/plain": [
              "array([-9.47162361])"
            ]
          },
          "metadata": {
            "tags": []
          },
          "execution_count": 43
        }
      ]
    },
    {
      "cell_type": "code",
      "metadata": {
        "id": "Z33A-YLY0WXP",
        "colab": {
          "base_uri": "https://localhost:8080/",
          "height": 34
        },
        "outputId": "48bc3938-a03b-41c1-b828-37bbce38c489"
      },
      "source": [
        "max(target)"
      ],
      "execution_count": null,
      "outputs": [
        {
          "output_type": "execute_result",
          "data": {
            "text/plain": [
              "array([2021.54033925])"
            ]
          },
          "metadata": {
            "tags": []
          },
          "execution_count": 44
        }
      ]
    },
    {
      "cell_type": "code",
      "metadata": {
        "id": "CqFVgttN0cdw",
        "colab": {
          "base_uri": "https://localhost:8080/",
          "height": 34
        },
        "outputId": "01ef6f60-78b1-4041-d960-f1f8309bee6e"
      },
      "source": [
        "print(\"shape of the Target\",target.shape)"
      ],
      "execution_count": null,
      "outputs": [
        {
          "output_type": "stream",
          "text": [
            "shape of the Target (1000, 1)\n"
          ],
          "name": "stdout"
        }
      ]
    },
    {
      "cell_type": "code",
      "metadata": {
        "id": "sX2K0TUz0isN"
      },
      "source": [
        "target = target.reshape(observations,)"
      ],
      "execution_count": null,
      "outputs": []
    },
    {
      "cell_type": "code",
      "metadata": {
        "id": "rkvBJTRe1A1T",
        "colab": {
          "base_uri": "https://localhost:8080/",
          "height": 248
        },
        "outputId": "44cc2dae-5a30-44b9-ca07-28d4a3b1a3af"
      },
      "source": [
        "fig  = plt.figure()\n",
        "ax = fig.add_subplot(111,projection = \"3d\")\n",
        "ax.plot(xs,zs,target)\n",
        "ax.set_title(\"plot\")\n",
        "ax.set_xlabel(\"xs\")\n",
        "ax.set_ylabel('ys')\n",
        "ax.set_zlabel(\"target\")\n",
        "ax.view_init(azim = 100)\n",
        "plt.show()"
      ],
      "execution_count": null,
      "outputs": [
        {
          "output_type": "display_data",
          "data": {
            "image/png": "[encoded data removed]",
            "text/plain": [
              "<Figure size 432x288 with 1 Axes>"
            ]
          },
          "metadata": {
            "tags": []
          }
        }
      ]
    },
    {
      "cell_type": "code",
      "metadata": {
        "id": "JpRx9tPQ1IN5"
      },
      "source": [
        "init_range = 0.1"
      ],
      "execution_count": null,
      "outputs": []
    },
    {
      "cell_type": "code",
      "metadata": {
        "id": "huERytjl1KqW"
      },
      "source": [
        "weights = np.random.uniform(init_range,init_range,size = (2,1))"
      ],
      "execution_count": null,
      "outputs": []
    },
    {
      "cell_type": "code",
      "metadata": {
        "id": "0LJ9ynxD6uDz"
      },
      "source": [
        "bias = np.random.uniform(-init_range,init_range,size = 1)"
      ],
      "execution_count": null,
      "outputs": []
    },
    {
      "cell_type": "code",
      "metadata": {
        "id": "6nAK3NF168AM",
        "colab": {
          "base_uri": "https://localhost:8080/",
          "height": 51
        },
        "outputId": "d09db3df-2575-4adf-9dec-4fde0c817090"
      },
      "source": [
        "print(weights)"
      ],
      "execution_count": null,
      "outputs": [
        {
          "output_type": "stream",
          "text": [
            "[[0.1]\n",
            " [0.1]]\n"
          ],
          "name": "stdout"
        }
      ]
    },
    {
      "cell_type": "code",
      "metadata": {
        "id": "r9KzK2s67CU6",
        "colab": {
          "base_uri": "https://localhost:8080/",
          "height": 34
        },
        "outputId": "61922c4e-453b-4ebb-f35c-506db557125c"
      },
      "source": [
        "print(bias)"
      ],
      "execution_count": null,
      "outputs": [
        {
          "output_type": "stream",
          "text": [
            "[0.09726371]\n"
          ],
          "name": "stdout"
        }
      ]
    },
    {
      "cell_type": "code",
      "metadata": {
        "id": "q198CpS17D0v"
      },
      "source": [
        "learning_rate = 0.02"
      ],
      "execution_count": null,
      "outputs": []
    },
    {
      "cell_type": "code",
      "metadata": {
        "id": "KXIPzZF37M3f",
        "colab": {
          "base_uri": "https://localhost:8080/",
          "height": 269
        },
        "outputId": "5a77f9d9-838e-4a11-931d-e7335687ab21"
      },
      "source": [
        "for i in range(100):\n",
        "  output = np.dot(inputs,weights) + bias\n",
        "  deltas = output - target\n",
        "  loss = np.sum(deltas ** 2)/ 2 / observations\n",
        "  print(\"loss : \",loss)\n",
        "  deltas_scaled = deltas / observations\n",
        "  weights = #mx+c"
      ],
      "execution_count": null,
      "outputs": [
        {
          "output_type": "stream",
          "text": [
            "loss :  603759419.3910869\n"
          ],
          "name": "stdout"
        },
        {
          "output_type": "error",
          "ename": "ValueError",
          "evalue": "ignored",
          "traceback": [
            "\u001b[0;31m---------------------------------------------------------------------------\u001b[0m",
            "\u001b[0;31mValueError\u001b[0m                                Traceback (most recent call last)",
            "\u001b[0;32m<ipython-input-78-870af0a40698>\u001b[0m in \u001b[0;36m<module>\u001b[0;34m()\u001b[0m\n\u001b[1;32m      1\u001b[0m \u001b[0;32mfor\u001b[0m \u001b[0mi\u001b[0m \u001b[0;32min\u001b[0m \u001b[0mrange\u001b[0m\u001b[0;34m(\u001b[0m\u001b[0;36m100\u001b[0m\u001b[0;34m)\u001b[0m\u001b[0;34m:\u001b[0m\u001b[0;34m\u001b[0m\u001b[0;34m\u001b[0m\u001b[0m\n\u001b[1;32m      2\u001b[0m   \u001b[0moutput\u001b[0m \u001b[0;34m=\u001b[0m \u001b[0mnp\u001b[0m\u001b[0;34m.\u001b[0m\u001b[0mdot\u001b[0m\u001b[0;34m(\u001b[0m\u001b[0minputs\u001b[0m\u001b[0;34m,\u001b[0m\u001b[0mweights\u001b[0m\u001b[0;34m)\u001b[0m \u001b[0;34m+\u001b[0m \u001b[0mbias\u001b[0m\u001b[0;34m\u001b[0m\u001b[0;34m\u001b[0m\u001b[0m\n\u001b[0;32m----> 3\u001b[0;31m   \u001b[0mdeltas\u001b[0m \u001b[0;34m=\u001b[0m \u001b[0moutput\u001b[0m \u001b[0;34m-\u001b[0m \u001b[0mtarget\u001b[0m\u001b[0;34m\u001b[0m\u001b[0;34m\u001b[0m\u001b[0m\n\u001b[0m\u001b[1;32m      4\u001b[0m   \u001b[0mloss\u001b[0m \u001b[0;34m=\u001b[0m \u001b[0mnp\u001b[0m\u001b[0;34m.\u001b[0m\u001b[0msum\u001b[0m\u001b[0;34m(\u001b[0m\u001b[0mdeltas\u001b[0m \u001b[0;34m**\u001b[0m \u001b[0;36m2\u001b[0m\u001b[0;34m)\u001b[0m\u001b[0;34m/\u001b[0m \u001b[0;36m2\u001b[0m \u001b[0;34m/\u001b[0m \u001b[0mobservations\u001b[0m\u001b[0;34m\u001b[0m\u001b[0;34m\u001b[0m\u001b[0m\n\u001b[1;32m      5\u001b[0m   \u001b[0mprint\u001b[0m\u001b[0;34m(\u001b[0m\u001b[0;34m\"loss : \"\u001b[0m\u001b[0;34m,\u001b[0m\u001b[0mloss\u001b[0m\u001b[0;34m)\u001b[0m\u001b[0;34m\u001b[0m\u001b[0;34m\u001b[0m\u001b[0m\n",
            "\u001b[0;31mValueError\u001b[0m: operands could not be broadcast together with shapes (1000,2) (1000,) "
          ]
        }
      ]
    },
    {
      "cell_type": "markdown",
      "metadata": {
        "id": "5FFELsV1YzzY"
      },
      "source": [
        "![neurn](https://upload.wikimedia.org/wikipedia/commons/thumb/b/b5/Neuron.svg/1200px-Neuron.svg.png)"
      ]
    },
    {
      "cell_type": "code",
      "metadata": {
        "id": "qzePfHHJ7PVP"
      },
      "source": [
        "import tensorflow as tf"
      ],
      "execution_count": null,
      "outputs": []
    },
    {
      "cell_type": "code",
      "metadata": {
        "id": "wP82sV_W9Lq4",
        "colab": {
          "base_uri": "https://localhost:8080/",
          "height": 34
        },
        "outputId": "b9fee597-4db2-41ec-ffb9-fdb86bcb9110"
      },
      "source": [
        "tf.__version__"
      ],
      "execution_count": null,
      "outputs": [
        {
          "output_type": "execute_result",
          "data": {
            "text/plain": [
              "'2.0.0-beta1'"
            ]
          },
          "metadata": {
            "tags": []
          },
          "execution_count": 4
        }
      ]
    },
    {
      "cell_type": "markdown",
      "metadata": {
        "id": "J6iIQene-Y53"
      },
      "source": [
        "Why Tensorflow 2.0\n",
        "1. Versatile\n",
        "2.Simplified API\n",
        "3.Already made easy\n",
        "4.   [@tf.fucntion](https://www.tensorflow.org/beta/tutorials/eager/tf_function)"
      ]
    },
    {
      "cell_type": "code",
      "metadata": {
        "id": "xue9V7L49NY9"
      },
      "source": [
        "import numpy as np\n",
        "import matplotlib.pyplot as plt\n",
        "import tensorflow as tf"
      ],
      "execution_count": null,
      "outputs": []
    },
    {
      "cell_type": "code",
      "metadata": {
        "id": "52dh8LdOAiOd"
      },
      "source": [
        "observations = 1000\n",
        "xs = np.random.uniform(low = -10,high  = 10, size = (observations ,1))"
      ],
      "execution_count": null,
      "outputs": []
    },
    {
      "cell_type": "code",
      "metadata": {
        "id": "DqpuVurmAzs9"
      },
      "source": [
        "zs = np.random.uniform(low = -10,high = 10, size = (observations,1))"
      ],
      "execution_count": null,
      "outputs": []
    },
    {
      "cell_type": "code",
      "metadata": {
        "id": "8jW2wPYcBAGM"
      },
      "source": [
        "generated_input = np.column_stack((xs,zs))"
      ],
      "execution_count": null,
      "outputs": []
    },
    {
      "cell_type": "code",
      "metadata": {
        "id": "0YhFdQP9BH4G"
      },
      "source": [
        "noise = np.random.uniform(low = -1,high = 1, size = (observations,1))"
      ],
      "execution_count": null,
      "outputs": []
    },
    {
      "cell_type": "code",
      "metadata": {
        "id": "IUgWUxJlBRHk"
      },
      "source": [
        "generated_target = (2* xs) -(3 * zs) + 5 + noise"
      ],
      "execution_count": null,
      "outputs": []
    },
    {
      "cell_type": "code",
      "metadata": {
        "id": "lJZGvzleBlwY"
      },
      "source": [
        "np.savez(\"tf_log\",inputs = generated_input , targets = generated_target)"
      ],
      "execution_count": null,
      "outputs": []
    },
    {
      "cell_type": "code",
      "metadata": {
        "id": "wBoB178SBxJ3"
      },
      "source": [
        "train_data = np.load(\"tf_log.npz\")"
      ],
      "execution_count": null,
      "outputs": []
    },
    {
      "cell_type": "markdown",
      "metadata": {
        "id": "2fMa1komCEG5"
      },
      "source": [
        "#Model Layout\n",
        "\n"
      ]
    },
    {
      "cell_type": "code",
      "metadata": {
        "id": "R5jaYjOnB5UW"
      },
      "source": [
        "input_size = 2\n",
        "output_size = 1"
      ],
      "execution_count": null,
      "outputs": []
    },
    {
      "cell_type": "markdown",
      "metadata": {
        "id": "Xv7NSrI9CrCY"
      },
      "source": [
        "#[Sequential](https://www.tensorflow.org/api_docs/python/tf/keras/Sequential)"
      ]
    },
    {
      "cell_type": "code",
      "metadata": {
        "id": "WUsODAzlB8Ii"
      },
      "source": [
        "model = tf.keras.Sequential([\n",
        "    tf.keras.layers.Dense(output_size) \n",
        "])"
      ],
      "execution_count": null,
      "outputs": []
    },
    {
      "cell_type": "code",
      "metadata": {
        "id": "lU9zEoEbVYNC"
      },
      "source": [
        "custom_optimizer = tf.keras.optimizers.SGD(0.003)"
      ],
      "execution_count": null,
      "outputs": []
    },
    {
      "cell_type": "code",
      "metadata": {
        "id": "hAHlpRPeC1qx"
      },
      "source": [
        "model.compile(optimizer = custom_optimizer,loss = \"mean_squared_error\")"
      ],
      "execution_count": null,
      "outputs": []
    },
    {
      "cell_type": "code",
      "metadata": {
        "id": "x-UU3SUDDqNg",
        "colab": {
          "base_uri": "https://localhost:8080/",
          "height": 34
        },
        "outputId": "cc8b4623-e8fa-47d2-d745-0addd3586663"
      },
      "source": [
        "model.fit(train_data['inputs'],train_data['targets'],epochs = 100,verbose =0 )"
      ],
      "execution_count": null,
      "outputs": [
        {
          "output_type": "execute_result",
          "data": {
            "text/plain": [
              "<tensorflow.python.keras.callbacks.History at 0x7f0220243c18>"
            ]
          },
          "metadata": {
            "tags": []
          },
          "execution_count": 15
        }
      ]
    },
    {
      "cell_type": "code",
      "metadata": {
        "id": "apQetcxDFGva",
        "colab": {
          "base_uri": "https://localhost:8080/",
          "height": 1000
        },
        "outputId": "97895076-c60f-48c9-d6ac-d047b9786652"
      },
      "source": [
        "model.fit(train_data['inputs'],train_data['targets'],epochs = 100,verbose = 1)"
      ],
      "execution_count": null,
      "outputs": [
        {
          "output_type": "stream",
          "text": [
            "Train on 1000 samples\n",
            "Epoch 1/100\n",
            "1000/1000 [==============================] - 0s 64us/sample - loss: 28.7331\n",
            "Epoch 2/100\n",
            "1000/1000 [==============================] - 0s 30us/sample - loss: 4.4009\n",
            "Epoch 3/100\n",
            "1000/1000 [==============================] - 0s 31us/sample - loss: 1.4517\n",
            "Epoch 4/100\n",
            "1000/1000 [==============================] - 0s 30us/sample - loss: 0.6617\n",
            "Epoch 5/100\n",
            "1000/1000 [==============================] - 0s 31us/sample - loss: 0.4380\n",
            "Epoch 6/100\n",
            "1000/1000 [==============================] - 0s 35us/sample - loss: 0.3735\n",
            "Epoch 7/100\n",
            "1000/1000 [==============================] - 0s 31us/sample - loss: 0.3580\n",
            "Epoch 8/100\n",
            "1000/1000 [==============================] - 0s 32us/sample - loss: 0.3568\n",
            "Epoch 9/100\n",
            "1000/1000 [==============================] - 0s 32us/sample - loss: 0.3524\n",
            "Epoch 10/100\n",
            "1000/1000 [==============================] - 0s 34us/sample - loss: 0.3552\n",
            "Epoch 11/100\n",
            "1000/1000 [==============================] - 0s 31us/sample - loss: 0.3629\n",
            "Epoch 12/100\n",
            "1000/1000 [==============================] - 0s 32us/sample - loss: 0.3565\n",
            "Epoch 13/100\n",
            "1000/1000 [==============================] - 0s 31us/sample - loss: 0.3554\n",
            "Epoch 14/100\n",
            "1000/1000 [==============================] - 0s 32us/sample - loss: 0.3549\n",
            "Epoch 15/100\n",
            "1000/1000 [==============================] - 0s 29us/sample - loss: 0.3478\n",
            "Epoch 16/100\n",
            "1000/1000 [==============================] - 0s 33us/sample - loss: 0.3536\n",
            "Epoch 17/100\n",
            "1000/1000 [==============================] - 0s 30us/sample - loss: 0.3559\n",
            "Epoch 18/100\n",
            "1000/1000 [==============================] - 0s 35us/sample - loss: 0.3603\n",
            "Epoch 19/100\n",
            "1000/1000 [==============================] - 0s 32us/sample - loss: 0.3532\n",
            "Epoch 20/100\n",
            "1000/1000 [==============================] - 0s 32us/sample - loss: 0.3523\n",
            "Epoch 21/100\n",
            "1000/1000 [==============================] - 0s 35us/sample - loss: 0.3553\n",
            "Epoch 22/100\n",
            "1000/1000 [==============================] - 0s 33us/sample - loss: 0.3573\n",
            "Epoch 23/100\n",
            "1000/1000 [==============================] - 0s 31us/sample - loss: 0.3590\n",
            "Epoch 24/100\n",
            "1000/1000 [==============================] - 0s 32us/sample - loss: 0.3529\n",
            "Epoch 25/100\n",
            "1000/1000 [==============================] - 0s 32us/sample - loss: 0.3477\n",
            "Epoch 26/100\n",
            "1000/1000 [==============================] - 0s 32us/sample - loss: 0.3547\n",
            "Epoch 27/100\n",
            "1000/1000 [==============================] - 0s 34us/sample - loss: 0.3507\n",
            "Epoch 28/100\n",
            "1000/1000 [==============================] - 0s 32us/sample - loss: 0.3540\n",
            "Epoch 29/100\n",
            "1000/1000 [==============================] - 0s 32us/sample - loss: 0.3570\n",
            "Epoch 30/100\n",
            "1000/1000 [==============================] - 0s 32us/sample - loss: 0.3482\n",
            "Epoch 31/100\n",
            "1000/1000 [==============================] - 0s 30us/sample - loss: 0.3538\n",
            "Epoch 32/100\n",
            "1000/1000 [==============================] - 0s 31us/sample - loss: 0.3564\n",
            "Epoch 33/100\n",
            "1000/1000 [==============================] - 0s 31us/sample - loss: 0.3557\n",
            "Epoch 34/100\n",
            "1000/1000 [==============================] - 0s 33us/sample - loss: 0.3580\n",
            "Epoch 35/100\n",
            "1000/1000 [==============================] - 0s 35us/sample - loss: 0.3475\n",
            "Epoch 36/100\n",
            "1000/1000 [==============================] - 0s 34us/sample - loss: 0.3537\n",
            "Epoch 37/100\n",
            "1000/1000 [==============================] - 0s 31us/sample - loss: 0.3606\n",
            "Epoch 38/100\n",
            "1000/1000 [==============================] - 0s 31us/sample - loss: 0.3508\n",
            "Epoch 39/100\n",
            "1000/1000 [==============================] - 0s 30us/sample - loss: 0.3544\n",
            "Epoch 40/100\n",
            "1000/1000 [==============================] - 0s 32us/sample - loss: 0.3494\n",
            "Epoch 41/100\n",
            "1000/1000 [==============================] - 0s 32us/sample - loss: 0.3518\n",
            "Epoch 42/100\n",
            "1000/1000 [==============================] - 0s 32us/sample - loss: 0.3535\n",
            "Epoch 43/100\n",
            "1000/1000 [==============================] - 0s 32us/sample - loss: 0.3593\n",
            "Epoch 44/100\n",
            "1000/1000 [==============================] - 0s 32us/sample - loss: 0.3593\n",
            "Epoch 45/100\n",
            "1000/1000 [==============================] - 0s 33us/sample - loss: 0.3524\n",
            "Epoch 46/100\n",
            "1000/1000 [==============================] - 0s 30us/sample - loss: 0.3539\n",
            "Epoch 47/100\n",
            "1000/1000 [==============================] - 0s 30us/sample - loss: 0.3553\n",
            "Epoch 48/100\n",
            "1000/1000 [==============================] - 0s 33us/sample - loss: 0.3609\n",
            "Epoch 49/100\n",
            "1000/1000 [==============================] - 0s 31us/sample - loss: 0.3638\n",
            "Epoch 50/100\n",
            "1000/1000 [==============================] - 0s 31us/sample - loss: 0.3529\n",
            "Epoch 51/100\n",
            "1000/1000 [==============================] - 0s 31us/sample - loss: 0.3527\n",
            "Epoch 52/100\n",
            "1000/1000 [==============================] - 0s 34us/sample - loss: 0.3600\n",
            "Epoch 53/100\n",
            "1000/1000 [==============================] - 0s 33us/sample - loss: 0.3527\n",
            "Epoch 54/100\n",
            "1000/1000 [==============================] - 0s 31us/sample - loss: 0.3525\n",
            "Epoch 55/100\n",
            "1000/1000 [==============================] - 0s 31us/sample - loss: 0.3552\n",
            "Epoch 56/100\n",
            "1000/1000 [==============================] - 0s 31us/sample - loss: 0.3548\n",
            "Epoch 57/100\n",
            "1000/1000 [==============================] - 0s 31us/sample - loss: 0.3651\n",
            "Epoch 58/100\n",
            "1000/1000 [==============================] - 0s 35us/sample - loss: 0.3520\n",
            "Epoch 59/100\n",
            "1000/1000 [==============================] - 0s 33us/sample - loss: 0.3472\n",
            "Epoch 60/100\n",
            "1000/1000 [==============================] - 0s 33us/sample - loss: 0.3605\n",
            "Epoch 61/100\n",
            "1000/1000 [==============================] - 0s 30us/sample - loss: 0.3529\n",
            "Epoch 62/100\n",
            "1000/1000 [==============================] - 0s 33us/sample - loss: 0.3448\n",
            "Epoch 63/100\n",
            "1000/1000 [==============================] - 0s 31us/sample - loss: 0.3538\n",
            "Epoch 64/100\n",
            "1000/1000 [==============================] - 0s 33us/sample - loss: 0.3578\n",
            "Epoch 65/100\n",
            "1000/1000 [==============================] - 0s 32us/sample - loss: 0.3482\n",
            "Epoch 66/100\n",
            "1000/1000 [==============================] - 0s 30us/sample - loss: 0.3525\n",
            "Epoch 67/100\n",
            "1000/1000 [==============================] - 0s 31us/sample - loss: 0.3573\n",
            "Epoch 68/100\n",
            "1000/1000 [==============================] - 0s 33us/sample - loss: 0.3548\n",
            "Epoch 69/100\n",
            "1000/1000 [==============================] - 0s 32us/sample - loss: 0.3574\n",
            "Epoch 70/100\n",
            "1000/1000 [==============================] - 0s 31us/sample - loss: 0.3585\n",
            "Epoch 71/100\n",
            "1000/1000 [==============================] - 0s 32us/sample - loss: 0.3557\n",
            "Epoch 72/100\n",
            "1000/1000 [==============================] - 0s 31us/sample - loss: 0.3608\n",
            "Epoch 73/100\n",
            "1000/1000 [==============================] - 0s 35us/sample - loss: 0.3581\n",
            "Epoch 74/100\n",
            "1000/1000 [==============================] - 0s 31us/sample - loss: 0.3487\n",
            "Epoch 75/100\n",
            "1000/1000 [==============================] - 0s 34us/sample - loss: 0.3594\n",
            "Epoch 76/100\n",
            "1000/1000 [==============================] - 0s 30us/sample - loss: 0.3497\n",
            "Epoch 77/100\n",
            "1000/1000 [==============================] - 0s 30us/sample - loss: 0.3520\n",
            "Epoch 78/100\n",
            "1000/1000 [==============================] - 0s 37us/sample - loss: 0.3558\n",
            "Epoch 79/100\n",
            "1000/1000 [==============================] - 0s 31us/sample - loss: 0.3558\n",
            "Epoch 80/100\n",
            "1000/1000 [==============================] - 0s 32us/sample - loss: 0.3517\n",
            "Epoch 81/100\n",
            "1000/1000 [==============================] - 0s 34us/sample - loss: 0.3586\n",
            "Epoch 82/100\n",
            "1000/1000 [==============================] - 0s 32us/sample - loss: 0.3531\n",
            "Epoch 83/100\n",
            "1000/1000 [==============================] - 0s 32us/sample - loss: 0.3481\n",
            "Epoch 84/100\n",
            "1000/1000 [==============================] - 0s 31us/sample - loss: 0.3573\n",
            "Epoch 85/100\n",
            "1000/1000 [==============================] - 0s 33us/sample - loss: 0.3516\n",
            "Epoch 86/100\n",
            "1000/1000 [==============================] - 0s 33us/sample - loss: 0.3629\n",
            "Epoch 87/100\n",
            "1000/1000 [==============================] - 0s 30us/sample - loss: 0.3541\n",
            "Epoch 88/100\n",
            "1000/1000 [==============================] - 0s 30us/sample - loss: 0.3553\n",
            "Epoch 89/100\n",
            "1000/1000 [==============================] - 0s 32us/sample - loss: 0.3556\n",
            "Epoch 90/100\n",
            "1000/1000 [==============================] - 0s 30us/sample - loss: 0.3546\n",
            "Epoch 91/100\n",
            "1000/1000 [==============================] - 0s 32us/sample - loss: 0.3538\n",
            "Epoch 92/100\n",
            "1000/1000 [==============================] - 0s 33us/sample - loss: 0.3510\n",
            "Epoch 93/100\n",
            "1000/1000 [==============================] - 0s 33us/sample - loss: 0.3544\n",
            "Epoch 94/100\n",
            "1000/1000 [==============================] - 0s 37us/sample - loss: 0.3544\n",
            "Epoch 95/100\n",
            "1000/1000 [==============================] - 0s 31us/sample - loss: 0.3578\n",
            "Epoch 96/100\n",
            "1000/1000 [==============================] - 0s 30us/sample - loss: 0.3524\n",
            "Epoch 97/100\n",
            "1000/1000 [==============================] - 0s 32us/sample - loss: 0.3427\n",
            "Epoch 98/100\n",
            "1000/1000 [==============================] - 0s 33us/sample - loss: 0.3521\n",
            "Epoch 99/100\n",
            "1000/1000 [==============================] - 0s 31us/sample - loss: 0.3548\n",
            "Epoch 100/100\n",
            "1000/1000 [==============================] - 0s 30us/sample - loss: 0.3536\n"
          ],
          "name": "stdout"
        },
        {
          "output_type": "execute_result",
          "data": {
            "text/plain": [
              "<tensorflow.python.keras.callbacks.History at 0x7f3c1da3ec88>"
            ]
          },
          "metadata": {
            "tags": []
          },
          "execution_count": 94
        }
      ]
    },
    {
      "cell_type": "code",
      "metadata": {
        "id": "AauVEKPmFZPR",
        "colab": {
          "base_uri": "https://localhost:8080/",
          "height": 1000
        },
        "outputId": "a5673a67-e9b2-4ac1-c513-b6dd4eb78bfd"
      },
      "source": [
        "model.fit(train_data['inputs'],train_data['targets'],epochs = 100,verbose =2 )"
      ],
      "execution_count": null,
      "outputs": [
        {
          "output_type": "stream",
          "text": [
            "Epoch 1/100\n",
            "32/32 - 0s - loss: 43.4663\n",
            "Epoch 2/100\n",
            "32/32 - 0s - loss: 14.4993\n",
            "Epoch 3/100\n",
            "32/32 - 0s - loss: 9.9241\n",
            "Epoch 4/100\n",
            "32/32 - 0s - loss: 6.9123\n",
            "Epoch 5/100\n",
            "32/32 - 0s - loss: 4.8032\n",
            "Epoch 6/100\n",
            "32/32 - 0s - loss: 3.3737\n",
            "Epoch 7/100\n",
            "32/32 - 0s - loss: 2.4095\n",
            "Epoch 8/100\n",
            "32/32 - 0s - loss: 1.7429\n",
            "Epoch 9/100\n",
            "32/32 - 0s - loss: 1.2830\n",
            "Epoch 10/100\n",
            "32/32 - 0s - loss: 0.9846\n",
            "Epoch 11/100\n",
            "32/32 - 0s - loss: 0.7728\n",
            "Epoch 12/100\n",
            "32/32 - 0s - loss: 0.6500\n",
            "Epoch 13/100\n",
            "32/32 - 0s - loss: 0.5461\n",
            "Epoch 14/100\n",
            "32/32 - 0s - loss: 0.4787\n",
            "Epoch 15/100\n",
            "32/32 - 0s - loss: 0.4321\n",
            "Epoch 16/100\n",
            "32/32 - 0s - loss: 0.4040\n",
            "Epoch 17/100\n",
            "32/32 - 0s - loss: 0.3890\n",
            "Epoch 18/100\n",
            "32/32 - 0s - loss: 0.3667\n",
            "Epoch 19/100\n",
            "32/32 - 0s - loss: 0.3580\n",
            "Epoch 20/100\n",
            "32/32 - 0s - loss: 0.3459\n",
            "Epoch 21/100\n",
            "32/32 - 0s - loss: 0.3474\n",
            "Epoch 22/100\n",
            "32/32 - 0s - loss: 0.3489\n",
            "Epoch 23/100\n",
            "32/32 - 0s - loss: 0.3441\n",
            "Epoch 24/100\n",
            "32/32 - 0s - loss: 0.3448\n",
            "Epoch 25/100\n",
            "32/32 - 0s - loss: 0.3428\n",
            "Epoch 26/100\n",
            "32/32 - 0s - loss: 0.3435\n",
            "Epoch 27/100\n",
            "32/32 - 0s - loss: 0.3386\n",
            "Epoch 28/100\n",
            "32/32 - 0s - loss: 0.3346\n",
            "Epoch 29/100\n",
            "32/32 - 0s - loss: 0.3402\n",
            "Epoch 30/100\n",
            "32/32 - 0s - loss: 0.3347\n",
            "Epoch 31/100\n",
            "32/32 - 0s - loss: 0.3413\n",
            "Epoch 32/100\n",
            "32/32 - 0s - loss: 0.3395\n",
            "Epoch 33/100\n",
            "32/32 - 0s - loss: 0.3434\n",
            "Epoch 34/100\n",
            "32/32 - 0s - loss: 0.3384\n",
            "Epoch 35/100\n",
            "32/32 - 0s - loss: 0.3412\n",
            "Epoch 36/100\n",
            "32/32 - 0s - loss: 0.3368\n",
            "Epoch 37/100\n",
            "32/32 - 0s - loss: 0.3380\n",
            "Epoch 38/100\n",
            "32/32 - 0s - loss: 0.3397\n",
            "Epoch 39/100\n",
            "32/32 - 0s - loss: 0.3368\n",
            "Epoch 40/100\n",
            "32/32 - 0s - loss: 0.3397\n",
            "Epoch 41/100\n",
            "32/32 - 0s - loss: 0.3386\n",
            "Epoch 42/100\n",
            "32/32 - 0s - loss: 0.3382\n",
            "Epoch 43/100\n",
            "32/32 - 0s - loss: 0.3400\n",
            "Epoch 44/100\n",
            "32/32 - 0s - loss: 0.3389\n",
            "Epoch 45/100\n",
            "32/32 - 0s - loss: 0.3372\n",
            "Epoch 46/100\n",
            "32/32 - 0s - loss: 0.3402\n",
            "Epoch 47/100\n",
            "32/32 - 0s - loss: 0.3416\n",
            "Epoch 48/100\n",
            "32/32 - 0s - loss: 0.3379\n",
            "Epoch 49/100\n",
            "32/32 - 0s - loss: 0.3379\n",
            "Epoch 50/100\n",
            "32/32 - 0s - loss: 0.3394\n",
            "Epoch 51/100\n",
            "32/32 - 0s - loss: 0.3369\n",
            "Epoch 52/100\n",
            "32/32 - 0s - loss: 0.3402\n",
            "Epoch 53/100\n",
            "32/32 - 0s - loss: 0.3396\n",
            "Epoch 54/100\n",
            "32/32 - 0s - loss: 0.3389\n",
            "Epoch 55/100\n",
            "32/32 - 0s - loss: 0.3416\n",
            "Epoch 56/100\n",
            "32/32 - 0s - loss: 0.3438\n",
            "Epoch 57/100\n",
            "32/32 - 0s - loss: 0.3439\n",
            "Epoch 58/100\n",
            "32/32 - 0s - loss: 0.3422\n",
            "Epoch 59/100\n",
            "32/32 - 0s - loss: 0.3383\n",
            "Epoch 60/100\n",
            "32/32 - 0s - loss: 0.3411\n",
            "Epoch 61/100\n",
            "32/32 - 0s - loss: 0.3385\n",
            "Epoch 62/100\n",
            "32/32 - 0s - loss: 0.3380\n",
            "Epoch 63/100\n",
            "32/32 - 0s - loss: 0.3386\n",
            "Epoch 64/100\n",
            "32/32 - 0s - loss: 0.3437\n",
            "Epoch 65/100\n",
            "32/32 - 0s - loss: 0.3393\n",
            "Epoch 66/100\n",
            "32/32 - 0s - loss: 0.3408\n",
            "Epoch 67/100\n",
            "32/32 - 0s - loss: 0.3394\n",
            "Epoch 68/100\n",
            "32/32 - 0s - loss: 0.3398\n",
            "Epoch 69/100\n",
            "32/32 - 0s - loss: 0.3358\n",
            "Epoch 70/100\n",
            "32/32 - 0s - loss: 0.3371\n",
            "Epoch 71/100\n",
            "32/32 - 0s - loss: 0.3406\n",
            "Epoch 72/100\n",
            "32/32 - 0s - loss: 0.3403\n",
            "Epoch 73/100\n",
            "32/32 - 0s - loss: 0.3396\n",
            "Epoch 74/100\n",
            "32/32 - 0s - loss: 0.3392\n",
            "Epoch 75/100\n",
            "32/32 - 0s - loss: 0.3406\n",
            "Epoch 76/100\n",
            "32/32 - 0s - loss: 0.3383\n",
            "Epoch 77/100\n",
            "32/32 - 0s - loss: 0.3385\n",
            "Epoch 78/100\n",
            "32/32 - 0s - loss: 0.3374\n",
            "Epoch 79/100\n",
            "32/32 - 0s - loss: 0.3446\n",
            "Epoch 80/100\n",
            "32/32 - 0s - loss: 0.3443\n",
            "Epoch 81/100\n",
            "32/32 - 0s - loss: 0.3442\n",
            "Epoch 82/100\n",
            "32/32 - 0s - loss: 0.3380\n",
            "Epoch 83/100\n",
            "32/32 - 0s - loss: 0.3417\n",
            "Epoch 84/100\n",
            "32/32 - 0s - loss: 0.3393\n",
            "Epoch 85/100\n",
            "32/32 - 0s - loss: 0.3391\n",
            "Epoch 86/100\n",
            "32/32 - 0s - loss: 0.3414\n",
            "Epoch 87/100\n",
            "32/32 - 0s - loss: 0.3422\n",
            "Epoch 88/100\n",
            "32/32 - 0s - loss: 0.3399\n",
            "Epoch 89/100\n",
            "32/32 - 0s - loss: 0.3401\n",
            "Epoch 90/100\n",
            "32/32 - 0s - loss: 0.3417\n",
            "Epoch 91/100\n",
            "32/32 - 0s - loss: 0.3390\n",
            "Epoch 92/100\n",
            "32/32 - 0s - loss: 0.3394\n",
            "Epoch 93/100\n",
            "32/32 - 0s - loss: 0.3435\n",
            "Epoch 94/100\n",
            "32/32 - 0s - loss: 0.3357\n",
            "Epoch 95/100\n",
            "32/32 - 0s - loss: 0.3407\n",
            "Epoch 96/100\n",
            "32/32 - 0s - loss: 0.3406\n",
            "Epoch 97/100\n",
            "32/32 - 0s - loss: 0.3383\n",
            "Epoch 98/100\n",
            "32/32 - 0s - loss: 0.3386\n",
            "Epoch 99/100\n",
            "32/32 - 0s - loss: 0.3384\n",
            "Epoch 100/100\n",
            "32/32 - 0s - loss: 0.3404\n"
          ],
          "name": "stdout"
        },
        {
          "output_type": "execute_result",
          "data": {
            "text/plain": [
              "<tensorflow.python.keras.callbacks.History at 0x7f930fc512e8>"
            ]
          },
          "metadata": {
            "tags": []
          },
          "execution_count": 59
        }
      ]
    },
    {
      "cell_type": "markdown",
      "metadata": {
        "id": "2uXY_DaGE3uh"
      },
      "source": [
        "#Result Extraction"
      ]
    },
    {
      "cell_type": "code",
      "metadata": {
        "id": "Rh2V4SpAD9t8"
      },
      "source": [
        "biases = model.layers[0].get_weights()"
      ],
      "execution_count": null,
      "outputs": []
    },
    {
      "cell_type": "code",
      "metadata": {
        "id": "RKP2b-mLFuZw",
        "colab": {
          "base_uri": "https://localhost:8080/",
          "height": 51
        },
        "outputId": "0fbda1a3-e166-49fd-f462-b6766f0139f7"
      },
      "source": [
        "biases"
      ],
      "execution_count": null,
      "outputs": [
        {
          "output_type": "execute_result",
          "data": {
            "text/plain": [
              "[array([[ 1.9864419],\n",
              "        [-3.0078685]], dtype=float32), array([4.9927063], dtype=float32)]"
            ]
          },
          "metadata": {
            "tags": []
          },
          "execution_count": 61
        }
      ]
    },
    {
      "cell_type": "code",
      "metadata": {
        "id": "7Z-0WtMSGBa7",
        "colab": {
          "base_uri": "https://localhost:8080/",
          "height": 1000
        },
        "outputId": "50c3b86f-d131-40c7-cb2a-b0b3041e8958"
      },
      "source": [
        "model.predict_on_batch(train_data['inputs']).round(1)"
      ],
      "execution_count": null,
      "outputs": [
        {
          "output_type": "execute_result",
          "data": {
            "text/plain": [
              "array([[ 15.8],\n",
              "       [ 15.8],\n",
              "       [-16.3],\n",
              "       [-12.9],\n",
              "       [ -5.4],\n",
              "       [ 47.9],\n",
              "       [  5.7],\n",
              "       [-11.7],\n",
              "       [ 42.1],\n",
              "       [ 54.3],\n",
              "       [ 18.6],\n",
              "       [ -9.9],\n",
              "       [-18. ],\n",
              "       [-24.9],\n",
              "       [  5.3],\n",
              "       [  0.3],\n",
              "       [-26.2],\n",
              "       [ 11.6],\n",
              "       [ 35.2],\n",
              "       [  1.5],\n",
              "       [ 37.4],\n",
              "       [ 16.7],\n",
              "       [ 22.3],\n",
              "       [ 28.9],\n",
              "       [ -7. ],\n",
              "       [-14.1],\n",
              "       [-16.8],\n",
              "       [  4.4],\n",
              "       [ 11.6],\n",
              "       [  2.5],\n",
              "       [ 23.1],\n",
              "       [ 45.7],\n",
              "       [ -7.6],\n",
              "       [ -1.5],\n",
              "       [ 40.3],\n",
              "       [-10.9],\n",
              "       [  0. ],\n",
              "       [ 26.1],\n",
              "       [ 13.1],\n",
              "       [ 19.5],\n",
              "       [  6. ],\n",
              "       [  2.2],\n",
              "       [  8.6],\n",
              "       [ 39. ],\n",
              "       [  6.6],\n",
              "       [ 23. ],\n",
              "       [-16.9],\n",
              "       [-11.1],\n",
              "       [ 40.2],\n",
              "       [ 25.2],\n",
              "       [ 19.6],\n",
              "       [ -5.6],\n",
              "       [ -7.4],\n",
              "       [ 30.1],\n",
              "       [ 32.2],\n",
              "       [-18.8],\n",
              "       [ 14.3],\n",
              "       [ -5.6],\n",
              "       [ 41.6],\n",
              "       [-19.9],\n",
              "       [ 20.6],\n",
              "       [-27.1],\n",
              "       [ 28.7],\n",
              "       [ 20.7],\n",
              "       [-22.8],\n",
              "       [  5.1],\n",
              "       [  5.7],\n",
              "       [ 10. ],\n",
              "       [ -8. ],\n",
              "       [ 26.3],\n",
              "       [-15.2],\n",
              "       [ 31.1],\n",
              "       [-39.5],\n",
              "       [-20.1],\n",
              "       [  8.8],\n",
              "       [ -1.2],\n",
              "       [ 13.6],\n",
              "       [-20. ],\n",
              "       [ 44.3],\n",
              "       [ 10. ],\n",
              "       [ -1.4],\n",
              "       [ 12.9],\n",
              "       [-36.8],\n",
              "       [ 11.6],\n",
              "       [ 19.3],\n",
              "       [-14.4],\n",
              "       [ 11.4],\n",
              "       [  4.2],\n",
              "       [  8.7],\n",
              "       [ 40. ],\n",
              "       [ 15.3],\n",
              "       [ -1.2],\n",
              "       [ 26.9],\n",
              "       [-25.7],\n",
              "       [  6.1],\n",
              "       [-24.5],\n",
              "       [ 36. ],\n",
              "       [ 20.8],\n",
              "       [ 23.2],\n",
              "       [  4.2],\n",
              "       [ 18.1],\n",
              "       [ 18.8],\n",
              "       [ 15.7],\n",
              "       [  9.4],\n",
              "       [ -0.7],\n",
              "       [  1.8],\n",
              "       [-21.8],\n",
              "       [-28.3],\n",
              "       [ 11.1],\n",
              "       [ 10.6],\n",
              "       [-11.1],\n",
              "       [  8.6],\n",
              "       [ 36.1],\n",
              "       [ 21.9],\n",
              "       [ 25.9],\n",
              "       [ 31.9],\n",
              "       [-12.3],\n",
              "       [-29.1],\n",
              "       [ -2. ],\n",
              "       [ -1.4],\n",
              "       [ 18.2],\n",
              "       [ -6.3],\n",
              "       [ 49.6],\n",
              "       [ 12. ],\n",
              "       [ -0.8],\n",
              "       [ 32.9],\n",
              "       [ 35.9],\n",
              "       [ 11.7],\n",
              "       [ 10.7],\n",
              "       [ 35.8],\n",
              "       [-15.5],\n",
              "       [-14.1],\n",
              "       [  0.6],\n",
              "       [  7.6],\n",
              "       [ 18.9],\n",
              "       [ 34.8],\n",
              "       [ 43.4],\n",
              "       [-13.3],\n",
              "       [ -3.5],\n",
              "       [ -5.4],\n",
              "       [-17.5],\n",
              "       [ 51. ],\n",
              "       [-37.8],\n",
              "       [ 11. ],\n",
              "       [  2.6],\n",
              "       [-13.1],\n",
              "       [  1.2],\n",
              "       [ -4. ],\n",
              "       [ -7.3],\n",
              "       [ 16.7],\n",
              "       [-11.9],\n",
              "       [ 36. ],\n",
              "       [  1.7],\n",
              "       [  1. ],\n",
              "       [ 41.5],\n",
              "       [ -3.3],\n",
              "       [  2.4],\n",
              "       [ 45.3],\n",
              "       [-27.6],\n",
              "       [ 35.5],\n",
              "       [-10.3],\n",
              "       [-25.5],\n",
              "       [-14.7],\n",
              "       [ -2.9],\n",
              "       [ 17.3],\n",
              "       [-13.6],\n",
              "       [ 25. ],\n",
              "       [ -5.6],\n",
              "       [ 12.5],\n",
              "       [-33.1],\n",
              "       [  6.9],\n",
              "       [ 30. ],\n",
              "       [-24.5],\n",
              "       [ 37.9],\n",
              "       [  4.9],\n",
              "       [-26.3],\n",
              "       [ 50.5],\n",
              "       [  0.2],\n",
              "       [-19.4],\n",
              "       [ 25.1],\n",
              "       [-16.2],\n",
              "       [ -5.1],\n",
              "       [-38.6],\n",
              "       [-19. ],\n",
              "       [ 33.5],\n",
              "       [ 25.1],\n",
              "       [ 46.3],\n",
              "       [ 23.9],\n",
              "       [-10.6],\n",
              "       [  3.9],\n",
              "       [ 19.5],\n",
              "       [ -0.4],\n",
              "       [-17.1],\n",
              "       [-10.9],\n",
              "       [ -3.8],\n",
              "       [ 12.8],\n",
              "       [-26.5],\n",
              "       [-33.9],\n",
              "       [ 32.5],\n",
              "       [ 14.1],\n",
              "       [ 23.5],\n",
              "       [-44. ],\n",
              "       [-33. ],\n",
              "       [-10.4],\n",
              "       [ 49. ],\n",
              "       [ -2.9],\n",
              "       [ 39.8],\n",
              "       [ -1.9],\n",
              "       [ 20.6],\n",
              "       [-11.1],\n",
              "       [ 31.6],\n",
              "       [ 21.2],\n",
              "       [ -1.8],\n",
              "       [ 24.4],\n",
              "       [  9.4],\n",
              "       [  8. ],\n",
              "       [-16.9],\n",
              "       [  9.6],\n",
              "       [ -9.2],\n",
              "       [ 11. ],\n",
              "       [-24.1],\n",
              "       [  2.2],\n",
              "       [-31.8],\n",
              "       [ 29.1],\n",
              "       [-26.2],\n",
              "       [ 39.6],\n",
              "       [ 26.4],\n",
              "       [  3.1],\n",
              "       [-39.9],\n",
              "       [ 15.6],\n",
              "       [-37. ],\n",
              "       [ -1. ],\n",
              "       [ 17.4],\n",
              "       [-10.1],\n",
              "       [ -1.7],\n",
              "       [-26.8],\n",
              "       [ -4.2],\n",
              "       [ -2.3],\n",
              "       [ 41. ],\n",
              "       [-26.2],\n",
              "       [-18.2],\n",
              "       [  3.9],\n",
              "       [ 44.4],\n",
              "       [ 31.3],\n",
              "       [ 10.6],\n",
              "       [-13.9],\n",
              "       [ 22.8],\n",
              "       [ 17.9],\n",
              "       [ 52.4],\n",
              "       [ -6.8],\n",
              "       [ 14. ],\n",
              "       [  4.3],\n",
              "       [ -8.8],\n",
              "       [-31.9],\n",
              "       [ -0.8],\n",
              "       [ -6.2],\n",
              "       [  1.4],\n",
              "       [ -4.8],\n",
              "       [ 12.7],\n",
              "       [ 21.2],\n",
              "       [  8.2],\n",
              "       [-35.7],\n",
              "       [-29.9],\n",
              "       [ -6.2],\n",
              "       [-24.7],\n",
              "       [ 38.5],\n",
              "       [ 12. ],\n",
              "       [ 22. ],\n",
              "       [ -7.5],\n",
              "       [-27.5],\n",
              "       [-11.3],\n",
              "       [ 20.2],\n",
              "       [-31.8],\n",
              "       [ 18.8],\n",
              "       [-29.8],\n",
              "       [ 10.7],\n",
              "       [ 15.4],\n",
              "       [ -5. ],\n",
              "       [ 20.4],\n",
              "       [ -8.6],\n",
              "       [  8.4],\n",
              "       [ -1. ],\n",
              "       [  6.7],\n",
              "       [ 18.4],\n",
              "       [  2. ],\n",
              "       [ -4.9],\n",
              "       [ 17.4],\n",
              "       [ 16.4],\n",
              "       [ -7.4],\n",
              "       [-33.2],\n",
              "       [  1.4],\n",
              "       [ -5.3],\n",
              "       [  7.9],\n",
              "       [-10.4],\n",
              "       [ 25.2],\n",
              "       [ 37.8],\n",
              "       [-20.7],\n",
              "       [-34.9],\n",
              "       [ -1.8],\n",
              "       [ 20.8],\n",
              "       [-13.4],\n",
              "       [ 10.2],\n",
              "       [ 15.3],\n",
              "       [-14. ],\n",
              "       [ -1.9],\n",
              "       [ -4.2],\n",
              "       [ 27.2],\n",
              "       [-14.6],\n",
              "       [-11.7],\n",
              "       [ 30.2],\n",
              "       [-13.7],\n",
              "       [ 36.6],\n",
              "       [  3.8],\n",
              "       [-26.7],\n",
              "       [ 14.6],\n",
              "       [ -7.6],\n",
              "       [ 15.6],\n",
              "       [ -3.1],\n",
              "       [ 29.3],\n",
              "       [ 13.6],\n",
              "       [-17.1],\n",
              "       [  7.9],\n",
              "       [ 20.9],\n",
              "       [  6.5],\n",
              "       [-12.4],\n",
              "       [  4.4],\n",
              "       [ -1.8],\n",
              "       [ 16.1],\n",
              "       [ 28.8],\n",
              "       [ 10.5],\n",
              "       [-15.7],\n",
              "       [  3.4],\n",
              "       [ 13.9],\n",
              "       [  1. ],\n",
              "       [ 37.4],\n",
              "       [  3.9],\n",
              "       [ 30.3],\n",
              "       [-19.6],\n",
              "       [  4.6],\n",
              "       [-15.4],\n",
              "       [-18.6],\n",
              "       [ 12.5],\n",
              "       [-16.7],\n",
              "       [-39.6],\n",
              "       [ -6.1],\n",
              "       [ 41.9],\n",
              "       [ 34.3],\n",
              "       [-28.3],\n",
              "       [  2.3],\n",
              "       [-30.1],\n",
              "       [-21. ],\n",
              "       [-29. ],\n",
              "       [-36.3],\n",
              "       [ 10.7],\n",
              "       [  2. ],\n",
              "       [ 14.5],\n",
              "       [ 42.5],\n",
              "       [ 22.5],\n",
              "       [  7.9],\n",
              "       [ 26.8],\n",
              "       [ 40.2],\n",
              "       [ -8.8],\n",
              "       [-32.2],\n",
              "       [-10.5],\n",
              "       [  7.1],\n",
              "       [ 28.6],\n",
              "       [-38.5],\n",
              "       [ -7.5],\n",
              "       [-13.3],\n",
              "       [-26.2],\n",
              "       [-16.6],\n",
              "       [  1.8],\n",
              "       [  0.7],\n",
              "       [-13.2],\n",
              "       [  5.1],\n",
              "       [ 17.6],\n",
              "       [  3.8],\n",
              "       [ 34.2],\n",
              "       [ 22.3],\n",
              "       [ -6.4],\n",
              "       [ 46.2],\n",
              "       [-24.2],\n",
              "       [ 17.7],\n",
              "       [ 34.5],\n",
              "       [-21.1],\n",
              "       [  9.7],\n",
              "       [ 18.5],\n",
              "       [-17.9],\n",
              "       [-13.7],\n",
              "       [-23. ],\n",
              "       [ 15. ],\n",
              "       [-15.2],\n",
              "       [ 13.9],\n",
              "       [ 11.1],\n",
              "       [  5.8],\n",
              "       [ 23.1],\n",
              "       [ -5.2],\n",
              "       [ 41.7],\n",
              "       [ 33.5],\n",
              "       [-19.9],\n",
              "       [ 11.6],\n",
              "       [  3.2],\n",
              "       [ 10. ],\n",
              "       [  1.1],\n",
              "       [ 16.7],\n",
              "       [ -2.2],\n",
              "       [-15.2],\n",
              "       [ 26.2],\n",
              "       [  7.5],\n",
              "       [ -8.3],\n",
              "       [ -3.2],\n",
              "       [ 18.7],\n",
              "       [ 28.5],\n",
              "       [-11.5],\n",
              "       [ 27.1],\n",
              "       [ -8.1],\n",
              "       [-12.5],\n",
              "       [-11.8],\n",
              "       [  2.3],\n",
              "       [  2.7],\n",
              "       [  2.3],\n",
              "       [ -9.3],\n",
              "       [ 19.9],\n",
              "       [ -3. ],\n",
              "       [ 13.6],\n",
              "       [  2. ],\n",
              "       [ 24.6],\n",
              "       [-12.1],\n",
              "       [ 23.1],\n",
              "       [ 14.9],\n",
              "       [ 13.9],\n",
              "       [  5.5],\n",
              "       [ 15.6],\n",
              "       [-19.9],\n",
              "       [ 33.9],\n",
              "       [-19.8],\n",
              "       [ 22. ],\n",
              "       [ 19.3],\n",
              "       [ 26.6],\n",
              "       [ 23.4],\n",
              "       [ -7.6],\n",
              "       [ 13.7],\n",
              "       [ -4.9],\n",
              "       [  2.4],\n",
              "       [  1.6],\n",
              "       [  4.6],\n",
              "       [-10.3],\n",
              "       [-24.6],\n",
              "       [-22.1],\n",
              "       [ 28.8],\n",
              "       [ 15.8],\n",
              "       [ -8.8],\n",
              "       [  6. ],\n",
              "       [ -6.3],\n",
              "       [ 34.2],\n",
              "       [ 22.6],\n",
              "       [ 50.6],\n",
              "       [-14.5],\n",
              "       [ -8.8],\n",
              "       [ 15.3],\n",
              "       [ 34.1],\n",
              "       [ 13.2],\n",
              "       [ 11.1],\n",
              "       [-16.5],\n",
              "       [ 10.2],\n",
              "       [ 40.4],\n",
              "       [ 31.8],\n",
              "       [-13.9],\n",
              "       [ 26.1],\n",
              "       [ 26.5],\n",
              "       [ 10.2],\n",
              "       [ 49.2],\n",
              "       [ 10.9],\n",
              "       [ 39.5],\n",
              "       [ 10.1],\n",
              "       [ -8.5],\n",
              "       [-28.1],\n",
              "       [ -8.7],\n",
              "       [-13.1],\n",
              "       [-29.6],\n",
              "       [-10.1],\n",
              "       [ -2.9],\n",
              "       [-22.6],\n",
              "       [ 11.8],\n",
              "       [ -4.6],\n",
              "       [  7.8],\n",
              "       [-19.1],\n",
              "       [ 51.3],\n",
              "       [-37.7],\n",
              "       [-29.9],\n",
              "       [ 18.3],\n",
              "       [ 12.8],\n",
              "       [ 13.7],\n",
              "       [ -0.6],\n",
              "       [-33.1],\n",
              "       [ 26.9],\n",
              "       [ 25.8],\n",
              "       [  8.9],\n",
              "       [-41.2],\n",
              "       [ 20.2],\n",
              "       [ 14.8],\n",
              "       [ 17.6],\n",
              "       [-15.1],\n",
              "       [-17.3],\n",
              "       [ -5. ],\n",
              "       [ 28.2],\n",
              "       [ 45.7],\n",
              "       [  7.5],\n",
              "       [ 18.6],\n",
              "       [ -6. ],\n",
              "       [ 25.9],\n",
              "       [ -0.3],\n",
              "       [ 16.9],\n",
              "       [ 19.6],\n",
              "       [ 16.5],\n",
              "       [ 11.7],\n",
              "       [  4. ],\n",
              "       [ 19.9],\n",
              "       [ -5.3],\n",
              "       [ 14.6],\n",
              "       [ 18.9],\n",
              "       [ 37.2],\n",
              "       [ -2. ],\n",
              "       [-24.7],\n",
              "       [ -0.8],\n",
              "       [  3.2],\n",
              "       [-17.1],\n",
              "       [-16.7],\n",
              "       [ 34.6],\n",
              "       [-14.1],\n",
              "       [ 24.1],\n",
              "       [ 33.7],\n",
              "       [ 29. ],\n",
              "       [-28.6],\n",
              "       [ 15.6],\n",
              "       [ -5.6],\n",
              "       [ -8.4],\n",
              "       [ 15.7],\n",
              "       [ 12.4],\n",
              "       [ -3.6],\n",
              "       [  2.8],\n",
              "       [-10.2],\n",
              "       [ 16.5],\n",
              "       [ 18.4],\n",
              "       [ -4. ],\n",
              "       [-20.4],\n",
              "       [  8.4],\n",
              "       [-33.5],\n",
              "       [  6. ],\n",
              "       [ 37.8],\n",
              "       [ 38.8],\n",
              "       [ 16.9],\n",
              "       [ 34.7],\n",
              "       [ 45.4],\n",
              "       [-19.9],\n",
              "       [ 28.2],\n",
              "       [  3. ],\n",
              "       [-13.3],\n",
              "       [ -5.3],\n",
              "       [ 32.6],\n",
              "       [ 12.6],\n",
              "       [  3.6],\n",
              "       [ 25.1],\n",
              "       [-22.1],\n",
              "       [ 17.1],\n",
              "       [-25.3],\n",
              "       [ -9.9],\n",
              "       [ -0.3],\n",
              "       [ 21.2],\n",
              "       [-40. ],\n",
              "       [  0.6],\n",
              "       [ 14.6],\n",
              "       [ 12.6],\n",
              "       [-16.7],\n",
              "       [ -2.5],\n",
              "       [-26. ],\n",
              "       [-25.8],\n",
              "       [-26.2],\n",
              "       [ -8. ],\n",
              "       [ 18.1],\n",
              "       [  9.6],\n",
              "       [ 40.8],\n",
              "       [ -2.9],\n",
              "       [ 48.3],\n",
              "       [  3.3],\n",
              "       [  4.8],\n",
              "       [ 17.3],\n",
              "       [ 11.5],\n",
              "       [ 34.5],\n",
              "       [ 32.5],\n",
              "       [  7.5],\n",
              "       [  2.7],\n",
              "       [ -0.9],\n",
              "       [  4.9],\n",
              "       [ 16.5],\n",
              "       [ 17.6],\n",
              "       [ 12.3],\n",
              "       [ -2.5],\n",
              "       [ 19.3],\n",
              "       [-14.4],\n",
              "       [ 46.9],\n",
              "       [-25.7],\n",
              "       [ 29.7],\n",
              "       [-14.4],\n",
              "       [ 25.3],\n",
              "       [ 17.7],\n",
              "       [ 43.5],\n",
              "       [  4.4],\n",
              "       [  4.9],\n",
              "       [ 28.9],\n",
              "       [-23.1],\n",
              "       [-23.3],\n",
              "       [ -5.2],\n",
              "       [ 12. ],\n",
              "       [ 11.4],\n",
              "       [-37.6],\n",
              "       [ -1.8],\n",
              "       [ 35.9],\n",
              "       [ 33.9],\n",
              "       [ 26.8],\n",
              "       [-33.3],\n",
              "       [ 16. ],\n",
              "       [ 34. ],\n",
              "       [ -2.7],\n",
              "       [-11.9],\n",
              "       [ 27.7],\n",
              "       [  0.5],\n",
              "       [ 26. ],\n",
              "       [ -2.1],\n",
              "       [ 23.3],\n",
              "       [ -6.5],\n",
              "       [  4.2],\n",
              "       [ 45.6],\n",
              "       [ -6.4],\n",
              "       [  0.5],\n",
              "       [-24.9],\n",
              "       [-22.1],\n",
              "       [ 10.1],\n",
              "       [ -5.7],\n",
              "       [ 34.7],\n",
              "       [-34.7],\n",
              "       [ 37.3],\n",
              "       [-16.8],\n",
              "       [ 12.6],\n",
              "       [-12. ],\n",
              "       [  1.2],\n",
              "       [ 38.8],\n",
              "       [ 38.2],\n",
              "       [ 16.6],\n",
              "       [  4.4],\n",
              "       [ 25.2],\n",
              "       [-20. ],\n",
              "       [ 12.3],\n",
              "       [-26.3],\n",
              "       [-26.3],\n",
              "       [ 14.2],\n",
              "       [ 14.3],\n",
              "       [-11.2],\n",
              "       [ 13. ],\n",
              "       [-12.1],\n",
              "       [-27.7],\n",
              "       [ 34.8],\n",
              "       [ 44.6],\n",
              "       [ 24.2],\n",
              "       [-27.1],\n",
              "       [ -9.7],\n",
              "       [ 35.6],\n",
              "       [-27.6],\n",
              "       [ 48.8],\n",
              "       [  7.9],\n",
              "       [ 25.5],\n",
              "       [  8.9],\n",
              "       [ 44.9],\n",
              "       [ 11.8],\n",
              "       [ -7.2],\n",
              "       [ 24.3],\n",
              "       [ 17.5],\n",
              "       [ 18.7],\n",
              "       [  5.5],\n",
              "       [ 21.5],\n",
              "       [ 18.5],\n",
              "       [  7. ],\n",
              "       [  0.7],\n",
              "       [-10.1],\n",
              "       [-19. ],\n",
              "       [  8.7],\n",
              "       [-28.9],\n",
              "       [  4.3],\n",
              "       [  7.7],\n",
              "       [ 12.1],\n",
              "       [ 11.9],\n",
              "       [-25. ],\n",
              "       [ 28.9],\n",
              "       [ 16.4],\n",
              "       [ 34.2],\n",
              "       [ 24.9],\n",
              "       [ 26.3],\n",
              "       [-25.8],\n",
              "       [  0.5],\n",
              "       [ 28.9],\n",
              "       [ 19.1],\n",
              "       [ 11.6],\n",
              "       [ -0.3],\n",
              "       [ 41.4],\n",
              "       [ 13.8],\n",
              "       [ 48.3],\n",
              "       [ 20.8],\n",
              "       [ 29. ],\n",
              "       [ 30.9],\n",
              "       [  3.3],\n",
              "       [  7.1],\n",
              "       [  6.8],\n",
              "       [ -8.7],\n",
              "       [ 20.8],\n",
              "       [ -8.6],\n",
              "       [-16.6],\n",
              "       [ -4.6],\n",
              "       [  1.7],\n",
              "       [  5.6],\n",
              "       [-36.6],\n",
              "       [-15.8],\n",
              "       [  3.2],\n",
              "       [-10.1],\n",
              "       [ 26.3],\n",
              "       [ 36.5],\n",
              "       [ 13.4],\n",
              "       [ 27.7],\n",
              "       [-11.8],\n",
              "       [-21. ],\n",
              "       [ 11.4],\n",
              "       [-22.7],\n",
              "       [ -2. ],\n",
              "       [ -7.2],\n",
              "       [ -7.2],\n",
              "       [ 18.2],\n",
              "       [-15.9],\n",
              "       [ 18.8],\n",
              "       [  3.6],\n",
              "       [ -6.5],\n",
              "       [ 41.7],\n",
              "       [-10.8],\n",
              "       [-24.6],\n",
              "       [-11.9],\n",
              "       [ 24.1],\n",
              "       [ -4.5],\n",
              "       [ 33. ],\n",
              "       [  4.7],\n",
              "       [ 11.7],\n",
              "       [-12.3],\n",
              "       [ -5.7],\n",
              "       [-13.8],\n",
              "       [-34.1],\n",
              "       [ 27.2],\n",
              "       [ -0.6],\n",
              "       [  0.9],\n",
              "       [ 10.6],\n",
              "       [ 38.4],\n",
              "       [ -2. ],\n",
              "       [ -3.1],\n",
              "       [  1.6],\n",
              "       [  4.1],\n",
              "       [  7.8],\n",
              "       [ -2.3],\n",
              "       [ -1.2],\n",
              "       [ 42.6],\n",
              "       [ 11.7],\n",
              "       [  9.5],\n",
              "       [ 25. ],\n",
              "       [ 18.8],\n",
              "       [-28.6],\n",
              "       [  4.5],\n",
              "       [-14.4],\n",
              "       [ 30.9],\n",
              "       [  9.8],\n",
              "       [ 19.8],\n",
              "       [ -9.6],\n",
              "       [-20.2],\n",
              "       [  4.3],\n",
              "       [ 36.8],\n",
              "       [  3.4],\n",
              "       [ 28.6],\n",
              "       [-22.9],\n",
              "       [ 40. ],\n",
              "       [ -3.1],\n",
              "       [ -0.7],\n",
              "       [ 29.4],\n",
              "       [ -2.2],\n",
              "       [ 20.6],\n",
              "       [-27.9],\n",
              "       [-20.7],\n",
              "       [-38.2],\n",
              "       [ 45.1],\n",
              "       [-10.2],\n",
              "       [ 13.2],\n",
              "       [ 19.6],\n",
              "       [ 35.6],\n",
              "       [ 29.5],\n",
              "       [-19.4],\n",
              "       [ 19.7],\n",
              "       [  1. ],\n",
              "       [ 39. ],\n",
              "       [  8. ],\n",
              "       [-16.8],\n",
              "       [ -0.3],\n",
              "       [ 23. ],\n",
              "       [ -8.3],\n",
              "       [-24.2],\n",
              "       [-20.6],\n",
              "       [ 30.1],\n",
              "       [ -7. ],\n",
              "       [ 17. ],\n",
              "       [  4.2],\n",
              "       [  5.3],\n",
              "       [  1.5],\n",
              "       [  4.2],\n",
              "       [  2.4],\n",
              "       [ 28. ],\n",
              "       [ -7.5],\n",
              "       [  5.3],\n",
              "       [-27.1],\n",
              "       [-19.3],\n",
              "       [-13.1],\n",
              "       [-12.4],\n",
              "       [-30.7],\n",
              "       [ 14.7],\n",
              "       [ -7.2],\n",
              "       [-25.1],\n",
              "       [ 44.9],\n",
              "       [  9.5],\n",
              "       [ 28.1],\n",
              "       [ -2.7],\n",
              "       [  1.4],\n",
              "       [ 16.4],\n",
              "       [ 15. ],\n",
              "       [  5.2],\n",
              "       [ 32.5],\n",
              "       [ 19.2],\n",
              "       [ -6.7],\n",
              "       [ -8. ],\n",
              "       [ 45.7],\n",
              "       [ 36.7],\n",
              "       [ -1.2],\n",
              "       [-30. ],\n",
              "       [  0. ],\n",
              "       [  1.5],\n",
              "       [ 19.8],\n",
              "       [  9.3],\n",
              "       [ 45.3],\n",
              "       [  4.3],\n",
              "       [ 18.5],\n",
              "       [ 39. ],\n",
              "       [ -8.6],\n",
              "       [  8.7],\n",
              "       [  2.1],\n",
              "       [ 31.1],\n",
              "       [-17.8],\n",
              "       [ 24.1],\n",
              "       [ -6.3],\n",
              "       [ 36. ],\n",
              "       [ -0.4],\n",
              "       [-34.9],\n",
              "       [ 31.1],\n",
              "       [ 33.1],\n",
              "       [  2.5],\n",
              "       [  4.1],\n",
              "       [ -0. ],\n",
              "       [ -4.9],\n",
              "       [ -8.6],\n",
              "       [  7.4],\n",
              "       [ -0.4],\n",
              "       [ 39.2],\n",
              "       [ -7.3],\n",
              "       [ 21.2],\n",
              "       [-14.5],\n",
              "       [ 15.6],\n",
              "       [ 13. ],\n",
              "       [ 50.1],\n",
              "       [ 28.9],\n",
              "       [-12.6],\n",
              "       [ 21.8],\n",
              "       [ -6. ],\n",
              "       [ 26.1],\n",
              "       [-10.4],\n",
              "       [-16. ],\n",
              "       [ 31.6],\n",
              "       [ 34.2],\n",
              "       [  2.8],\n",
              "       [ 26.4],\n",
              "       [-30.9],\n",
              "       [ 25.1],\n",
              "       [ 23.6],\n",
              "       [-18.9],\n",
              "       [ -1.3],\n",
              "       [-30.5],\n",
              "       [  0.5],\n",
              "       [-33. ],\n",
              "       [ 34.9],\n",
              "       [ 10.6],\n",
              "       [ -0.6],\n",
              "       [ 29.1],\n",
              "       [ 28.9],\n",
              "       [ 34.9],\n",
              "       [-17. ],\n",
              "       [-37.2],\n",
              "       [ 10.8],\n",
              "       [-23.8],\n",
              "       [ 12.4],\n",
              "       [ -9.3],\n",
              "       [-22.2],\n",
              "       [-11.1],\n",
              "       [ 10.1],\n",
              "       [-20. ],\n",
              "       [ 14.1],\n",
              "       [  7.1],\n",
              "       [ 10.6],\n",
              "       [-10.7],\n",
              "       [ 10.4],\n",
              "       [ -2. ],\n",
              "       [ -5.7],\n",
              "       [-33.2],\n",
              "       [ -1.7],\n",
              "       [-34.6],\n",
              "       [ -6.4],\n",
              "       [ 36. ],\n",
              "       [ -0.7],\n",
              "       [ 24.1],\n",
              "       [ 33.5],\n",
              "       [ 35.2],\n",
              "       [ 49.9],\n",
              "       [-13.6],\n",
              "       [-14.1],\n",
              "       [ -5.4],\n",
              "       [ -9.5],\n",
              "       [  5.8],\n",
              "       [  2.8],\n",
              "       [ 19. ],\n",
              "       [ 11.6],\n",
              "       [ 42.7],\n",
              "       [  8.6],\n",
              "       [-38.5],\n",
              "       [ 26.3],\n",
              "       [ 29.9],\n",
              "       [ 19.1],\n",
              "       [ -1.7],\n",
              "       [  7. ],\n",
              "       [-23.1],\n",
              "       [  0.9],\n",
              "       [ 40.9],\n",
              "       [ 14.7],\n",
              "       [ -2.2],\n",
              "       [  1.6],\n",
              "       [  9. ],\n",
              "       [ 12.1],\n",
              "       [ 10.9],\n",
              "       [ 37.5],\n",
              "       [  1.1],\n",
              "       [-22. ],\n",
              "       [-24.3],\n",
              "       [-22.7],\n",
              "       [-27.7],\n",
              "       [ -2.8],\n",
              "       [ -9.4],\n",
              "       [  2.3],\n",
              "       [-36.5],\n",
              "       [-15.4],\n",
              "       [ -4.3],\n",
              "       [ -2.3],\n",
              "       [-15.4],\n",
              "       [ 22.5],\n",
              "       [  1.5],\n",
              "       [ 18.8],\n",
              "       [-21.3],\n",
              "       [ 19.7],\n",
              "       [ 36. ],\n",
              "       [ 10.2],\n",
              "       [ -9.7],\n",
              "       [ -7.5],\n",
              "       [ -1. ],\n",
              "       [  8.3],\n",
              "       [-19.2],\n",
              "       [  7.4],\n",
              "       [-25.2],\n",
              "       [ 38.3],\n",
              "       [  5.7],\n",
              "       [-14.2],\n",
              "       [ 28.5],\n",
              "       [ 34.6],\n",
              "       [ -7.5],\n",
              "       [-14.2],\n",
              "       [ 44.9],\n",
              "       [-20.8],\n",
              "       [  0.3],\n",
              "       [ 48.4],\n",
              "       [  8.8],\n",
              "       [ -2.4],\n",
              "       [  4.9],\n",
              "       [ 32. ],\n",
              "       [  5.9],\n",
              "       [ 11.6],\n",
              "       [-12.9]], dtype=float32)"
            ]
          },
          "metadata": {
            "tags": []
          },
          "execution_count": 62
        }
      ]
    },
    {
      "cell_type": "code",
      "metadata": {
        "id": "voeYRPdiGPwa",
        "colab": {
          "base_uri": "https://localhost:8080/",
          "height": 279
        },
        "outputId": "97c10f6a-9a41-436a-d620-e1e65d2dedd7"
      },
      "source": [
        "plt.plot(\n",
        "    np.squeeze(model.predict_on_batch(train_data[\"inputs\"])),\n",
        "    np.squeeze(train_data['targets']))\n",
        "plt.xlabel(\"Output\")\n",
        "plt.ylabel(\"Target\")\n",
        "plt.show()"
      ],
      "execution_count": null,
      "outputs": [
        {
          "output_type": "display_data",
          "data": {
            "image/png": "[encoded data removed]",
            "text/plain": [
              "<Figure size 432x288 with 1 Axes>"
            ]
          },
          "metadata": {
            "tags": [],
            "needs_background": "light"
          }
        }
      ]
    },
    {
      "cell_type": "markdown",
      "metadata": {
        "id": "Y-6ZnedkJ6pr"
      },
      "source": [
        "#The Stochastic Gradient Descent"
      ]
    },
    {
      "cell_type": "markdown",
      "metadata": {
        "id": "c-yuS2ZnJ2o9"
      },
      "source": [
        "![sgd](https://miro.medium.com/max/700/1*pwPIG-GWHyaPVMVGG5OhAQ.gif)"
      ]
    },
    {
      "cell_type": "markdown",
      "metadata": {
        "id": "JodEUEl2733c"
      },
      "source": [
        "![title](https://miro.medium.com/max/1400/1*p_hyqAtyI8pbt2kEl6siOQ.png)"
      ]
    },
    {
      "cell_type": "markdown",
      "metadata": {
        "id": "G0lxvqK4YGje"
      },
      "source": [
        "![linear](https://www.learnopencv.com/wp-content/uploads/2017/10/neuron-diagram.jpg)"
      ]
    },
    {
      "cell_type": "markdown",
      "metadata": {
        "id": "IU4LjT4aYX3S"
      },
      "source": [
        "![other](https://miro.medium.com/max/1400/0*qtfLu9rmtNullrVC.png)"
      ]
    },
    {
      "cell_type": "markdown",
      "metadata": {
        "id": "1SDJ2uObY-UQ"
      },
      "source": [
        "![title](https://miro.medium.com/max/1400/1*XxxiA0jJvPrHEJHD4z893g.png)"
      ]
    },
    {
      "cell_type": "markdown",
      "metadata": {
        "id": "tEuujuL9Zkqp"
      },
      "source": [
        "![title](https://www.renom.jp/notebooks/tutorial/basic_algorithm/activation_types/neuron_pic.png)"
      ]
    },
    {
      "cell_type": "markdown",
      "metadata": {
        "id": "NptFdj2IaGje"
      },
      "source": [
        "# **$ \\frac{1} { (1+ e ^{-x} )}$**"
      ]
    },
    {
      "cell_type": "markdown",
      "metadata": {
        "id": "W7p5cRZTakwA"
      },
      "source": [
        "![title](https://www.learnopencv.com/wp-content/uploads/2017/10/sigmoid-derivative.png)"
      ]
    },
    {
      "cell_type": "markdown",
      "metadata": {
        "id": "ic8ibwcfauPG"
      },
      "source": [
        "#$  tanh  $"
      ]
    },
    {
      "cell_type": "markdown",
      "metadata": {
        "id": "yA7GROUsbNF9"
      },
      "source": [
        "![tanh](https://www.learnopencv.com/wp-content/uploads/2017/10/tanh-1.png)\n",
        "\n",
        "\n",
        "https://www.learnopencv.com/wp-content/uploads/2017/10/sigmoid-derivative.png)"
      ]
    },
    {
      "cell_type": "markdown",
      "metadata": {
        "id": "lWTsWt8wbPn1"
      },
      "source": [
        "#Derivative\n",
        "![titlr](https://www.learnopencv.com/wp-content/uploads/2017/10/tanh-derivative.png)"
      ]
    },
    {
      "cell_type": "markdown",
      "metadata": {
        "id": "CgmLc_HjcbN0"
      },
      "source": [
        "#Swish  Activation Function\n",
        "#$  \\sigma(x) =  \\frac{x}{1+ e^{-x}} $"
      ]
    },
    {
      "cell_type": "markdown",
      "metadata": {
        "id": "jeiKkDkSdvVP"
      },
      "source": [
        "![swish](https://www.learnopencv.com/wp-content/uploads/2017/10/swish.png)"
      ]
    },
    {
      "cell_type": "markdown",
      "metadata": {
        "id": "KgkPQm-zdcI5"
      },
      "source": [
        "[the medium link for the activation function](https://towardsdatascience.com/why-deep-learning-is-needed-over-traditional-machine-learning-1b6a99177063)"
      ]
    },
    {
      "cell_type": "markdown",
      "metadata": {
        "id": "q-ntFLXfdxlu"
      },
      "source": [
        "#[the paper for the deep sparse rectifier](http://proceedings.mlr.press/v15/glorot11a/glorot11a.pdf)"
      ]
    },
    {
      "cell_type": "markdown",
      "metadata": {
        "id": "OGPchiz-jz1K"
      },
      "source": [
        "#the cost function\n",
        "[article](https://stats.stackexchange.com/questions/154879/a-list-of-cost-functions-used-in-neural-networks-alongside-applications)"
      ]
    },
    {
      "cell_type": "markdown",
      "metadata": {
        "id": "NH6t4J2PzMJV"
      },
      "source": [
        "#[Cross Entropy OR  log loss]()\n",
        "\n",
        "\n",
        "\n",
        "#[loss function Cheat sheet](https://ml-cheatsheet.readthedocs.io/en/latest/loss_functions.html)"
      ]
    },
    {
      "cell_type": "markdown",
      "metadata": {
        "id": "RPzBl1RoKJzH"
      },
      "source": [
        ""
      ]
    },
    {
      "cell_type": "markdown",
      "metadata": {
        "id": "7xGVGhEbzj-B"
      },
      "source": [
        "#You ca use this loss function for the Binary encoding of the prediction value in the real time for the Acess of the System and the Perceptron Activation function Definition"
      ]
    },
    {
      "cell_type": "markdown",
      "metadata": {
        "id": "SRlmX1mzzZhX"
      },
      "source": [
        "![logloss](https://ml-cheatsheet.readthedocs.io/en/latest/_images/cross_entropy.png)"
      ]
    },
    {
      "cell_type": "markdown",
      "metadata": {
        "id": "VUR7o0up0DCm"
      },
      "source": [
        "#lets get the MATHEMATICS BEHIND IT"
      ]
    },
    {
      "cell_type": "markdown",
      "metadata": {
        "id": "iMYmYyhy0Ha8"
      },
      "source": [
        "#$    (y (log (p))   + (1-y)log(1-p))   $\n",
        "\n",
        "\n",
        "##Thus all you Function Defintion WIll be the Evaluation Model for the formation of the instances."
      ]
    },
    {
      "cell_type": "markdown",
      "metadata": {
        "id": "YDh24Z760WQD"
      },
      "source": [
        "$  \\huge \\Sigma  ^{ M} _{c = 1} $ $ \\large y_{o,c} log(p_{o,c}) $"
      ]
    },
    {
      "cell_type": "markdown",
      "metadata": {
        "id": "mUgpudBn24gK"
      },
      "source": [
        "#Dont run the 3 cells below as they are the illistraion of the Functions."
      ]
    },
    {
      "cell_type": "code",
      "metadata": {
        "id": "dJYkZt88zhSa",
        "colab": {
          "base_uri": "https://localhost:8080/",
          "height": 130
        },
        "outputId": "4d3534dc-5e97-418a-a512-0ccf89d78585"
      },
      "source": [
        "def CrossEntropy(yhat,y):\n",
        "  return =log(yhat)  #That will be the Predication Matrix of the Output\n",
        "else:\n",
        "  return -log(1- yhat) #That will be the Unpredicted Value"
      ],
      "execution_count": null,
      "outputs": [
        {
          "output_type": "error",
          "ename": "SyntaxError",
          "evalue": "ignored",
          "traceback": [
            "\u001b[0;36m  File \u001b[0;32m\"<ipython-input-5-dea33afea24c>\"\u001b[0;36m, line \u001b[0;32m2\u001b[0m\n\u001b[0;31m    return =log(yhat)  #That will be the Predication Matrix of the Output\u001b[0m\n\u001b[0m           ^\u001b[0m\n\u001b[0;31mSyntaxError\u001b[0m\u001b[0;31m:\u001b[0m invalid syntax\n"
          ]
        }
      ]
    },
    {
      "cell_type": "markdown",
      "metadata": {
        "id": "z2asXNIQ3DsA"
      },
      "source": [
        "#Hinge used in the Prediction"
      ]
    },
    {
      "cell_type": "code",
      "metadata": {
        "id": "DzXXe2Bj3COX"
      },
      "source": [
        "def Hinge(yaht,y):\n",
        "  return np.max(0 , ((1 - yhat)  * y))"
      ],
      "execution_count": null,
      "outputs": []
    },
    {
      "cell_type": "markdown",
      "metadata": {
        "id": "C0uHu-kM3dLg"
      },
      "source": [
        "#Hubber"
      ]
    },
    {
      "cell_type": "markdown",
      "metadata": {
        "id": "T9QsGW7X3VGo"
      },
      "source": [
        "\\begin{split}L_{\\delta}=\\left\\{\\begin{matrix}\n",
        "\\frac{1}{2}(y - \\hat{y})^{2} & if \\left | (y - \\hat{y})  \\right | < \\delta\\\\\n",
        "\\delta (y - \\hat{y}) - \\frac1 2 \\delta & otherwise\n",
        "\\end{matrix}\\right.\\end{split}"
      ]
    },
    {
      "cell_type": "code",
      "metadata": {
        "id": "vmY5x6de3UHi"
      },
      "source": [
        "def Hubber(yhat,y,delta = 1):\n",
        "  return np.where(np.abs(y  - yhat) < delta, 0.5 *(y-yhat) ** 2 ,delta * (np.abs(y-yhat))\n",
        "                 -0.5*delta)"
      ],
      "execution_count": null,
      "outputs": []
    },
    {
      "cell_type": "markdown",
      "metadata": {
        "id": "GdSnEZFZ4Jzx"
      },
      "source": [
        "[np.abs](https://docs.scipy.org/doc/numpy/reference/generated/numpy.absolute.html)\n",
        "\n",
        "$ \\sqrt{a^2  + b^2}$"
      ]
    },
    {
      "cell_type": "markdown",
      "metadata": {
        "id": "GHOTDdtG5Ger"
      },
      "source": [
        "[the section for the Latex](http://www.malinc.se/math/latex/basiccodeen.php)"
      ]
    },
    {
      "cell_type": "markdown",
      "metadata": {
        "id": "73TH1TwT86VG"
      },
      "source": [
        ""
      ]
    },
    {
      "cell_type": "markdown",
      "metadata": {
        "id": "08K-IpRC87j2"
      },
      "source": [
        "#the Softmax has no Graph"
      ]
    },
    {
      "cell_type": "markdown",
      "metadata": {
        "id": "RXFAsrLi8-y4"
      },
      "source": [
        "![softmax](https://s0.wp.com/latex.php?latex=softmax_i%28a%29%3D%5Cfrac%7B%5Cexp%7Ba_i%7D%7D%7B%5Csum%5Cexp%7Ba_i%7D%7D&bg=ffffff&fg=000&s=0)\n",
        "\n",
        "****\n",
        "*----------These will take the Absolute Values*"
      ]
    },
    {
      "cell_type": "markdown",
      "metadata": {
        "id": "fOfx_oNw9L9l"
      },
      "source": [
        "#The Values and the Outputs will always have the Sum of the Probablities into a Unity.\n",
        "********\n",
        "#these are (0,1)"
      ]
    },
    {
      "cell_type": "markdown",
      "metadata": {
        "id": "8Sg2H1ow0MEx"
      },
      "source": [
        "#[tf.placehoder](https://www.tensorflow.org/api_docs/python/tf/placeholder)\n",
        "\n",
        "The basic Syntax:\n",
        "\n",
        "tf.placeholder(\n",
        "    dtype,\n",
        "    shape=None,\n",
        "    name=None\n",
        ")\n",
        "\n",
        "****\n",
        "*it reamins same for tf2.0*"
      ]
    },
    {
      "cell_type": "markdown",
      "metadata": {
        "id": "NZkbsWQp07Nb"
      },
      "source": [
        "![research](https://www.researchgate.net/profile/Muhammad_Aqib/publication/326538421/figure/fig2/AS:682351638114304@1539696716076/Our-deep-neural-network-with-two-hidden-layers.png)"
      ]
    },
    {
      "cell_type": "markdown",
      "metadata": {
        "id": "ZByQXETf0pV-"
      },
      "source": [
        "![deepnet](https://miro.medium.com/max/1200/1*N8UXaiUKWurFLdmEhEHiWg.jpeg)"
      ]
    },
    {
      "cell_type": "markdown",
      "metadata": {
        "id": "uX7avwTLYvhy"
      },
      "source": [
        "$ (1 / (1+ e ^{- x}) + (1+ (1/e^{-tanhx})) )$"
      ]
    },
    {
      "cell_type": "markdown",
      "metadata": {
        "id": "6ka_8Chsu9yw"
      },
      "source": [
        "Dig Deeper for the Deep Neural Networs"
      ]
    },
    {
      "cell_type": "markdown",
      "metadata": {
        "id": "PXN1lE6W_9iq"
      },
      "source": [
        "[Neural Network Visualization](http://www.emergentmind.com/neural-network)"
      ]
    },
    {
      "cell_type": "markdown",
      "metadata": {
        "id": "uPpY_qs1vExJ"
      },
      "source": [
        "###Work with the more Sophisticated Cocepts and the Funtions with the Strange Unconventional shape and the Outputs being the dependent function of the Optimization Algorithm.\n",
        "\n"
      ]
    },
    {
      "cell_type": "markdown",
      "metadata": {
        "id": "kHxy1Au8vY3F"
      },
      "source": [
        "[Layers in the Neural Networks](https://en.wikipedia.org/wiki/Artificial_neural_network)"
      ]
    },
    {
      "cell_type": "code",
      "metadata": {
        "id": "6ht5jE_8HjKT",
        "colab": {
          "base_uri": "https://localhost:8080/",
          "height": 541
        },
        "outputId": "f39be032-7e70-4e7f-a53b-9cbd1dc1c914"
      },
      "source": [
        "from IPython.display import YouTubeVideo\n",
        "YouTubeVideo(\"FK77zZxaBoI\",width  = 600,height =500 )"
      ],
      "execution_count": null,
      "outputs": [
        {
          "output_type": "execute_result",
          "data": {
            "text/html": [
              "\n",
              "        <iframe\n",
              "            width=\"600\"\n",
              "            height=\"500\"\n",
              "            src=\"https://www.youtube.com/embed/FK77zZxaBoI\"\n",
              "            frameborder=\"0\"\n",
              "            allowfullscreen\n",
              "        ></iframe>\n",
              "        "
            ],
            "text/plain": [
              "<IPython.lib.display.YouTubeVideo at 0x7f7d25646f98>"
            ],
            "image/jpeg": "[encoded data removed]"
          },
          "metadata": {
            "tags": []
          },
          "execution_count": 2
        }
      ]
    },
    {
      "cell_type": "markdown",
      "metadata": {
        "id": "_rSAuvcXwXqq"
      },
      "source": [
        "#Why do we stash more layers??"
      ]
    },
    {
      "cell_type": "markdown",
      "metadata": {
        "id": "JdmHkW6Yw8Hy"
      },
      "source": [
        "![89matrix](https://www.researchgate.net/profile/El_Badaoui_Hicham/publication/322293670/figure/fig7/AS:579879188037633@1515265380523/Architecture-of-the-neural-network-to-three-layers-of-configuration-8-9-1-developed-in.png)"
      ]
    },
    {
      "cell_type": "markdown",
      "metadata": {
        "id": "TIHqmNSP6mSB"
      },
      "source": [
        "#Thus a Simple 8*9 neural network will have the 72 weights to compute and Store."
      ]
    },
    {
      "cell_type": "markdown",
      "metadata": {
        "id": "TVy574cw6yhS"
      },
      "source": [
        "#Hidden Weights will have the Diffrent Hiddent Layers in The Real time.So how many???"
      ]
    },
    {
      "cell_type": "code",
      "metadata": {
        "id": "FiJJLGzpaEn6",
        "colab": {
          "base_uri": "https://localhost:8080/",
          "height": 541
        },
        "outputId": "98306a9f-f72b-4c07-8917-46ddbbd81757"
      },
      "source": [
        "from IPython.display import YouTubeVideo\n",
        "YouTubeVideo(\"HGvZnQrNh2w\",width  = 600,height =500 )"
      ],
      "execution_count": null,
      "outputs": [
        {
          "output_type": "execute_result",
          "data": {
            "text/html": [
              "\n",
              "        <iframe\n",
              "            width=\"600\"\n",
              "            height=\"500\"\n",
              "            src=\"https://www.youtube.com/embed/HGvZnQrNh2w\"\n",
              "            frameborder=\"0\"\n",
              "            allowfullscreen\n",
              "        ></iframe>\n",
              "        "
            ],
            "text/plain": [
              "<IPython.lib.display.YouTubeVideo at 0x7f7d25646dd8>"
            ],
            "image/jpeg": "[encoded data removed]"
          },
          "metadata": {
            "tags": []
          },
          "execution_count": 6
        }
      ]
    },
    {
      "cell_type": "markdown",
      "metadata": {
        "id": "0WNnCQXHN6jn"
      },
      "source": [
        "#[All the Optimers Will have the Paramets as shown below](https://www.tensorflow.org/api_docs/python/tf/train/Optimizer)"
      ]
    },
    {
      "cell_type": "markdown",
      "metadata": {
        "id": "4xs91fJI8UNL"
      },
      "source": [
        "# * Monotonic \n",
        "# * Continious\n",
        "# * Diffrentiable"
      ]
    },
    {
      "cell_type": "markdown",
      "metadata": {
        "id": "fuzjyN1s-3D2"
      },
      "source": [
        "#[Backpropogation]()"
      ]
    },
    {
      "cell_type": "markdown",
      "metadata": {
        "id": "Uc4bv-adPaYo"
      },
      "source": [
        "![back](http://neuralnetworksanddeeplearning.com/images/tikz17.png)"
      ]
    },
    {
      "cell_type": "markdown",
      "metadata": {
        "id": "Pu0W20VdPplf"
      },
      "source": [
        "\\begin{eqnarray} \n",
        "  a^{l}_j = \\sigma\\left( \\sum_k w^{l}_{jk} a^{l-1}_k + b^l_j \\right)\n",
        "\\end{eqnarray}"
      ]
    },
    {
      "cell_type": "markdown",
      "metadata": {
        "id": "zCf0Jx41P8IW"
      },
      "source": [
        "\\begin{eqnarray}\n",
        "  f\\left(\\left[ \\begin{array}{c} 2 \\\\ 3 \\end{array} \\right] \\right)\n",
        "  = \\left[ \\begin{array}{c} f(2) \\\\ f(3) \\end{array} \\right]\n",
        "  = \\left[ \\begin{array}{c} 4 \\\\ 9 \\end{array} \\right]\n",
        "\\end{eqnarray}"
      ]
    },
    {
      "cell_type": "markdown",
      "metadata": {
        "id": "YGUfZnueQMVT"
      },
      "source": [
        "\\begin{eqnarray} \n",
        "  a^{l} = \\sigma(w^l a^{l-1}+b^l)\n",
        "  \\end{eqnarray}"
      ]
    },
    {
      "cell_type": "markdown",
      "metadata": {
        "id": "CDcGtVW3QYnZ"
      },
      "source": [
        "#the Cost Function Assumption\n",
        "\n",
        "\\begin{eqnarray}\n",
        "  C = \\frac{1}{2n} \\sum_x \\|y(x)-a^L(x)\\|^2\n",
        "  \\end{eqnarray}\n",
        "  \n",
        "  $L - $ *denotes the number of layers in the network*"
      ]
    },
    {
      "cell_type": "markdown",
      "metadata": {
        "id": "qUCkSwuERDc0"
      },
      "source": [
        "$a^L = a^L(x) $\n",
        "\n",
        "will always doente the Activation Functional output from the vector."
      ]
    },
    {
      "cell_type": "markdown",
      "metadata": {
        "id": "48zZMLbKRaG9"
      },
      "source": [
        "\\begin{eqnarray} \n",
        "  \\delta^L_j = \\frac{\\partial C}{\\partial a^L_j} \\sigma'(z^L_j).\n",
        "\\tag{BP1}\\end{eqnarray}"
      ]
    },
    {
      "cell_type": "markdown",
      "metadata": {
        "id": "4kofUGtFRilr"
      },
      "source": [
        "\\begin{eqnarray} \n",
        "  \\delta^l = ((w^{l+1})^T \\delta^{l+1}) \\odot \\sigma'(z^l),\n",
        "\\tag{BP2}\\end{eqnarray}"
      ]
    },
    {
      "cell_type": "markdown",
      "metadata": {
        "id": "SOkRknu4Rsdq"
      },
      "source": [
        "\\begin{eqnarray}  \\frac{\\partial C}{\\partial b^l_j} =\n",
        "  \\delta^l_j.\n",
        "\\tag{BP3}\\end{eqnarray}"
      ]
    },
    {
      "cell_type": "markdown",
      "metadata": {
        "id": "LHZskv9ER1t_"
      },
      "source": [
        "![whatnext](http://neuralnetworksanddeeplearning.com/images/tikz20.png)"
      ]
    },
    {
      "cell_type": "markdown",
      "metadata": {
        "id": "jPZ1GAmiSB2s"
      },
      "source": [
        "[the Complete Neural Network Code Structure which I learnt From](http://neuralnetworksanddeeplearning.com/chap1.html#implementing_our_network_to_classify_digits)"
      ]
    },
    {
      "cell_type": "markdown",
      "metadata": {
        "id": "4xeBBj7-Tbtd"
      },
      "source": [
        "#[the Cauchy Schawartz Inequality](https://en.wikipedia.org/wiki/Cauchy%E2%80%93Schwarz_inequality)"
      ]
    },
    {
      "cell_type": "markdown",
      "metadata": {
        "id": "QVx87Z-LVTWa"
      },
      "source": [
        "#Visualizing the Neuron Function the \"SIGMOID\""
      ]
    },
    {
      "cell_type": "code",
      "metadata": {
        "id": "tY18CA1Jwrns",
        "colab": {
          "base_uri": "https://localhost:8080/",
          "height": 441
        },
        "outputId": "12a83587-adf7-4422-fa67-378bfdc63da3"
      },
      "source": [
        "%%html\n",
        "<video width = \"600\"  height = \"400\">\n",
        "  <source type = Video/mp4 src = \"http://neuralnetworksanddeeplearning.com/movies/step_3d.mp4\">\n",
        "</video>\n",
        "  "
      ],
      "execution_count": null,
      "outputs": [
        {
          "output_type": "display_data",
          "data": {
            "text/html": [
              "<video width = \"600\"  height = \"400\">\n",
              "  <source type = Video/mp4 src = \"http://neuralnetworksanddeeplearning.com/movies/step_3d.mp4\">\n",
              "</video>\n",
              "  "
            ],
            "text/plain": [
              "<IPython.core.display.HTML object>"
            ]
          },
          "metadata": {
            "tags": []
          }
        }
      ]
    },
    {
      "cell_type": "markdown",
      "metadata": {
        "id": "jF0fDje6VJxL"
      },
      "source": [
        "#Thresholding Behavior"
      ]
    },
    {
      "cell_type": "code",
      "metadata": {
        "id": "e89z5jY6RYe2",
        "colab": {
          "base_uri": "https://localhost:8080/",
          "height": 441
        },
        "outputId": "45eb051a-e37e-48d0-dd42-ee969159a28f"
      },
      "source": [
        "%%html\n",
        "<!--src2 = http://neuralnetworksanddeeplearning.com/movies/step_3d.mp4 -->\n",
        "<video width = \"600\"  height = \"400\">\n",
        "  <source type = Video/mp4 src = \"http://neuralnetworksanddeeplearning.com/movies/step_3d.mp4\" >\n",
        "</video>"
      ],
      "execution_count": null,
      "outputs": [
        {
          "output_type": "display_data",
          "data": {
            "text/html": [
              "<!--src2 = http://neuralnetworksanddeeplearning.com/movies/step_3d.mp4 -->\n",
              "<video width = \"600\"  height = \"400\">\n",
              "  <source type = Video/mp4 src = \"http://neuralnetworksanddeeplearning.com/movies/step_3d.mp4\" >\n",
              "</video>"
            ],
            "text/plain": [
              "<IPython.core.display.HTML object>"
            ]
          },
          "metadata": {
            "tags": []
          }
        }
      ]
    },
    {
      "cell_type": "code",
      "metadata": {
        "id": "g6JDPQyUW5Q3"
      },
      "source": [
        ""
      ],
      "execution_count": null,
      "outputs": []
    },
    {
      "cell_type": "code",
      "metadata": {
        "id": "nI2xyWwBW5MI"
      },
      "source": [
        ""
      ],
      "execution_count": null,
      "outputs": []
    },
    {
      "cell_type": "code",
      "metadata": {
        "id": "ITqzLUspW5Ig"
      },
      "source": [
        ""
      ],
      "execution_count": null,
      "outputs": []
    },
    {
      "cell_type": "code",
      "metadata": {
        "id": "z9wSXPewW5Ef"
      },
      "source": [
        ""
      ],
      "execution_count": null,
      "outputs": []
    },
    {
      "cell_type": "code",
      "metadata": {
        "id": "KTXkDIRtW5BW"
      },
      "source": [
        ""
      ],
      "execution_count": null,
      "outputs": []
    },
    {
      "cell_type": "code",
      "metadata": {
        "id": "pDlK3Cw7W49t"
      },
      "source": [
        ""
      ],
      "execution_count": null,
      "outputs": []
    },
    {
      "cell_type": "code",
      "metadata": {
        "id": "_DFp0HMAW46X"
      },
      "source": [
        ""
      ],
      "execution_count": null,
      "outputs": []
    },
    {
      "cell_type": "code",
      "metadata": {
        "id": "X_VmpLZ7W42y"
      },
      "source": [
        ""
      ],
      "execution_count": null,
      "outputs": []
    },
    {
      "cell_type": "code",
      "metadata": {
        "id": "D32EK9-5W4zo"
      },
      "source": [
        ""
      ],
      "execution_count": null,
      "outputs": []
    },
    {
      "cell_type": "code",
      "metadata": {
        "id": "6rcPNsv8W4v_"
      },
      "source": [
        ""
      ],
      "execution_count": null,
      "outputs": []
    },
    {
      "cell_type": "code",
      "metadata": {
        "id": "lzBkDsOXW4s5"
      },
      "source": [
        ""
      ],
      "execution_count": null,
      "outputs": []
    },
    {
      "cell_type": "code",
      "metadata": {
        "id": "5-4uDT4kW4p6"
      },
      "source": [
        ""
      ],
      "execution_count": null,
      "outputs": []
    },
    {
      "cell_type": "code",
      "metadata": {
        "id": "12fQxJ2mW4lz"
      },
      "source": [
        ""
      ],
      "execution_count": null,
      "outputs": []
    },
    {
      "cell_type": "code",
      "metadata": {
        "id": "-L3vtf3xW4hp"
      },
      "source": [
        ""
      ],
      "execution_count": null,
      "outputs": []
    },
    {
      "cell_type": "code",
      "metadata": {
        "id": "rOL_2ug-W4bo",
        "colab": {
          "base_uri": "https://localhost:8080/",
          "height": 321
        },
        "outputId": "5677cb41-15c1-4e49-fedb-7a86152657ac"
      },
      "source": [
        "from IPython.display import YouTubeVideo\n",
        "YouTubeVideo(\"Nb2tebYAaOA\")"
      ],
      "execution_count": null,
      "outputs": [
        {
          "output_type": "execute_result",
          "data": {
            "text/html": [
              "\n",
              "        <iframe\n",
              "            width=\"400\"\n",
              "            height=\"300\"\n",
              "            src=\"https://www.youtube.com/embed/Nb2tebYAaOA\"\n",
              "            frameborder=\"0\"\n",
              "            allowfullscreen\n",
              "        ></iframe>\n",
              "        "
            ],
            "text/plain": [
              "<IPython.lib.display.YouTubeVideo at 0x7fd120501860>"
            ],
            "image/jpeg": "[encoded data removed]"
          },
          "metadata": {
            "tags": []
          },
          "execution_count": 9
        }
      ]
    },
    {
      "cell_type": "markdown",
      "metadata": {
        "id": "vk-VnuYedYar"
      },
      "source": [
        "[thecode](https://youtu.be/Nb2tebYAaOA?t=276)"
      ]
    },
    {
      "cell_type": "code",
      "metadata": {
        "id": "C_A72a3YW4Xi"
      },
      "source": [
        ""
      ],
      "execution_count": null,
      "outputs": []
    },
    {
      "cell_type": "code",
      "metadata": {
        "id": "ujeMbaQ1W4RH"
      },
      "source": [
        ""
      ],
      "execution_count": null,
      "outputs": []
    },
    {
      "cell_type": "markdown",
      "metadata": {
        "id": "jF3wJIkMW3t-"
      },
      "source": [
        "![eppoch](https://miro.medium.com/max/1400/1*i_lp_hUFyUD_Sq4pLer28g.png)"
      ]
    },
    {
      "cell_type": "markdown",
      "metadata": {
        "id": "PBykezPUhNnU"
      },
      "source": [
        "How To deal with it????"
      ]
    },
    {
      "cell_type": "markdown",
      "metadata": {
        "id": "xGuoEX6LW_OF"
      },
      "source": [
        "#The Vice Versa concepts"
      ]
    },
    {
      "cell_type": "markdown",
      "metadata": {
        "id": "LtN3p5J_XPUa"
      },
      "source": [
        "#Thus  We introduce to [Numba](https://pypi.org/project/numba/) and the [UMAP](https://umap-learn.readthedocs.io/en/latest/)"
      ]
    },
    {
      "cell_type": "markdown",
      "metadata": {
        "id": "E-YOYjyfXyr8"
      },
      "source": [
        "all the documentations will give the Essence for the [Machine learning \"pipelines\"](https://www.google.com/search?q=pipelines+in+machiene+learning&rlz=1C1NDCM_enIN857IN857&oq=pipelines+in+machiene+learning&aqs=chrome..69i57j0.7690j0j4&sourceid=chrome&ie=UTF-8)"
      ]
    },
    {
      "cell_type": "markdown",
      "metadata": {
        "id": "iK3b0chLcsCK"
      },
      "source": [
        "![pipe](https://3qeqpr26caki16dnhd19sv6by6v-wpengine.netdna-ssl.com/wp-content/uploads/2016/06/Automate-Machine-Learning-Workflows-with-Pipelines-in-Python-and-scikit-learn.jpg)"
      ]
    },
    {
      "cell_type": "markdown",
      "metadata": {
        "id": "uuMuMx6HcNvG"
      },
      "source": [
        "[GAS  PIPELINE  attack](https://abcnews.go.com/Blotter/dhs-hackers-mounting-organized-cyber-attack-us-gas/story?id=16304818)"
      ]
    },
    {
      "cell_type": "markdown",
      "metadata": {
        "id": "TPN_WTSncrhl"
      },
      "source": [
        "Particular training set so much that it will miss the Maximum points. - (Your answers)"
      ]
    },
    {
      "cell_type": "markdown",
      "metadata": {
        "id": "q8uEz48yhfQ1"
      },
      "source": [
        "The model has captured underlying answer to the data far from correct."
      ]
    },
    {
      "cell_type": "markdown",
      "metadata": {
        "id": "Yv4aos_fhxif"
      },
      "source": [
        "[The Sparcity](https://en.wikipedia.org/wiki/Sparse_matrix)"
      ]
    },
    {
      "cell_type": "markdown",
      "metadata": {
        "id": "ko2HbCbykEm2"
      },
      "source": [
        "#Under fitting doesnt capture the logic of the DATA.(kinda lame) high losses and low accuracy"
      ]
    },
    {
      "cell_type": "code",
      "metadata": {
        "id": "GmhPx-XYl4e8"
      },
      "source": [
        ""
      ],
      "execution_count": null,
      "outputs": []
    },
    {
      "cell_type": "markdown",
      "metadata": {
        "id": "vnbucT02kYbZ"
      },
      "source": [
        "#Model are always fit at the Next plausible prediction but the Noise in the Biases and the weight. [(no online training)](https://stats.stackexchange.com/questions/70761/what-is-the-difference-between-online-and-batch-learning)"
      ]
    },
    {
      "cell_type": "code",
      "metadata": {
        "id": "RSrtro4AzxVX"
      },
      "source": [
        ""
      ],
      "execution_count": null,
      "outputs": []
    },
    {
      "cell_type": "code",
      "metadata": {
        "id": "c8wB5O_EzxRK"
      },
      "source": [
        ""
      ],
      "execution_count": null,
      "outputs": []
    },
    {
      "cell_type": "code",
      "metadata": {
        "id": "PtdU177PzxPB"
      },
      "source": [
        ""
      ],
      "execution_count": null,
      "outputs": []
    },
    {
      "cell_type": "code",
      "metadata": {
        "id": "Yj8JMdXQzxMY"
      },
      "source": [
        ""
      ],
      "execution_count": null,
      "outputs": []
    },
    {
      "cell_type": "code",
      "metadata": {
        "id": "3-K_3k4IzxJj"
      },
      "source": [
        ""
      ],
      "execution_count": null,
      "outputs": []
    },
    {
      "cell_type": "code",
      "metadata": {
        "id": "0WS7IW3VzxHh"
      },
      "source": [
        ""
      ],
      "execution_count": null,
      "outputs": []
    },
    {
      "cell_type": "code",
      "metadata": {
        "id": "KKhrnMvuzxFj"
      },
      "source": [
        ""
      ],
      "execution_count": null,
      "outputs": []
    },
    {
      "cell_type": "code",
      "metadata": {
        "id": "fZD6sU8fzxD5"
      },
      "source": [
        ""
      ],
      "execution_count": null,
      "outputs": []
    },
    {
      "cell_type": "code",
      "metadata": {
        "id": "Zgj57yq4zxB1"
      },
      "source": [
        ""
      ],
      "execution_count": null,
      "outputs": []
    },
    {
      "cell_type": "code",
      "metadata": {
        "id": "zAH81I4zzxAe"
      },
      "source": [
        ""
      ],
      "execution_count": null,
      "outputs": []
    },
    {
      "cell_type": "code",
      "metadata": {
        "id": "P4WSWkdtzw--"
      },
      "source": [
        ""
      ],
      "execution_count": null,
      "outputs": []
    },
    {
      "cell_type": "code",
      "metadata": {
        "id": "BgGdaRQwzw9j"
      },
      "source": [
        ""
      ],
      "execution_count": null,
      "outputs": []
    },
    {
      "cell_type": "code",
      "metadata": {
        "id": "kqF_Y0gazw8N"
      },
      "source": [
        ""
      ],
      "execution_count": null,
      "outputs": []
    },
    {
      "cell_type": "code",
      "metadata": {
        "id": "Cb8v_VplzwzH"
      },
      "source": [
        ""
      ],
      "execution_count": null,
      "outputs": []
    },
    {
      "cell_type": "code",
      "metadata": {
        "id": "jvxYHuU4zwxb"
      },
      "source": [
        ""
      ],
      "execution_count": null,
      "outputs": []
    },
    {
      "cell_type": "code",
      "metadata": {
        "id": "XJL0xbWwzwv4"
      },
      "source": [
        ""
      ],
      "execution_count": null,
      "outputs": []
    },
    {
      "cell_type": "code",
      "metadata": {
        "id": "vSqqAma0zwuc"
      },
      "source": [
        ""
      ],
      "execution_count": null,
      "outputs": []
    },
    {
      "cell_type": "code",
      "metadata": {
        "id": "0wH7ZOs3zwp8"
      },
      "source": [
        ""
      ],
      "execution_count": null,
      "outputs": []
    },
    {
      "cell_type": "code",
      "metadata": {
        "id": "caf07s--zwjW"
      },
      "source": [
        ""
      ],
      "execution_count": null,
      "outputs": []
    },
    {
      "cell_type": "code",
      "metadata": {
        "id": "5x9oPg7tUtZa",
        "colab": {
          "base_uri": "https://localhost:8080/",
          "height": 1000
        },
        "outputId": "b58090cc-cef2-45b3-c863-82e39915e960"
      },
      "source": [
        "from keras import layers\n",
        "from keras.models import Model\n",
        "\n",
        "def alexnet(in_shape=(227,227,3), n_classes=1000, opt='sgd'):\n",
        "   in_layer = layers.Input(in_shape)\n",
        "   conv1 = layers.Conv2D(96, 11, strides=4, activation='relu')(in_layer)\n",
        "   pool1 = layers.MaxPool2D(3, 2)(conv1)\n",
        "   conv2 = layers.Conv2D(256, 5, strides=1, padding='same', activation='relu')(pool1)\n",
        "   pool2 = layers.MaxPool2D(3, 2)(conv2)\n",
        "   conv3 = layers.Conv2D(384, 3, strides=1, padding='same', activation='relu')(pool2)\n",
        "   conv4 = layers.Conv2D(256, 3, strides=1, padding='same', activation='relu')(conv3)\n",
        "   pool3 = layers.MaxPool2D(3, 2)(conv4)\n",
        "   flattened = layers.Flatten()(pool3)\n",
        "   dense1 = layers.Dense(4096, activation='relu')(flattened)\n",
        "   drop1 = layers.Dropout(0.5)(dense1)\n",
        "   dense2 = layers.Dense(4096, activation='relu')(drop1)\n",
        "   drop2 = layers.Dropout(0.5)(dense2)\n",
        "   preds = layers.Dense(n_classes, activation='softmax')(drop2)\n",
        "\n",
        "   model = Model(in_layer, preds)\n",
        "   model.compile(loss=\"categorical_crossentropy\", optimizer=opt,\n",
        "\t              metrics=[\"accuracy\"])\n",
        "   return model\n",
        "\n",
        "if __name__ == '__main__':\n",
        "   model = alexnet()\n",
        "   print(model.summary())\n"
      ],
      "execution_count": null,
      "outputs": [
        {
          "output_type": "stream",
          "text": [
            "Using TensorFlow backend.\n"
          ],
          "name": "stderr"
        },
        {
          "output_type": "display_data",
          "data": {
            "text/html": [
              "<p style=\"color: red;\">\n",
              "The default version of TensorFlow in Colab will soon switch to TensorFlow 2.x.<br>\n",
              "We recommend you <a href=\"https://www.tensorflow.org/guide/migrate\" target=\"_blank\">upgrade</a> now \n",
              "or ensure your notebook will continue to use TensorFlow 1.x via the <code>%tensorflow_version 1.x</code> magic:\n",
              "<a href=\"https://colab.research.google.com/notebooks/tensorflow_version.ipynb\" target=\"_blank\">more info</a>.</p>\n"
            ],
            "text/plain": [
              "<IPython.core.display.HTML object>"
            ]
          },
          "metadata": {
            "tags": []
          }
        },
        {
          "output_type": "stream",
          "text": [
            "WARNING:tensorflow:From /usr/local/lib/python3.6/dist-packages/keras/backend/tensorflow_backend.py:66: The name tf.get_default_graph is deprecated. Please use tf.compat.v1.get_default_graph instead.\n",
            "\n",
            "WARNING:tensorflow:From /usr/local/lib/python3.6/dist-packages/keras/backend/tensorflow_backend.py:541: The name tf.placeholder is deprecated. Please use tf.compat.v1.placeholder instead.\n",
            "\n",
            "WARNING:tensorflow:From /usr/local/lib/python3.6/dist-packages/keras/backend/tensorflow_backend.py:4432: The name tf.random_uniform is deprecated. Please use tf.random.uniform instead.\n",
            "\n",
            "WARNING:tensorflow:From /usr/local/lib/python3.6/dist-packages/keras/backend/tensorflow_backend.py:4267: The name tf.nn.max_pool is deprecated. Please use tf.nn.max_pool2d instead.\n",
            "\n",
            "WARNING:tensorflow:From /usr/local/lib/python3.6/dist-packages/keras/backend/tensorflow_backend.py:148: The name tf.placeholder_with_default is deprecated. Please use tf.compat.v1.placeholder_with_default instead.\n",
            "\n",
            "WARNING:tensorflow:From /usr/local/lib/python3.6/dist-packages/keras/backend/tensorflow_backend.py:3733: calling dropout (from tensorflow.python.ops.nn_ops) with keep_prob is deprecated and will be removed in a future version.\n",
            "Instructions for updating:\n",
            "Please use `rate` instead of `keep_prob`. Rate should be set to `rate = 1 - keep_prob`.\n",
            "WARNING:tensorflow:From /usr/local/lib/python3.6/dist-packages/keras/optimizers.py:793: The name tf.train.Optimizer is deprecated. Please use tf.compat.v1.train.Optimizer instead.\n",
            "\n",
            "WARNING:tensorflow:From /usr/local/lib/python3.6/dist-packages/keras/backend/tensorflow_backend.py:3576: The name tf.log is deprecated. Please use tf.math.log instead.\n",
            "\n",
            "Model: \"model_1\"\n",
            "_________________________________________________________________\n",
            "Layer (type)                 Output Shape              Param #   \n",
            "=================================================================\n",
            "input_1 (InputLayer)         (None, 227, 227, 3)       0         \n",
            "_________________________________________________________________\n",
            "conv2d_1 (Conv2D)            (None, 55, 55, 96)        34944     \n",
            "_________________________________________________________________\n",
            "max_pooling2d_1 (MaxPooling2 (None, 27, 27, 96)        0         \n",
            "_________________________________________________________________\n",
            "conv2d_2 (Conv2D)            (None, 27, 27, 256)       614656    \n",
            "_________________________________________________________________\n",
            "max_pooling2d_2 (MaxPooling2 (None, 13, 13, 256)       0         \n",
            "_________________________________________________________________\n",
            "conv2d_3 (Conv2D)            (None, 13, 13, 384)       885120    \n",
            "_________________________________________________________________\n",
            "conv2d_4 (Conv2D)            (None, 13, 13, 256)       884992    \n",
            "_________________________________________________________________\n",
            "max_pooling2d_3 (MaxPooling2 (None, 6, 6, 256)         0         \n",
            "_________________________________________________________________\n",
            "flatten_1 (Flatten)          (None, 9216)              0         \n",
            "_________________________________________________________________\n",
            "dense_1 (Dense)              (None, 4096)              37752832  \n",
            "_________________________________________________________________\n",
            "dropout_1 (Dropout)          (None, 4096)              0         \n",
            "_________________________________________________________________\n",
            "dense_2 (Dense)              (None, 4096)              16781312  \n",
            "_________________________________________________________________\n",
            "dropout_2 (Dropout)          (None, 4096)              0         \n",
            "_________________________________________________________________\n",
            "dense_3 (Dense)              (None, 1000)              4097000   \n",
            "=================================================================\n",
            "Total params: 61,050,856\n",
            "Trainable params: 61,050,856\n",
            "Non-trainable params: 0\n",
            "_________________________________________________________________\n",
            "None\n"
          ],
          "name": "stdout"
        }
      ]
    },
    {
      "cell_type": "code",
      "metadata": {
        "id": "VEHT0DVizyLY",
        "colab": {
          "base_uri": "https://localhost:8080/",
          "height": 1000
        },
        "outputId": "2544864e-86d4-4b8a-f5b9-0b0646d12b02"
      },
      "source": [
        "from keras import layers\n",
        "from keras.models import Model\n",
        "from functools import partial\n",
        "conv1x1 = partial(layers.Conv2D, kernel_size=1, activation='relu')\n",
        "conv3x3 = partial(layers.Conv2D, kernel_size=3, padding='same', activation='relu')\n",
        "conv5x5 = partial(layers.Conv2D, kernel_size=5, padding='same', activation='relu')\n",
        "def inception_module(in_tensor, c1, c3_1, c3, c5_1, c5, pp):\n",
        "   conv1 = conv1x1(c1)(in_tensor)\n",
        "   conv3_1 = conv1x1(c3_1)(in_tensor)\n",
        "   conv3 = conv3x3(c3)(conv3_1)\n",
        "   conv5_1 = conv1x1(c5_1)(in_tensor)\n",
        "   conv5 = conv5x5(c5)(conv5_1)\n",
        "   pool_conv = conv1x1(pp)(in_tensor)\n",
        "   pool = layers.MaxPool2D(3, strides=1, padding='same')(pool_conv)\n",
        "   merged = layers.Concatenate(axis=-1)([conv1, conv3, conv5, pool])\n",
        "   return merged\n",
        "def aux_clf(in_tensor):\n",
        "   avg_pool = layers.AvgPool2D(5, 3)(in_tensor)\n",
        "   conv = conv1x1(128)(avg_pool)\n",
        "   flattened = layers.Flatten()(conv)\n",
        "   dense = layers.Dense(1024, activation='relu')(flattened)\n",
        "   dropout = layers.Dropout(0.7)(dense)\n",
        "   out = layers.Dense(1000, activation='softmax')(dropout)\n",
        "   return out\n",
        "def inception_net(in_shape=(224,224,3), n_classes=1000, opt='sgd'):\n",
        "   in_layer = layers.Input(in_shape)\n",
        "   conv1 = layers.Conv2D(64, 7, strides=2, activation='relu', padding='same')(in_layer)\n",
        "   pad1 = layers.ZeroPadding2D()(conv1)\n",
        "   pool1 = layers.MaxPool2D(3, 2)(pad1)\n",
        "   conv2_1 = conv1x1(64)(pool1)\n",
        "   conv2_2 = conv3x3(192)(conv2_1)\n",
        "   pad2 = layers.ZeroPadding2D()(conv2_2)\n",
        "   pool2 = layers.MaxPool2D(3, 2)(pad2)\n",
        "   inception3a = inception_module(pool2, 64, 96, 128, 16, 32, 32)\n",
        "   inception3b = inception_module(inception3a, 128, 128, 192, 32, 96, 64)\n",
        "   pad3 = layers.ZeroPadding2D()(inception3b)\n",
        "   pool3 = layers.MaxPool2D(3, 2)(pad3)\n",
        "   inception4a = inception_module(pool3, 192, 96, 208, 16, 48, 64)\n",
        "   inception4b = inception_module(inception4a, 160, 112, 224, 24, 64, 64)\n",
        "   inception4c = inception_module(inception4b, 128, 128, 256, 24, 64, 64)\n",
        "   inception4d = inception_module(inception4c, 112, 144, 288, 32, 48, 64)\n",
        "   inception4e = inception_module(inception4d, 256, 160, 320, 32, 128, 128)\n",
        "   pad4 = layers.ZeroPadding2D()(inception4e)\n",
        "   pool4 = layers.MaxPool2D(3, 2)(pad4)\n",
        "   aux_clf1 = aux_clf(inception4a)\n",
        "   aux_clf2 = aux_clf(inception4d)\n",
        "   inception5a = inception_module(pool4, 256, 160, 320, 32, 128, 128)\n",
        "   inception5b = inception_module(inception5a, 384, 192, 384, 48, 128, 128)\n",
        "   pad5 = layers.ZeroPadding2D()(inception5b)\n",
        "   pool5 = layers.MaxPool2D(3, 2)(pad5)\n",
        "   avg_pool = layers.GlobalAvgPool2D()(pool5)\n",
        "   dropout = layers.Dropout(0.4)(avg_pool)\n",
        "   preds = layers.Dense(1000, activation='softmax')(dropout)\n",
        "   model = Model(in_layer, [preds, aux_clf1, aux_clf2])\n",
        "   model.compile(loss=\"categorical_crossentropy\", optimizer=opt,\n",
        "\t              metrics=[\"accuracy\"])\n",
        "   return model\n",
        "if __name__ == '__main__':\n",
        "   model = inception_net()\n",
        "   print(model.summary())\n"
      ],
      "execution_count": null,
      "outputs": [
        {
          "output_type": "stream",
          "text": [
            "WARNING:tensorflow:From /usr/local/lib/python3.6/dist-packages/keras/backend/tensorflow_backend.py:4271: The name tf.nn.avg_pool is deprecated. Please use tf.nn.avg_pool2d instead.\n",
            "\n",
            "WARNING:tensorflow:Large dropout rate: 0.7 (>0.5). In TensorFlow 2.x, dropout() uses dropout rate instead of keep_prob. Please ensure that this is intended.\n",
            "WARNING:tensorflow:Large dropout rate: 0.7 (>0.5). In TensorFlow 2.x, dropout() uses dropout rate instead of keep_prob. Please ensure that this is intended.\n",
            "Model: \"model_2\"\n",
            "__________________________________________________________________________________________________\n",
            "Layer (type)                    Output Shape         Param #     Connected to                     \n",
            "==================================================================================================\n",
            "input_2 (InputLayer)            (None, 224, 224, 3)  0                                            \n",
            "__________________________________________________________________________________________________\n",
            "conv2d_5 (Conv2D)               (None, 112, 112, 64) 9472        input_2[0][0]                    \n",
            "__________________________________________________________________________________________________\n",
            "zero_padding2d_1 (ZeroPadding2D (None, 114, 114, 64) 0           conv2d_5[0][0]                   \n",
            "__________________________________________________________________________________________________\n",
            "max_pooling2d_4 (MaxPooling2D)  (None, 56, 56, 64)   0           zero_padding2d_1[0][0]           \n",
            "__________________________________________________________________________________________________\n",
            "conv2d_6 (Conv2D)               (None, 56, 56, 64)   4160        max_pooling2d_4[0][0]            \n",
            "__________________________________________________________________________________________________\n",
            "conv2d_7 (Conv2D)               (None, 56, 56, 192)  110784      conv2d_6[0][0]                   \n",
            "__________________________________________________________________________________________________\n",
            "zero_padding2d_2 (ZeroPadding2D (None, 58, 58, 192)  0           conv2d_7[0][0]                   \n",
            "__________________________________________________________________________________________________\n",
            "max_pooling2d_5 (MaxPooling2D)  (None, 28, 28, 192)  0           zero_padding2d_2[0][0]           \n",
            "__________________________________________________________________________________________________\n",
            "conv2d_9 (Conv2D)               (None, 28, 28, 96)   18528       max_pooling2d_5[0][0]            \n",
            "__________________________________________________________________________________________________\n",
            "conv2d_11 (Conv2D)              (None, 28, 28, 16)   3088        max_pooling2d_5[0][0]            \n",
            "__________________________________________________________________________________________________\n",
            "conv2d_13 (Conv2D)              (None, 28, 28, 32)   6176        max_pooling2d_5[0][0]            \n",
            "__________________________________________________________________________________________________\n",
            "conv2d_8 (Conv2D)               (None, 28, 28, 64)   12352       max_pooling2d_5[0][0]            \n",
            "__________________________________________________________________________________________________\n",
            "conv2d_10 (Conv2D)              (None, 28, 28, 128)  110720      conv2d_9[0][0]                   \n",
            "__________________________________________________________________________________________________\n",
            "conv2d_12 (Conv2D)              (None, 28, 28, 32)   12832       conv2d_11[0][0]                  \n",
            "__________________________________________________________________________________________________\n",
            "max_pooling2d_6 (MaxPooling2D)  (None, 28, 28, 32)   0           conv2d_13[0][0]                  \n",
            "__________________________________________________________________________________________________\n",
            "concatenate_1 (Concatenate)     (None, 28, 28, 256)  0           conv2d_8[0][0]                   \n",
            "                                                                 conv2d_10[0][0]                  \n",
            "                                                                 conv2d_12[0][0]                  \n",
            "                                                                 max_pooling2d_6[0][0]            \n",
            "__________________________________________________________________________________________________\n",
            "conv2d_15 (Conv2D)              (None, 28, 28, 128)  32896       concatenate_1[0][0]              \n",
            "__________________________________________________________________________________________________\n",
            "conv2d_17 (Conv2D)              (None, 28, 28, 32)   8224        concatenate_1[0][0]              \n",
            "__________________________________________________________________________________________________\n",
            "conv2d_19 (Conv2D)              (None, 28, 28, 64)   16448       concatenate_1[0][0]              \n",
            "__________________________________________________________________________________________________\n",
            "conv2d_14 (Conv2D)              (None, 28, 28, 128)  32896       concatenate_1[0][0]              \n",
            "__________________________________________________________________________________________________\n",
            "conv2d_16 (Conv2D)              (None, 28, 28, 192)  221376      conv2d_15[0][0]                  \n",
            "__________________________________________________________________________________________________\n",
            "conv2d_18 (Conv2D)              (None, 28, 28, 96)   76896       conv2d_17[0][0]                  \n",
            "__________________________________________________________________________________________________\n",
            "max_pooling2d_7 (MaxPooling2D)  (None, 28, 28, 64)   0           conv2d_19[0][0]                  \n",
            "__________________________________________________________________________________________________\n",
            "concatenate_2 (Concatenate)     (None, 28, 28, 480)  0           conv2d_14[0][0]                  \n",
            "                                                                 conv2d_16[0][0]                  \n",
            "                                                                 conv2d_18[0][0]                  \n",
            "                                                                 max_pooling2d_7[0][0]            \n",
            "__________________________________________________________________________________________________\n",
            "zero_padding2d_3 (ZeroPadding2D (None, 30, 30, 480)  0           concatenate_2[0][0]              \n",
            "__________________________________________________________________________________________________\n",
            "max_pooling2d_8 (MaxPooling2D)  (None, 14, 14, 480)  0           zero_padding2d_3[0][0]           \n",
            "__________________________________________________________________________________________________\n",
            "conv2d_21 (Conv2D)              (None, 14, 14, 96)   46176       max_pooling2d_8[0][0]            \n",
            "__________________________________________________________________________________________________\n",
            "conv2d_23 (Conv2D)              (None, 14, 14, 16)   7696        max_pooling2d_8[0][0]            \n",
            "__________________________________________________________________________________________________\n",
            "conv2d_25 (Conv2D)              (None, 14, 14, 64)   30784       max_pooling2d_8[0][0]            \n",
            "__________________________________________________________________________________________________\n",
            "conv2d_20 (Conv2D)              (None, 14, 14, 192)  92352       max_pooling2d_8[0][0]            \n",
            "__________________________________________________________________________________________________\n",
            "conv2d_22 (Conv2D)              (None, 14, 14, 208)  179920      conv2d_21[0][0]                  \n",
            "__________________________________________________________________________________________________\n",
            "conv2d_24 (Conv2D)              (None, 14, 14, 48)   19248       conv2d_23[0][0]                  \n",
            "__________________________________________________________________________________________________\n",
            "max_pooling2d_9 (MaxPooling2D)  (None, 14, 14, 64)   0           conv2d_25[0][0]                  \n",
            "__________________________________________________________________________________________________\n",
            "concatenate_3 (Concatenate)     (None, 14, 14, 512)  0           conv2d_20[0][0]                  \n",
            "                                                                 conv2d_22[0][0]                  \n",
            "                                                                 conv2d_24[0][0]                  \n",
            "                                                                 max_pooling2d_9[0][0]            \n",
            "__________________________________________________________________________________________________\n",
            "conv2d_27 (Conv2D)              (None, 14, 14, 112)  57456       concatenate_3[0][0]              \n",
            "__________________________________________________________________________________________________\n",
            "conv2d_29 (Conv2D)              (None, 14, 14, 24)   12312       concatenate_3[0][0]              \n",
            "__________________________________________________________________________________________________\n",
            "conv2d_31 (Conv2D)              (None, 14, 14, 64)   32832       concatenate_3[0][0]              \n",
            "__________________________________________________________________________________________________\n",
            "conv2d_26 (Conv2D)              (None, 14, 14, 160)  82080       concatenate_3[0][0]              \n",
            "__________________________________________________________________________________________________\n",
            "conv2d_28 (Conv2D)              (None, 14, 14, 224)  226016      conv2d_27[0][0]                  \n",
            "__________________________________________________________________________________________________\n",
            "conv2d_30 (Conv2D)              (None, 14, 14, 64)   38464       conv2d_29[0][0]                  \n",
            "__________________________________________________________________________________________________\n",
            "max_pooling2d_10 (MaxPooling2D) (None, 14, 14, 64)   0           conv2d_31[0][0]                  \n",
            "__________________________________________________________________________________________________\n",
            "concatenate_4 (Concatenate)     (None, 14, 14, 512)  0           conv2d_26[0][0]                  \n",
            "                                                                 conv2d_28[0][0]                  \n",
            "                                                                 conv2d_30[0][0]                  \n",
            "                                                                 max_pooling2d_10[0][0]           \n",
            "__________________________________________________________________________________________________\n",
            "conv2d_33 (Conv2D)              (None, 14, 14, 128)  65664       concatenate_4[0][0]              \n",
            "__________________________________________________________________________________________________\n",
            "conv2d_35 (Conv2D)              (None, 14, 14, 24)   12312       concatenate_4[0][0]              \n",
            "__________________________________________________________________________________________________\n",
            "conv2d_37 (Conv2D)              (None, 14, 14, 64)   32832       concatenate_4[0][0]              \n",
            "__________________________________________________________________________________________________\n",
            "conv2d_32 (Conv2D)              (None, 14, 14, 128)  65664       concatenate_4[0][0]              \n",
            "__________________________________________________________________________________________________\n",
            "conv2d_34 (Conv2D)              (None, 14, 14, 256)  295168      conv2d_33[0][0]                  \n",
            "__________________________________________________________________________________________________\n",
            "conv2d_36 (Conv2D)              (None, 14, 14, 64)   38464       conv2d_35[0][0]                  \n",
            "__________________________________________________________________________________________________\n",
            "max_pooling2d_11 (MaxPooling2D) (None, 14, 14, 64)   0           conv2d_37[0][0]                  \n",
            "__________________________________________________________________________________________________\n",
            "concatenate_5 (Concatenate)     (None, 14, 14, 512)  0           conv2d_32[0][0]                  \n",
            "                                                                 conv2d_34[0][0]                  \n",
            "                                                                 conv2d_36[0][0]                  \n",
            "                                                                 max_pooling2d_11[0][0]           \n",
            "__________________________________________________________________________________________________\n",
            "conv2d_39 (Conv2D)              (None, 14, 14, 144)  73872       concatenate_5[0][0]              \n",
            "__________________________________________________________________________________________________\n",
            "conv2d_41 (Conv2D)              (None, 14, 14, 32)   16416       concatenate_5[0][0]              \n",
            "__________________________________________________________________________________________________\n",
            "conv2d_43 (Conv2D)              (None, 14, 14, 64)   32832       concatenate_5[0][0]              \n",
            "__________________________________________________________________________________________________\n",
            "conv2d_38 (Conv2D)              (None, 14, 14, 112)  57456       concatenate_5[0][0]              \n",
            "__________________________________________________________________________________________________\n",
            "conv2d_40 (Conv2D)              (None, 14, 14, 288)  373536      conv2d_39[0][0]                  \n",
            "__________________________________________________________________________________________________\n",
            "conv2d_42 (Conv2D)              (None, 14, 14, 48)   38448       conv2d_41[0][0]                  \n",
            "__________________________________________________________________________________________________\n",
            "max_pooling2d_12 (MaxPooling2D) (None, 14, 14, 64)   0           conv2d_43[0][0]                  \n",
            "__________________________________________________________________________________________________\n",
            "concatenate_6 (Concatenate)     (None, 14, 14, 512)  0           conv2d_38[0][0]                  \n",
            "                                                                 conv2d_40[0][0]                  \n",
            "                                                                 conv2d_42[0][0]                  \n",
            "                                                                 max_pooling2d_12[0][0]           \n",
            "__________________________________________________________________________________________________\n",
            "conv2d_45 (Conv2D)              (None, 14, 14, 160)  82080       concatenate_6[0][0]              \n",
            "__________________________________________________________________________________________________\n",
            "conv2d_47 (Conv2D)              (None, 14, 14, 32)   16416       concatenate_6[0][0]              \n",
            "__________________________________________________________________________________________________\n",
            "conv2d_49 (Conv2D)              (None, 14, 14, 128)  65664       concatenate_6[0][0]              \n",
            "__________________________________________________________________________________________________\n",
            "conv2d_44 (Conv2D)              (None, 14, 14, 256)  131328      concatenate_6[0][0]              \n",
            "__________________________________________________________________________________________________\n",
            "conv2d_46 (Conv2D)              (None, 14, 14, 320)  461120      conv2d_45[0][0]                  \n",
            "__________________________________________________________________________________________________\n",
            "conv2d_48 (Conv2D)              (None, 14, 14, 128)  102528      conv2d_47[0][0]                  \n",
            "__________________________________________________________________________________________________\n",
            "max_pooling2d_13 (MaxPooling2D) (None, 14, 14, 128)  0           conv2d_49[0][0]                  \n",
            "__________________________________________________________________________________________________\n",
            "concatenate_7 (Concatenate)     (None, 14, 14, 832)  0           conv2d_44[0][0]                  \n",
            "                                                                 conv2d_46[0][0]                  \n",
            "                                                                 conv2d_48[0][0]                  \n",
            "                                                                 max_pooling2d_13[0][0]           \n",
            "__________________________________________________________________________________________________\n",
            "zero_padding2d_4 (ZeroPadding2D (None, 16, 16, 832)  0           concatenate_7[0][0]              \n",
            "__________________________________________________________________________________________________\n",
            "max_pooling2d_14 (MaxPooling2D) (None, 7, 7, 832)    0           zero_padding2d_4[0][0]           \n",
            "__________________________________________________________________________________________________\n",
            "conv2d_53 (Conv2D)              (None, 7, 7, 160)    133280      max_pooling2d_14[0][0]           \n",
            "__________________________________________________________________________________________________\n",
            "conv2d_55 (Conv2D)              (None, 7, 7, 32)     26656       max_pooling2d_14[0][0]           \n",
            "__________________________________________________________________________________________________\n",
            "conv2d_57 (Conv2D)              (None, 7, 7, 128)    106624      max_pooling2d_14[0][0]           \n",
            "__________________________________________________________________________________________________\n",
            "conv2d_52 (Conv2D)              (None, 7, 7, 256)    213248      max_pooling2d_14[0][0]           \n",
            "__________________________________________________________________________________________________\n",
            "conv2d_54 (Conv2D)              (None, 7, 7, 320)    461120      conv2d_53[0][0]                  \n",
            "__________________________________________________________________________________________________\n",
            "conv2d_56 (Conv2D)              (None, 7, 7, 128)    102528      conv2d_55[0][0]                  \n",
            "__________________________________________________________________________________________________\n",
            "max_pooling2d_15 (MaxPooling2D) (None, 7, 7, 128)    0           conv2d_57[0][0]                  \n",
            "__________________________________________________________________________________________________\n",
            "concatenate_8 (Concatenate)     (None, 7, 7, 832)    0           conv2d_52[0][0]                  \n",
            "                                                                 conv2d_54[0][0]                  \n",
            "                                                                 conv2d_56[0][0]                  \n",
            "                                                                 max_pooling2d_15[0][0]           \n",
            "__________________________________________________________________________________________________\n",
            "conv2d_59 (Conv2D)              (None, 7, 7, 192)    159936      concatenate_8[0][0]              \n",
            "__________________________________________________________________________________________________\n",
            "conv2d_61 (Conv2D)              (None, 7, 7, 48)     39984       concatenate_8[0][0]              \n",
            "__________________________________________________________________________________________________\n",
            "conv2d_63 (Conv2D)              (None, 7, 7, 128)    106624      concatenate_8[0][0]              \n",
            "__________________________________________________________________________________________________\n",
            "conv2d_58 (Conv2D)              (None, 7, 7, 384)    319872      concatenate_8[0][0]              \n",
            "__________________________________________________________________________________________________\n",
            "conv2d_60 (Conv2D)              (None, 7, 7, 384)    663936      conv2d_59[0][0]                  \n",
            "__________________________________________________________________________________________________\n",
            "conv2d_62 (Conv2D)              (None, 7, 7, 128)    153728      conv2d_61[0][0]                  \n",
            "__________________________________________________________________________________________________\n",
            "max_pooling2d_16 (MaxPooling2D) (None, 7, 7, 128)    0           conv2d_63[0][0]                  \n",
            "__________________________________________________________________________________________________\n",
            "concatenate_9 (Concatenate)     (None, 7, 7, 1024)   0           conv2d_58[0][0]                  \n",
            "                                                                 conv2d_60[0][0]                  \n",
            "                                                                 conv2d_62[0][0]                  \n",
            "                                                                 max_pooling2d_16[0][0]           \n",
            "__________________________________________________________________________________________________\n",
            "average_pooling2d_1 (AveragePoo (None, 4, 4, 512)    0           concatenate_3[0][0]              \n",
            "__________________________________________________________________________________________________\n",
            "average_pooling2d_2 (AveragePoo (None, 4, 4, 512)    0           concatenate_6[0][0]              \n",
            "__________________________________________________________________________________________________\n",
            "zero_padding2d_5 (ZeroPadding2D (None, 9, 9, 1024)   0           concatenate_9[0][0]              \n",
            "__________________________________________________________________________________________________\n",
            "conv2d_50 (Conv2D)              (None, 4, 4, 128)    65664       average_pooling2d_1[0][0]        \n",
            "__________________________________________________________________________________________________\n",
            "conv2d_51 (Conv2D)              (None, 4, 4, 128)    65664       average_pooling2d_2[0][0]        \n",
            "__________________________________________________________________________________________________\n",
            "max_pooling2d_17 (MaxPooling2D) (None, 4, 4, 1024)   0           zero_padding2d_5[0][0]           \n",
            "__________________________________________________________________________________________________\n",
            "flatten_2 (Flatten)             (None, 2048)         0           conv2d_50[0][0]                  \n",
            "__________________________________________________________________________________________________\n",
            "flatten_3 (Flatten)             (None, 2048)         0           conv2d_51[0][0]                  \n",
            "__________________________________________________________________________________________________\n",
            "global_average_pooling2d_1 (Glo (None, 1024)         0           max_pooling2d_17[0][0]           \n",
            "__________________________________________________________________________________________________\n",
            "dense_4 (Dense)                 (None, 1024)         2098176     flatten_2[0][0]                  \n",
            "__________________________________________________________________________________________________\n",
            "dense_6 (Dense)                 (None, 1024)         2098176     flatten_3[0][0]                  \n",
            "__________________________________________________________________________________________________\n",
            "dropout_5 (Dropout)             (None, 1024)         0           global_average_pooling2d_1[0][0] \n",
            "__________________________________________________________________________________________________\n",
            "dropout_3 (Dropout)             (None, 1024)         0           dense_4[0][0]                    \n",
            "__________________________________________________________________________________________________\n",
            "dropout_4 (Dropout)             (None, 1024)         0           dense_6[0][0]                    \n",
            "__________________________________________________________________________________________________\n",
            "dense_8 (Dense)                 (None, 1000)         1025000     dropout_5[0][0]                  \n",
            "__________________________________________________________________________________________________\n",
            "dense_5 (Dense)                 (None, 1000)         1025000     dropout_3[0][0]                  \n",
            "__________________________________________________________________________________________________\n",
            "dense_7 (Dense)                 (None, 1000)         1025000     dropout_4[0][0]                  \n",
            "==================================================================================================\n",
            "Total params: 13,354,200\n",
            "Trainable params: 13,354,200\n",
            "Non-trainable params: 0\n",
            "__________________________________________________________________________________________________\n",
            "None\n"
          ],
          "name": "stdout"
        }
      ]
    },
    {
      "cell_type": "code",
      "metadata": {
        "id": "p-g2yeck0WpI",
        "colab": {
          "base_uri": "https://localhost:8080/",
          "height": 1000
        },
        "outputId": "2cd4c9c6-c08c-4666-f871-3f06a089ed5a"
      },
      "source": [
        "from keras import layers\n",
        "from keras.models import Model\n",
        "def _after_conv(in_tensor):\n",
        "   norm = layers.BatchNormalization()(in_tensor)\n",
        "   return layers.Activation('relu')(norm)\n",
        "def conv1(in_tensor, filters):\n",
        "   conv = layers.Conv2D(filters, kernel_size=1, strides=1)(in_tensor)\n",
        "   return _after_conv(conv)\n",
        "\n",
        "def conv1_downsample(in_tensor, filters):\n",
        "   conv = layers.Conv2D(filters, kernel_size=1, strides=2)(in_tensor)\n",
        "   return _after_conv(conv)\n",
        "\n",
        "def conv3(in_tensor, filters):\n",
        "   conv = layers.Conv2D(filters, kernel_size=3, strides=1, padding='same')(in_tensor)\n",
        "   return _after_conv(conv)\n",
        "\n",
        "def conv3_downsample(in_tensor, filters):\n",
        "   conv = layers.Conv2D(filters, kernel_size=3, strides=2, padding='same')(in_tensor)\n",
        "   return _after_conv(conv)\n",
        "\n",
        "def resnet_block_wo_bottlneck(in_tensor, filters, downsample=False):\n",
        "   if downsample:\n",
        "       conv1_rb = conv3_downsample(in_tensor, filters)\n",
        "   else:\n",
        "       conv1_rb = conv3(in_tensor, filters)\n",
        "   conv2_rb = conv3(conv1_rb, filters)\n",
        "\n",
        "   if downsample:\n",
        "       in_tensor = conv1_downsample(in_tensor, filters)\n",
        "   result = layers.Add()([conv2_rb, in_tensor])\n",
        "\n",
        "   return layers.Activation('relu')(result)\n",
        "\n",
        "def resnet_block_w_bottlneck(in_tensor,\n",
        "                            filters,\n",
        "                            downsample=False,\n",
        "                            change_channels=False):\n",
        "   if downsample:\n",
        "       conv1_rb = conv1_downsample(in_tensor, int(filters/4))\n",
        "   else:\n",
        "       conv1_rb = conv1(in_tensor, int(filters/4))\n",
        "   conv2_rb = conv3(conv1_rb, int(filters/4))\n",
        "   conv3_rb = conv1(conv2_rb, filters)\n",
        "   if downsample:\n",
        "       in_tensor = conv1_downsample(in_tensor, filters)\n",
        "   elif change_channels:\n",
        "       in_tensor = conv1(in_tensor, filters)\n",
        "   result = layers.Add()([conv3_rb, in_tensor])\n",
        "   return result\n",
        "def _pre_res_blocks(in_tensor):\n",
        "   conv = layers.Conv2D(64, 7, strides=2, padding='same')(in_tensor)\n",
        "   conv = _after_conv(conv)\n",
        "   pool = layers.MaxPool2D(3, 2, padding='same')(conv)\n",
        "   return pool\n",
        "def _post_res_blocks(in_tensor, n_classes):\n",
        "   pool = layers.GlobalAvgPool2D()(in_tensor)\n",
        "   preds = layers.Dense(n_classes, activation='softmax')(pool)\n",
        "   return preds\n",
        "def convx_wo_bottleneck(in_tensor, filters, n_times, downsample_1=False):\n",
        "   res = in_tensor\n",
        "   for i in range(n_times):\n",
        "       if i == 0:\n",
        "           res = resnet_block_wo_bottlneck(res, filters, downsample_1)\n",
        "       else:\n",
        "           res = resnet_block_wo_bottlneck(res, filters)\n",
        "   return res\n",
        "\n",
        "def convx_w_bottleneck(in_tensor, filters, n_times, downsample_1=False):\n",
        "   res = in_tensor\n",
        "   for i in range(n_times):\n",
        "       if i == 0:\n",
        "           res = resnet_block_w_bottlneck(res, filters, downsample_1, not downsample_1)\n",
        "       else:\n",
        "           res = resnet_block_w_bottlneck(res, filters)\n",
        "   return res\n",
        "def _resnet(in_shape=(224,224,3),\n",
        "           n_classes=1000,\n",
        "           opt='sgd',\n",
        "           convx=[64, 128, 256, 512],\n",
        "           n_convx=[2, 2, 2, 2],\n",
        "           convx_fn=convx_wo_bottleneck):\n",
        "   in_layer = layers.Input(in_shape)\n",
        "   downsampled = _pre_res_blocks(in_layer)\n",
        "   conv2x = convx_fn(downsampled, convx[0], n_convx[0])\n",
        "   conv3x = convx_fn(conv2x, convx[1], n_convx[1], True)\n",
        "   conv4x = convx_fn(conv3x, convx[2], n_convx[2], True)\n",
        "   conv5x = convx_fn(conv4x, convx[3], n_convx[3], True)\n",
        "   preds = _post_res_blocks(conv5x, n_classes)\n",
        "   model = Model(in_layer, preds)\n",
        "   model.compile(loss=\"categorical_crossentropy\", optimizer=opt,\n",
        "\t              metrics=[\"accuracy\"])\n",
        "   return model\n",
        "def resnet18(in_shape=(224,224,3), n_classes=1000, opt='sgd'):\n",
        "   return _resnet(in_shape, n_classes, opt)\n",
        "def resnet34(in_shape=(224,224,3), n_classes=1000, opt='sgd'):\n",
        "   return _resnet(in_shape,\n",
        "                 n_classes,\n",
        "                 opt,\n",
        "                 n_convx=[3, 4, 6, 3])\n",
        "def resnet50(in_shape=(224,224,3), n_classes=1000, opt='sgd'):\n",
        "   return _resnet(in_shape,\n",
        "                 n_classes,\n",
        "                 opt,\n",
        "                 [256, 512, 1024, 2048],\n",
        "                 [3, 4, 6, 3],\n",
        "                 convx_w_bottleneck)\n",
        "def resnet101(in_shape=(224,224,3), n_classes=1000, opt='sgd'):\n",
        "   return _resnet(in_shape,\n",
        "                 n_classes,\n",
        "                 opt,\n",
        "                 [256, 512, 1024, 2048],\n",
        "                 [3, 4, 23, 3],\n",
        "                 convx_w_bottleneck)\n",
        "\n",
        "def resnet152(in_shape=(224,224,3), n_classes=1000, opt='sgd'):\n",
        "   return _resnet(in_shape,\n",
        "                 n_classes,\n",
        "                 opt,\n",
        "                 [256, 512, 1024, 2048],\n",
        "                 [3, 8, 36, 3],\n",
        "                 convx_w_bottleneck)\n",
        "\n",
        "if __name__ == '__main__':\n",
        "   model = resnet50()\n",
        "   print(model.summary())\n"
      ],
      "execution_count": null,
      "outputs": [
        {
          "output_type": "stream",
          "text": [
            "WARNING:tensorflow:From /usr/local/lib/python3.6/dist-packages/keras/backend/tensorflow_backend.py:190: The name tf.get_default_session is deprecated. Please use tf.compat.v1.get_default_session instead.\n",
            "\n",
            "WARNING:tensorflow:From /usr/local/lib/python3.6/dist-packages/keras/backend/tensorflow_backend.py:197: The name tf.ConfigProto is deprecated. Please use tf.compat.v1.ConfigProto instead.\n",
            "\n",
            "WARNING:tensorflow:From /usr/local/lib/python3.6/dist-packages/keras/backend/tensorflow_backend.py:203: The name tf.Session is deprecated. Please use tf.compat.v1.Session instead.\n",
            "\n",
            "WARNING:tensorflow:From /usr/local/lib/python3.6/dist-packages/keras/backend/tensorflow_backend.py:207: The name tf.global_variables is deprecated. Please use tf.compat.v1.global_variables instead.\n",
            "\n",
            "WARNING:tensorflow:From /usr/local/lib/python3.6/dist-packages/keras/backend/tensorflow_backend.py:216: The name tf.is_variable_initialized is deprecated. Please use tf.compat.v1.is_variable_initialized instead.\n",
            "\n",
            "WARNING:tensorflow:From /usr/local/lib/python3.6/dist-packages/keras/backend/tensorflow_backend.py:223: The name tf.variables_initializer is deprecated. Please use tf.compat.v1.variables_initializer instead.\n",
            "\n",
            "WARNING:tensorflow:From /usr/local/lib/python3.6/dist-packages/keras/backend/tensorflow_backend.py:2041: The name tf.nn.fused_batch_norm is deprecated. Please use tf.compat.v1.nn.fused_batch_norm instead.\n",
            "\n",
            "Model: \"model_3\"\n",
            "__________________________________________________________________________________________________\n",
            "Layer (type)                    Output Shape         Param #     Connected to                     \n",
            "==================================================================================================\n",
            "input_3 (InputLayer)            (None, 224, 224, 3)  0                                            \n",
            "__________________________________________________________________________________________________\n",
            "conv2d_64 (Conv2D)              (None, 112, 112, 64) 9472        input_3[0][0]                    \n",
            "__________________________________________________________________________________________________\n",
            "batch_normalization_1 (BatchNor (None, 112, 112, 64) 256         conv2d_64[0][0]                  \n",
            "__________________________________________________________________________________________________\n",
            "activation_1 (Activation)       (None, 112, 112, 64) 0           batch_normalization_1[0][0]      \n",
            "__________________________________________________________________________________________________\n",
            "max_pooling2d_18 (MaxPooling2D) (None, 56, 56, 64)   0           activation_1[0][0]               \n",
            "__________________________________________________________________________________________________\n",
            "conv2d_65 (Conv2D)              (None, 56, 56, 64)   4160        max_pooling2d_18[0][0]           \n",
            "__________________________________________________________________________________________________\n",
            "batch_normalization_2 (BatchNor (None, 56, 56, 64)   256         conv2d_65[0][0]                  \n",
            "__________________________________________________________________________________________________\n",
            "activation_2 (Activation)       (None, 56, 56, 64)   0           batch_normalization_2[0][0]      \n",
            "__________________________________________________________________________________________________\n",
            "conv2d_66 (Conv2D)              (None, 56, 56, 64)   36928       activation_2[0][0]               \n",
            "__________________________________________________________________________________________________\n",
            "batch_normalization_3 (BatchNor (None, 56, 56, 64)   256         conv2d_66[0][0]                  \n",
            "__________________________________________________________________________________________________\n",
            "activation_3 (Activation)       (None, 56, 56, 64)   0           batch_normalization_3[0][0]      \n",
            "__________________________________________________________________________________________________\n",
            "conv2d_67 (Conv2D)              (None, 56, 56, 256)  16640       activation_3[0][0]               \n",
            "__________________________________________________________________________________________________\n",
            "conv2d_68 (Conv2D)              (None, 56, 56, 256)  16640       max_pooling2d_18[0][0]           \n",
            "__________________________________________________________________________________________________\n",
            "batch_normalization_4 (BatchNor (None, 56, 56, 256)  1024        conv2d_67[0][0]                  \n",
            "__________________________________________________________________________________________________\n",
            "batch_normalization_5 (BatchNor (None, 56, 56, 256)  1024        conv2d_68[0][0]                  \n",
            "__________________________________________________________________________________________________\n",
            "activation_4 (Activation)       (None, 56, 56, 256)  0           batch_normalization_4[0][0]      \n",
            "__________________________________________________________________________________________________\n",
            "activation_5 (Activation)       (None, 56, 56, 256)  0           batch_normalization_5[0][0]      \n",
            "__________________________________________________________________________________________________\n",
            "add_1 (Add)                     (None, 56, 56, 256)  0           activation_4[0][0]               \n",
            "                                                                 activation_5[0][0]               \n",
            "__________________________________________________________________________________________________\n",
            "conv2d_69 (Conv2D)              (None, 56, 56, 64)   16448       add_1[0][0]                      \n",
            "__________________________________________________________________________________________________\n",
            "batch_normalization_6 (BatchNor (None, 56, 56, 64)   256         conv2d_69[0][0]                  \n",
            "__________________________________________________________________________________________________\n",
            "activation_6 (Activation)       (None, 56, 56, 64)   0           batch_normalization_6[0][0]      \n",
            "__________________________________________________________________________________________________\n",
            "conv2d_70 (Conv2D)              (None, 56, 56, 64)   36928       activation_6[0][0]               \n",
            "__________________________________________________________________________________________________\n",
            "batch_normalization_7 (BatchNor (None, 56, 56, 64)   256         conv2d_70[0][0]                  \n",
            "__________________________________________________________________________________________________\n",
            "activation_7 (Activation)       (None, 56, 56, 64)   0           batch_normalization_7[0][0]      \n",
            "__________________________________________________________________________________________________\n",
            "conv2d_71 (Conv2D)              (None, 56, 56, 256)  16640       activation_7[0][0]               \n",
            "__________________________________________________________________________________________________\n",
            "batch_normalization_8 (BatchNor (None, 56, 56, 256)  1024        conv2d_71[0][0]                  \n",
            "__________________________________________________________________________________________________\n",
            "activation_8 (Activation)       (None, 56, 56, 256)  0           batch_normalization_8[0][0]      \n",
            "__________________________________________________________________________________________________\n",
            "add_2 (Add)                     (None, 56, 56, 256)  0           activation_8[0][0]               \n",
            "                                                                 add_1[0][0]                      \n",
            "__________________________________________________________________________________________________\n",
            "conv2d_72 (Conv2D)              (None, 56, 56, 64)   16448       add_2[0][0]                      \n",
            "__________________________________________________________________________________________________\n",
            "batch_normalization_9 (BatchNor (None, 56, 56, 64)   256         conv2d_72[0][0]                  \n",
            "__________________________________________________________________________________________________\n",
            "activation_9 (Activation)       (None, 56, 56, 64)   0           batch_normalization_9[0][0]      \n",
            "__________________________________________________________________________________________________\n",
            "conv2d_73 (Conv2D)              (None, 56, 56, 64)   36928       activation_9[0][0]               \n",
            "__________________________________________________________________________________________________\n",
            "batch_normalization_10 (BatchNo (None, 56, 56, 64)   256         conv2d_73[0][0]                  \n",
            "__________________________________________________________________________________________________\n",
            "activation_10 (Activation)      (None, 56, 56, 64)   0           batch_normalization_10[0][0]     \n",
            "__________________________________________________________________________________________________\n",
            "conv2d_74 (Conv2D)              (None, 56, 56, 256)  16640       activation_10[0][0]              \n",
            "__________________________________________________________________________________________________\n",
            "batch_normalization_11 (BatchNo (None, 56, 56, 256)  1024        conv2d_74[0][0]                  \n",
            "__________________________________________________________________________________________________\n",
            "activation_11 (Activation)      (None, 56, 56, 256)  0           batch_normalization_11[0][0]     \n",
            "__________________________________________________________________________________________________\n",
            "add_3 (Add)                     (None, 56, 56, 256)  0           activation_11[0][0]              \n",
            "                                                                 add_2[0][0]                      \n",
            "__________________________________________________________________________________________________\n",
            "conv2d_75 (Conv2D)              (None, 28, 28, 128)  32896       add_3[0][0]                      \n",
            "__________________________________________________________________________________________________\n",
            "batch_normalization_12 (BatchNo (None, 28, 28, 128)  512         conv2d_75[0][0]                  \n",
            "__________________________________________________________________________________________________\n",
            "activation_12 (Activation)      (None, 28, 28, 128)  0           batch_normalization_12[0][0]     \n",
            "__________________________________________________________________________________________________\n",
            "conv2d_76 (Conv2D)              (None, 28, 28, 128)  147584      activation_12[0][0]              \n",
            "__________________________________________________________________________________________________\n",
            "batch_normalization_13 (BatchNo (None, 28, 28, 128)  512         conv2d_76[0][0]                  \n",
            "__________________________________________________________________________________________________\n",
            "activation_13 (Activation)      (None, 28, 28, 128)  0           batch_normalization_13[0][0]     \n",
            "__________________________________________________________________________________________________\n",
            "conv2d_77 (Conv2D)              (None, 28, 28, 512)  66048       activation_13[0][0]              \n",
            "__________________________________________________________________________________________________\n",
            "conv2d_78 (Conv2D)              (None, 28, 28, 512)  131584      add_3[0][0]                      \n",
            "__________________________________________________________________________________________________\n",
            "batch_normalization_14 (BatchNo (None, 28, 28, 512)  2048        conv2d_77[0][0]                  \n",
            "__________________________________________________________________________________________________\n",
            "batch_normalization_15 (BatchNo (None, 28, 28, 512)  2048        conv2d_78[0][0]                  \n",
            "__________________________________________________________________________________________________\n",
            "activation_14 (Activation)      (None, 28, 28, 512)  0           batch_normalization_14[0][0]     \n",
            "__________________________________________________________________________________________________\n",
            "activation_15 (Activation)      (None, 28, 28, 512)  0           batch_normalization_15[0][0]     \n",
            "__________________________________________________________________________________________________\n",
            "add_4 (Add)                     (None, 28, 28, 512)  0           activation_14[0][0]              \n",
            "                                                                 activation_15[0][0]              \n",
            "__________________________________________________________________________________________________\n",
            "conv2d_79 (Conv2D)              (None, 28, 28, 128)  65664       add_4[0][0]                      \n",
            "__________________________________________________________________________________________________\n",
            "batch_normalization_16 (BatchNo (None, 28, 28, 128)  512         conv2d_79[0][0]                  \n",
            "__________________________________________________________________________________________________\n",
            "activation_16 (Activation)      (None, 28, 28, 128)  0           batch_normalization_16[0][0]     \n",
            "__________________________________________________________________________________________________\n",
            "conv2d_80 (Conv2D)              (None, 28, 28, 128)  147584      activation_16[0][0]              \n",
            "__________________________________________________________________________________________________\n",
            "batch_normalization_17 (BatchNo (None, 28, 28, 128)  512         conv2d_80[0][0]                  \n",
            "__________________________________________________________________________________________________\n",
            "activation_17 (Activation)      (None, 28, 28, 128)  0           batch_normalization_17[0][0]     \n",
            "__________________________________________________________________________________________________\n",
            "conv2d_81 (Conv2D)              (None, 28, 28, 512)  66048       activation_17[0][0]              \n",
            "__________________________________________________________________________________________________\n",
            "batch_normalization_18 (BatchNo (None, 28, 28, 512)  2048        conv2d_81[0][0]                  \n",
            "__________________________________________________________________________________________________\n",
            "activation_18 (Activation)      (None, 28, 28, 512)  0           batch_normalization_18[0][0]     \n",
            "__________________________________________________________________________________________________\n",
            "add_5 (Add)                     (None, 28, 28, 512)  0           activation_18[0][0]              \n",
            "                                                                 add_4[0][0]                      \n",
            "__________________________________________________________________________________________________\n",
            "conv2d_82 (Conv2D)              (None, 28, 28, 128)  65664       add_5[0][0]                      \n",
            "__________________________________________________________________________________________________\n",
            "batch_normalization_19 (BatchNo (None, 28, 28, 128)  512         conv2d_82[0][0]                  \n",
            "__________________________________________________________________________________________________\n",
            "activation_19 (Activation)      (None, 28, 28, 128)  0           batch_normalization_19[0][0]     \n",
            "__________________________________________________________________________________________________\n",
            "conv2d_83 (Conv2D)              (None, 28, 28, 128)  147584      activation_19[0][0]              \n",
            "__________________________________________________________________________________________________\n",
            "batch_normalization_20 (BatchNo (None, 28, 28, 128)  512         conv2d_83[0][0]                  \n",
            "__________________________________________________________________________________________________\n",
            "activation_20 (Activation)      (None, 28, 28, 128)  0           batch_normalization_20[0][0]     \n",
            "__________________________________________________________________________________________________\n",
            "conv2d_84 (Conv2D)              (None, 28, 28, 512)  66048       activation_20[0][0]              \n",
            "__________________________________________________________________________________________________\n",
            "batch_normalization_21 (BatchNo (None, 28, 28, 512)  2048        conv2d_84[0][0]                  \n",
            "__________________________________________________________________________________________________\n",
            "activation_21 (Activation)      (None, 28, 28, 512)  0           batch_normalization_21[0][0]     \n",
            "__________________________________________________________________________________________________\n",
            "add_6 (Add)                     (None, 28, 28, 512)  0           activation_21[0][0]              \n",
            "                                                                 add_5[0][0]                      \n",
            "__________________________________________________________________________________________________\n",
            "conv2d_85 (Conv2D)              (None, 28, 28, 128)  65664       add_6[0][0]                      \n",
            "__________________________________________________________________________________________________\n",
            "batch_normalization_22 (BatchNo (None, 28, 28, 128)  512         conv2d_85[0][0]                  \n",
            "__________________________________________________________________________________________________\n",
            "activation_22 (Activation)      (None, 28, 28, 128)  0           batch_normalization_22[0][0]     \n",
            "__________________________________________________________________________________________________\n",
            "conv2d_86 (Conv2D)              (None, 28, 28, 128)  147584      activation_22[0][0]              \n",
            "__________________________________________________________________________________________________\n",
            "batch_normalization_23 (BatchNo (None, 28, 28, 128)  512         conv2d_86[0][0]                  \n",
            "__________________________________________________________________________________________________\n",
            "activation_23 (Activation)      (None, 28, 28, 128)  0           batch_normalization_23[0][0]     \n",
            "__________________________________________________________________________________________________\n",
            "conv2d_87 (Conv2D)              (None, 28, 28, 512)  66048       activation_23[0][0]              \n",
            "__________________________________________________________________________________________________\n",
            "batch_normalization_24 (BatchNo (None, 28, 28, 512)  2048        conv2d_87[0][0]                  \n",
            "__________________________________________________________________________________________________\n",
            "activation_24 (Activation)      (None, 28, 28, 512)  0           batch_normalization_24[0][0]     \n",
            "__________________________________________________________________________________________________\n",
            "add_7 (Add)                     (None, 28, 28, 512)  0           activation_24[0][0]              \n",
            "                                                                 add_6[0][0]                      \n",
            "__________________________________________________________________________________________________\n",
            "conv2d_88 (Conv2D)              (None, 14, 14, 256)  131328      add_7[0][0]                      \n",
            "__________________________________________________________________________________________________\n",
            "batch_normalization_25 (BatchNo (None, 14, 14, 256)  1024        conv2d_88[0][0]                  \n",
            "__________________________________________________________________________________________________\n",
            "activation_25 (Activation)      (None, 14, 14, 256)  0           batch_normalization_25[0][0]     \n",
            "__________________________________________________________________________________________________\n",
            "conv2d_89 (Conv2D)              (None, 14, 14, 256)  590080      activation_25[0][0]              \n",
            "__________________________________________________________________________________________________\n",
            "batch_normalization_26 (BatchNo (None, 14, 14, 256)  1024        conv2d_89[0][0]                  \n",
            "__________________________________________________________________________________________________\n",
            "activation_26 (Activation)      (None, 14, 14, 256)  0           batch_normalization_26[0][0]     \n",
            "__________________________________________________________________________________________________\n",
            "conv2d_90 (Conv2D)              (None, 14, 14, 1024) 263168      activation_26[0][0]              \n",
            "__________________________________________________________________________________________________\n",
            "conv2d_91 (Conv2D)              (None, 14, 14, 1024) 525312      add_7[0][0]                      \n",
            "__________________________________________________________________________________________________\n",
            "batch_normalization_27 (BatchNo (None, 14, 14, 1024) 4096        conv2d_90[0][0]                  \n",
            "__________________________________________________________________________________________________\n",
            "batch_normalization_28 (BatchNo (None, 14, 14, 1024) 4096        conv2d_91[0][0]                  \n",
            "__________________________________________________________________________________________________\n",
            "activation_27 (Activation)      (None, 14, 14, 1024) 0           batch_normalization_27[0][0]     \n",
            "__________________________________________________________________________________________________\n",
            "activation_28 (Activation)      (None, 14, 14, 1024) 0           batch_normalization_28[0][0]     \n",
            "__________________________________________________________________________________________________\n",
            "add_8 (Add)                     (None, 14, 14, 1024) 0           activation_27[0][0]              \n",
            "                                                                 activation_28[0][0]              \n",
            "__________________________________________________________________________________________________\n",
            "conv2d_92 (Conv2D)              (None, 14, 14, 256)  262400      add_8[0][0]                      \n",
            "__________________________________________________________________________________________________\n",
            "batch_normalization_29 (BatchNo (None, 14, 14, 256)  1024        conv2d_92[0][0]                  \n",
            "__________________________________________________________________________________________________\n",
            "activation_29 (Activation)      (None, 14, 14, 256)  0           batch_normalization_29[0][0]     \n",
            "__________________________________________________________________________________________________\n",
            "conv2d_93 (Conv2D)              (None, 14, 14, 256)  590080      activation_29[0][0]              \n",
            "__________________________________________________________________________________________________\n",
            "batch_normalization_30 (BatchNo (None, 14, 14, 256)  1024        conv2d_93[0][0]                  \n",
            "__________________________________________________________________________________________________\n",
            "activation_30 (Activation)      (None, 14, 14, 256)  0           batch_normalization_30[0][0]     \n",
            "__________________________________________________________________________________________________\n",
            "conv2d_94 (Conv2D)              (None, 14, 14, 1024) 263168      activation_30[0][0]              \n",
            "__________________________________________________________________________________________________\n",
            "batch_normalization_31 (BatchNo (None, 14, 14, 1024) 4096        conv2d_94[0][0]                  \n",
            "__________________________________________________________________________________________________\n",
            "activation_31 (Activation)      (None, 14, 14, 1024) 0           batch_normalization_31[0][0]     \n",
            "__________________________________________________________________________________________________\n",
            "add_9 (Add)                     (None, 14, 14, 1024) 0           activation_31[0][0]              \n",
            "                                                                 add_8[0][0]                      \n",
            "__________________________________________________________________________________________________\n",
            "conv2d_95 (Conv2D)              (None, 14, 14, 256)  262400      add_9[0][0]                      \n",
            "__________________________________________________________________________________________________\n",
            "batch_normalization_32 (BatchNo (None, 14, 14, 256)  1024        conv2d_95[0][0]                  \n",
            "__________________________________________________________________________________________________\n",
            "activation_32 (Activation)      (None, 14, 14, 256)  0           batch_normalization_32[0][0]     \n",
            "__________________________________________________________________________________________________\n",
            "conv2d_96 (Conv2D)              (None, 14, 14, 256)  590080      activation_32[0][0]              \n",
            "__________________________________________________________________________________________________\n",
            "batch_normalization_33 (BatchNo (None, 14, 14, 256)  1024        conv2d_96[0][0]                  \n",
            "__________________________________________________________________________________________________\n",
            "activation_33 (Activation)      (None, 14, 14, 256)  0           batch_normalization_33[0][0]     \n",
            "__________________________________________________________________________________________________\n",
            "conv2d_97 (Conv2D)              (None, 14, 14, 1024) 263168      activation_33[0][0]              \n",
            "__________________________________________________________________________________________________\n",
            "batch_normalization_34 (BatchNo (None, 14, 14, 1024) 4096        conv2d_97[0][0]                  \n",
            "__________________________________________________________________________________________________\n",
            "activation_34 (Activation)      (None, 14, 14, 1024) 0           batch_normalization_34[0][0]     \n",
            "__________________________________________________________________________________________________\n",
            "add_10 (Add)                    (None, 14, 14, 1024) 0           activation_34[0][0]              \n",
            "                                                                 add_9[0][0]                      \n",
            "__________________________________________________________________________________________________\n",
            "conv2d_98 (Conv2D)              (None, 14, 14, 256)  262400      add_10[0][0]                     \n",
            "__________________________________________________________________________________________________\n",
            "batch_normalization_35 (BatchNo (None, 14, 14, 256)  1024        conv2d_98[0][0]                  \n",
            "__________________________________________________________________________________________________\n",
            "activation_35 (Activation)      (None, 14, 14, 256)  0           batch_normalization_35[0][0]     \n",
            "__________________________________________________________________________________________________\n",
            "conv2d_99 (Conv2D)              (None, 14, 14, 256)  590080      activation_35[0][0]              \n",
            "__________________________________________________________________________________________________\n",
            "batch_normalization_36 (BatchNo (None, 14, 14, 256)  1024        conv2d_99[0][0]                  \n",
            "__________________________________________________________________________________________________\n",
            "activation_36 (Activation)      (None, 14, 14, 256)  0           batch_normalization_36[0][0]     \n",
            "__________________________________________________________________________________________________\n",
            "conv2d_100 (Conv2D)             (None, 14, 14, 1024) 263168      activation_36[0][0]              \n",
            "__________________________________________________________________________________________________\n",
            "batch_normalization_37 (BatchNo (None, 14, 14, 1024) 4096        conv2d_100[0][0]                 \n",
            "__________________________________________________________________________________________________\n",
            "activation_37 (Activation)      (None, 14, 14, 1024) 0           batch_normalization_37[0][0]     \n",
            "__________________________________________________________________________________________________\n",
            "add_11 (Add)                    (None, 14, 14, 1024) 0           activation_37[0][0]              \n",
            "                                                                 add_10[0][0]                     \n",
            "__________________________________________________________________________________________________\n",
            "conv2d_101 (Conv2D)             (None, 14, 14, 256)  262400      add_11[0][0]                     \n",
            "__________________________________________________________________________________________________\n",
            "batch_normalization_38 (BatchNo (None, 14, 14, 256)  1024        conv2d_101[0][0]                 \n",
            "__________________________________________________________________________________________________\n",
            "activation_38 (Activation)      (None, 14, 14, 256)  0           batch_normalization_38[0][0]     \n",
            "__________________________________________________________________________________________________\n",
            "conv2d_102 (Conv2D)             (None, 14, 14, 256)  590080      activation_38[0][0]              \n",
            "__________________________________________________________________________________________________\n",
            "batch_normalization_39 (BatchNo (None, 14, 14, 256)  1024        conv2d_102[0][0]                 \n",
            "__________________________________________________________________________________________________\n",
            "activation_39 (Activation)      (None, 14, 14, 256)  0           batch_normalization_39[0][0]     \n",
            "__________________________________________________________________________________________________\n",
            "conv2d_103 (Conv2D)             (None, 14, 14, 1024) 263168      activation_39[0][0]              \n",
            "__________________________________________________________________________________________________\n",
            "batch_normalization_40 (BatchNo (None, 14, 14, 1024) 4096        conv2d_103[0][0]                 \n",
            "__________________________________________________________________________________________________\n",
            "activation_40 (Activation)      (None, 14, 14, 1024) 0           batch_normalization_40[0][0]     \n",
            "__________________________________________________________________________________________________\n",
            "add_12 (Add)                    (None, 14, 14, 1024) 0           activation_40[0][0]              \n",
            "                                                                 add_11[0][0]                     \n",
            "__________________________________________________________________________________________________\n",
            "conv2d_104 (Conv2D)             (None, 14, 14, 256)  262400      add_12[0][0]                     \n",
            "__________________________________________________________________________________________________\n",
            "batch_normalization_41 (BatchNo (None, 14, 14, 256)  1024        conv2d_104[0][0]                 \n",
            "__________________________________________________________________________________________________\n",
            "activation_41 (Activation)      (None, 14, 14, 256)  0           batch_normalization_41[0][0]     \n",
            "__________________________________________________________________________________________________\n",
            "conv2d_105 (Conv2D)             (None, 14, 14, 256)  590080      activation_41[0][0]              \n",
            "__________________________________________________________________________________________________\n",
            "batch_normalization_42 (BatchNo (None, 14, 14, 256)  1024        conv2d_105[0][0]                 \n",
            "__________________________________________________________________________________________________\n",
            "activation_42 (Activation)      (None, 14, 14, 256)  0           batch_normalization_42[0][0]     \n",
            "__________________________________________________________________________________________________\n",
            "conv2d_106 (Conv2D)             (None, 14, 14, 1024) 263168      activation_42[0][0]              \n",
            "__________________________________________________________________________________________________\n",
            "batch_normalization_43 (BatchNo (None, 14, 14, 1024) 4096        conv2d_106[0][0]                 \n",
            "__________________________________________________________________________________________________\n",
            "activation_43 (Activation)      (None, 14, 14, 1024) 0           batch_normalization_43[0][0]     \n",
            "__________________________________________________________________________________________________\n",
            "add_13 (Add)                    (None, 14, 14, 1024) 0           activation_43[0][0]              \n",
            "                                                                 add_12[0][0]                     \n",
            "__________________________________________________________________________________________________\n",
            "conv2d_107 (Conv2D)             (None, 7, 7, 512)    524800      add_13[0][0]                     \n",
            "__________________________________________________________________________________________________\n",
            "batch_normalization_44 (BatchNo (None, 7, 7, 512)    2048        conv2d_107[0][0]                 \n",
            "__________________________________________________________________________________________________\n",
            "activation_44 (Activation)      (None, 7, 7, 512)    0           batch_normalization_44[0][0]     \n",
            "__________________________________________________________________________________________________\n",
            "conv2d_108 (Conv2D)             (None, 7, 7, 512)    2359808     activation_44[0][0]              \n",
            "__________________________________________________________________________________________________\n",
            "batch_normalization_45 (BatchNo (None, 7, 7, 512)    2048        conv2d_108[0][0]                 \n",
            "__________________________________________________________________________________________________\n",
            "activation_45 (Activation)      (None, 7, 7, 512)    0           batch_normalization_45[0][0]     \n",
            "__________________________________________________________________________________________________\n",
            "conv2d_109 (Conv2D)             (None, 7, 7, 2048)   1050624     activation_45[0][0]              \n",
            "__________________________________________________________________________________________________\n",
            "conv2d_110 (Conv2D)             (None, 7, 7, 2048)   2099200     add_13[0][0]                     \n",
            "__________________________________________________________________________________________________\n",
            "batch_normalization_46 (BatchNo (None, 7, 7, 2048)   8192        conv2d_109[0][0]                 \n",
            "__________________________________________________________________________________________________\n",
            "batch_normalization_47 (BatchNo (None, 7, 7, 2048)   8192        conv2d_110[0][0]                 \n",
            "__________________________________________________________________________________________________\n",
            "activation_46 (Activation)      (None, 7, 7, 2048)   0           batch_normalization_46[0][0]     \n",
            "__________________________________________________________________________________________________\n",
            "activation_47 (Activation)      (None, 7, 7, 2048)   0           batch_normalization_47[0][0]     \n",
            "__________________________________________________________________________________________________\n",
            "add_14 (Add)                    (None, 7, 7, 2048)   0           activation_46[0][0]              \n",
            "                                                                 activation_47[0][0]              \n",
            "__________________________________________________________________________________________________\n",
            "conv2d_111 (Conv2D)             (None, 7, 7, 512)    1049088     add_14[0][0]                     \n",
            "__________________________________________________________________________________________________\n",
            "batch_normalization_48 (BatchNo (None, 7, 7, 512)    2048        conv2d_111[0][0]                 \n",
            "__________________________________________________________________________________________________\n",
            "activation_48 (Activation)      (None, 7, 7, 512)    0           batch_normalization_48[0][0]     \n",
            "__________________________________________________________________________________________________\n",
            "conv2d_112 (Conv2D)             (None, 7, 7, 512)    2359808     activation_48[0][0]              \n",
            "__________________________________________________________________________________________________\n",
            "batch_normalization_49 (BatchNo (None, 7, 7, 512)    2048        conv2d_112[0][0]                 \n",
            "__________________________________________________________________________________________________\n",
            "activation_49 (Activation)      (None, 7, 7, 512)    0           batch_normalization_49[0][0]     \n",
            "__________________________________________________________________________________________________\n",
            "conv2d_113 (Conv2D)             (None, 7, 7, 2048)   1050624     activation_49[0][0]              \n",
            "__________________________________________________________________________________________________\n",
            "batch_normalization_50 (BatchNo (None, 7, 7, 2048)   8192        conv2d_113[0][0]                 \n",
            "__________________________________________________________________________________________________\n",
            "activation_50 (Activation)      (None, 7, 7, 2048)   0           batch_normalization_50[0][0]     \n",
            "__________________________________________________________________________________________________\n",
            "add_15 (Add)                    (None, 7, 7, 2048)   0           activation_50[0][0]              \n",
            "                                                                 add_14[0][0]                     \n",
            "__________________________________________________________________________________________________\n",
            "conv2d_114 (Conv2D)             (None, 7, 7, 512)    1049088     add_15[0][0]                     \n",
            "__________________________________________________________________________________________________\n",
            "batch_normalization_51 (BatchNo (None, 7, 7, 512)    2048        conv2d_114[0][0]                 \n",
            "__________________________________________________________________________________________________\n",
            "activation_51 (Activation)      (None, 7, 7, 512)    0           batch_normalization_51[0][0]     \n",
            "__________________________________________________________________________________________________\n",
            "conv2d_115 (Conv2D)             (None, 7, 7, 512)    2359808     activation_51[0][0]              \n",
            "__________________________________________________________________________________________________\n",
            "batch_normalization_52 (BatchNo (None, 7, 7, 512)    2048        conv2d_115[0][0]                 \n",
            "__________________________________________________________________________________________________\n",
            "activation_52 (Activation)      (None, 7, 7, 512)    0           batch_normalization_52[0][0]     \n",
            "__________________________________________________________________________________________________\n",
            "conv2d_116 (Conv2D)             (None, 7, 7, 2048)   1050624     activation_52[0][0]              \n",
            "__________________________________________________________________________________________________\n",
            "batch_normalization_53 (BatchNo (None, 7, 7, 2048)   8192        conv2d_116[0][0]                 \n",
            "__________________________________________________________________________________________________\n",
            "activation_53 (Activation)      (None, 7, 7, 2048)   0           batch_normalization_53[0][0]     \n",
            "__________________________________________________________________________________________________\n",
            "add_16 (Add)                    (None, 7, 7, 2048)   0           activation_53[0][0]              \n",
            "                                                                 add_15[0][0]                     \n",
            "__________________________________________________________________________________________________\n",
            "global_average_pooling2d_2 (Glo (None, 2048)         0           add_16[0][0]                     \n",
            "__________________________________________________________________________________________________\n",
            "dense_9 (Dense)                 (None, 1000)         2049000     global_average_pooling2d_2[0][0] \n",
            "==================================================================================================\n",
            "Total params: 25,636,712\n",
            "Trainable params: 25,583,592\n",
            "Non-trainable params: 53,120\n",
            "__________________________________________________________________________________________________\n",
            "None\n"
          ],
          "name": "stdout"
        }
      ]
    },
    {
      "cell_type": "code",
      "metadata": {
        "id": "PURji7151ANY",
        "colab": {
          "base_uri": "https://localhost:8080/",
          "height": 442
        },
        "outputId": "982dbe41-f8ae-462f-ec40-6be5a5f61ae6"
      },
      "source": [
        "from keras import layers\n",
        "from keras.models import Model\n",
        "\n",
        "def lenet_5(in_shape=(32,32,1), n_classes=10, opt='sgd'):\n",
        "   in_layer = layers.Input(in_shape)\n",
        "   conv1 = layers.Conv2D(filters=20, kernel_size=5,\n",
        "                         padding='same', activation='relu')(in_layer)\n",
        "   pool1 = layers.MaxPool2D()(conv1)\n",
        "   conv2 = layers.Conv2D(filters=50, kernel_size=5,\n",
        "                         padding='same', activation='relu')(pool1)\n",
        "   pool2 = layers.MaxPool2D()(conv2)\n",
        "   flatten = layers.Flatten()(pool2)\n",
        "   dense1 = layers.Dense(500, activation='relu')(flatten)\n",
        "   preds = layers.Dense(n_classes, activation='softmax')(dense1)\n",
        "\n",
        "   model = Model(in_layer, preds)\n",
        "   model.compile(loss=\"categorical_crossentropy\", optimizer=opt,\n",
        "\t              metrics=[\"accuracy\"])\n",
        "   return model\n",
        "\n",
        "if __name__ == '__main__':\n",
        "   model = lenet_5()\n",
        "   print(model.summary())\n"
      ],
      "execution_count": null,
      "outputs": [
        {
          "output_type": "stream",
          "text": [
            "Model: \"model_4\"\n",
            "_________________________________________________________________\n",
            "Layer (type)                 Output Shape              Param #   \n",
            "=================================================================\n",
            "input_4 (InputLayer)         (None, 32, 32, 1)         0         \n",
            "_________________________________________________________________\n",
            "conv2d_117 (Conv2D)          (None, 32, 32, 20)        520       \n",
            "_________________________________________________________________\n",
            "max_pooling2d_19 (MaxPooling (None, 16, 16, 20)        0         \n",
            "_________________________________________________________________\n",
            "conv2d_118 (Conv2D)          (None, 16, 16, 50)        25050     \n",
            "_________________________________________________________________\n",
            "max_pooling2d_20 (MaxPooling (None, 8, 8, 50)          0         \n",
            "_________________________________________________________________\n",
            "flatten_4 (Flatten)          (None, 3200)              0         \n",
            "_________________________________________________________________\n",
            "dense_10 (Dense)             (None, 500)               1600500   \n",
            "_________________________________________________________________\n",
            "dense_11 (Dense)             (None, 10)                5010      \n",
            "=================================================================\n",
            "Total params: 1,631,080\n",
            "Trainable params: 1,631,080\n",
            "Non-trainable params: 0\n",
            "_________________________________________________________________\n",
            "None\n"
          ],
          "name": "stdout"
        }
      ]
    },
    {
      "cell_type": "code",
      "metadata": {
        "id": "Kb15jXP89lpD",
        "colab": {
          "base_uri": "https://localhost:8080/",
          "height": 1000
        },
        "outputId": "31f55c67-38de-431e-9f56-3b773aae4419"
      },
      "source": [
        "from keras import layers\n",
        "from keras.models import Model, Sequential\n",
        "\n",
        "from functools import partial\n",
        "\n",
        "conv3 = partial(layers.Conv2D,\n",
        "               kernel_size=3,\n",
        "               strides=1,\n",
        "               padding='same',\n",
        "               activation='relu')\n",
        "\n",
        "def block(in_tensor, filters, n_convs):\n",
        "   conv_block = in_tensor\n",
        "   for _ in range(n_convs):\n",
        "       conv_block = conv3(filters=filters)(conv_block)\n",
        "   return conv_block\n",
        "\n",
        "def _vgg(in_shape=(227,227,3),\n",
        "        n_classes=1000,\n",
        "        opt='sgd',\n",
        "        n_stages_per_blocks=[2, 2, 3, 3, 3]):\n",
        "   in_layer = layers.Input(in_shape)\n",
        "\n",
        "   block1 = block(in_layer, 64, n_stages_per_blocks[0])\n",
        "   pool1 = layers.MaxPool2D()(block1)\n",
        "   block2 = block(pool1, 128, n_stages_per_blocks[1])\n",
        "   pool2 = layers.MaxPool2D()(block2)\n",
        "   block3 = block(pool2, 256, n_stages_per_blocks[2])\n",
        "   pool3 = layers.MaxPool2D()(block3)\n",
        "   block4 = block(pool3, 512, n_stages_per_blocks[3])\n",
        "   pool4 = layers.MaxPool2D()(block4)\n",
        "   block5 = block(pool4, 512, n_stages_per_blocks[4])\n",
        "   pool5 = layers.MaxPool2D()(block5)\n",
        "   flattened = layers.GlobalAvgPool2D()(pool5)\n",
        "\n",
        "   dense1 = layers.Dense(4096, activation='relu')(flattened)\n",
        "   dense2 = layers.Dense(4096, activation='relu')(dense1)\n",
        "   preds = layers.Dense(1000, activation='softmax')(dense2)\n",
        "\n",
        "   model = Model(in_layer, preds)\n",
        "   model.compile(loss=\"categorical_crossentropy\", optimizer=opt,\n",
        "\t              metrics=[\"accuracy\"])\n",
        "   return model\n",
        "\n",
        "def vgg16(in_shape=(227,227,3), n_classes=1000, opt='sgd'):\n",
        "   return _vgg(in_shape, n_classes, opt)\n",
        "\n",
        "def vgg19(in_shape=(227,227,3), n_classes=1000, opt='sgd'):\n",
        "   return _vgg(in_shape, n_classes, opt, [2, 2, 4, 4, 4])\n",
        "\n",
        "if __name__ == '__main__':\n",
        "   model = vgg19()\n",
        "   print(model.summary())\n"
      ],
      "execution_count": null,
      "outputs": [
        {
          "output_type": "stream",
          "text": [
            "Model: \"model_5\"\n",
            "_________________________________________________________________\n",
            "Layer (type)                 Output Shape              Param #   \n",
            "=================================================================\n",
            "input_5 (InputLayer)         (None, 227, 227, 3)       0         \n",
            "_________________________________________________________________\n",
            "conv2d_119 (Conv2D)          (None, 227, 227, 64)      1792      \n",
            "_________________________________________________________________\n",
            "conv2d_120 (Conv2D)          (None, 227, 227, 64)      36928     \n",
            "_________________________________________________________________\n",
            "max_pooling2d_21 (MaxPooling (None, 113, 113, 64)      0         \n",
            "_________________________________________________________________\n",
            "conv2d_121 (Conv2D)          (None, 113, 113, 128)     73856     \n",
            "_________________________________________________________________\n",
            "conv2d_122 (Conv2D)          (None, 113, 113, 128)     147584    \n",
            "_________________________________________________________________\n",
            "max_pooling2d_22 (MaxPooling (None, 56, 56, 128)       0         \n",
            "_________________________________________________________________\n",
            "conv2d_123 (Conv2D)          (None, 56, 56, 256)       295168    \n",
            "_________________________________________________________________\n",
            "conv2d_124 (Conv2D)          (None, 56, 56, 256)       590080    \n",
            "_________________________________________________________________\n",
            "conv2d_125 (Conv2D)          (None, 56, 56, 256)       590080    \n",
            "_________________________________________________________________\n",
            "conv2d_126 (Conv2D)          (None, 56, 56, 256)       590080    \n",
            "_________________________________________________________________\n",
            "max_pooling2d_23 (MaxPooling (None, 28, 28, 256)       0         \n",
            "_________________________________________________________________\n",
            "conv2d_127 (Conv2D)          (None, 28, 28, 512)       1180160   \n",
            "_________________________________________________________________\n",
            "conv2d_128 (Conv2D)          (None, 28, 28, 512)       2359808   \n",
            "_________________________________________________________________\n",
            "conv2d_129 (Conv2D)          (None, 28, 28, 512)       2359808   \n",
            "_________________________________________________________________\n",
            "conv2d_130 (Conv2D)          (None, 28, 28, 512)       2359808   \n",
            "_________________________________________________________________\n",
            "max_pooling2d_24 (MaxPooling (None, 14, 14, 512)       0         \n",
            "_________________________________________________________________\n",
            "conv2d_131 (Conv2D)          (None, 14, 14, 512)       2359808   \n",
            "_________________________________________________________________\n",
            "conv2d_132 (Conv2D)          (None, 14, 14, 512)       2359808   \n",
            "_________________________________________________________________\n",
            "conv2d_133 (Conv2D)          (None, 14, 14, 512)       2359808   \n",
            "_________________________________________________________________\n",
            "conv2d_134 (Conv2D)          (None, 14, 14, 512)       2359808   \n",
            "_________________________________________________________________\n",
            "max_pooling2d_25 (MaxPooling (None, 7, 7, 512)         0         \n",
            "_________________________________________________________________\n",
            "global_average_pooling2d_3 ( (None, 512)               0         \n",
            "_________________________________________________________________\n",
            "dense_12 (Dense)             (None, 4096)              2101248   \n",
            "_________________________________________________________________\n",
            "dense_13 (Dense)             (None, 4096)              16781312  \n",
            "_________________________________________________________________\n",
            "dense_14 (Dense)             (None, 1000)              4097000   \n",
            "=================================================================\n",
            "Total params: 43,003,944\n",
            "Trainable params: 43,003,944\n",
            "Non-trainable params: 0\n",
            "_________________________________________________________________\n",
            "None\n"
          ],
          "name": "stdout"
        }
      ]
    },
    {
      "cell_type": "code",
      "metadata": {
        "id": "buAM7BUS-ZG9"
      },
      "source": [
        ""
      ],
      "execution_count": null,
      "outputs": []
    }
  ]
}